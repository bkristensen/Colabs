{
  "cells": [
    {
      "cell_type": "markdown",
      "metadata": {
        "id": "view-in-github",
        "colab_type": "text"
      },
      "source": [
        "<a href=\"https://colab.research.google.com/github/bkristensen/Colabs/blob/main/Teo/Hent_synonymer.ipynb\" target=\"_parent\"><img src=\"https://colab.research.google.com/assets/colab-badge.svg\" alt=\"Open In Colab\"/></a>"
      ]
    },
    {
      "cell_type": "markdown",
      "source": [
        "# Opsætning"
      ],
      "metadata": {
        "id": "g0riJD8y-hK2"
      }
    },
    {
      "cell_type": "markdown",
      "source": [
        "## Installere moduler"
      ],
      "metadata": {
        "id": "1P9pK3fgpt2R"
      }
    },
    {
      "cell_type": "code",
      "execution_count": 1,
      "metadata": {
        "colab": {
          "base_uri": "https://localhost:8080/"
        },
        "collapsed": true,
        "id": "kolwrVqauWT_",
        "outputId": "e82fc1d2-92d6-42e2-c3cc-2f9dc711ef16"
      },
      "outputs": [
        {
          "output_type": "stream",
          "name": "stdout",
          "text": [
            "Requirement already satisfied: gspread in /usr/local/lib/python3.11/dist-packages (6.2.0)\n",
            "Requirement already satisfied: oauth2client in /usr/local/lib/python3.11/dist-packages (4.1.3)\n",
            "Collecting pyppeteer\n",
            "  Downloading pyppeteer-2.0.0-py3-none-any.whl.metadata (7.1 kB)\n",
            "Requirement already satisfied: nest_asyncio in /usr/local/lib/python3.11/dist-packages (1.6.0)\n",
            "Requirement already satisfied: google-auth>=1.12.0 in /usr/local/lib/python3.11/dist-packages (from gspread) (2.38.0)\n",
            "Requirement already satisfied: google-auth-oauthlib>=0.4.1 in /usr/local/lib/python3.11/dist-packages (from gspread) (1.2.1)\n",
            "Requirement already satisfied: httplib2>=0.9.1 in /usr/local/lib/python3.11/dist-packages (from oauth2client) (0.22.0)\n",
            "Requirement already satisfied: pyasn1>=0.1.7 in /usr/local/lib/python3.11/dist-packages (from oauth2client) (0.6.1)\n",
            "Requirement already satisfied: pyasn1-modules>=0.0.5 in /usr/local/lib/python3.11/dist-packages (from oauth2client) (0.4.1)\n",
            "Requirement already satisfied: rsa>=3.1.4 in /usr/local/lib/python3.11/dist-packages (from oauth2client) (4.9)\n",
            "Requirement already satisfied: six>=1.6.1 in /usr/local/lib/python3.11/dist-packages (from oauth2client) (1.17.0)\n",
            "Collecting appdirs<2.0.0,>=1.4.3 (from pyppeteer)\n",
            "  Downloading appdirs-1.4.4-py2.py3-none-any.whl.metadata (9.0 kB)\n",
            "Requirement already satisfied: certifi>=2023 in /usr/local/lib/python3.11/dist-packages (from pyppeteer) (2025.1.31)\n",
            "Requirement already satisfied: importlib-metadata>=1.4 in /usr/local/lib/python3.11/dist-packages (from pyppeteer) (8.6.1)\n",
            "Collecting pyee<12.0.0,>=11.0.0 (from pyppeteer)\n",
            "  Downloading pyee-11.1.1-py3-none-any.whl.metadata (2.8 kB)\n",
            "Requirement already satisfied: tqdm<5.0.0,>=4.42.1 in /usr/local/lib/python3.11/dist-packages (from pyppeteer) (4.67.1)\n",
            "Collecting urllib3<2.0.0,>=1.25.8 (from pyppeteer)\n",
            "  Downloading urllib3-1.26.20-py2.py3-none-any.whl.metadata (50 kB)\n",
            "\u001b[2K     \u001b[90m━━━━━━━━━━━━━━━━━━━━━━━━━━━━━━━━━━━━━━━━\u001b[0m \u001b[32m50.1/50.1 kB\u001b[0m \u001b[31m1.9 MB/s\u001b[0m eta \u001b[36m0:00:00\u001b[0m\n",
            "\u001b[?25hCollecting websockets<11.0,>=10.0 (from pyppeteer)\n",
            "  Downloading websockets-10.4-cp311-cp311-manylinux_2_5_x86_64.manylinux1_x86_64.manylinux_2_17_x86_64.manylinux2014_x86_64.whl.metadata (6.4 kB)\n",
            "Requirement already satisfied: cachetools<6.0,>=2.0.0 in /usr/local/lib/python3.11/dist-packages (from google-auth>=1.12.0->gspread) (5.5.2)\n",
            "Requirement already satisfied: requests-oauthlib>=0.7.0 in /usr/local/lib/python3.11/dist-packages (from google-auth-oauthlib>=0.4.1->gspread) (2.0.0)\n",
            "Requirement already satisfied: pyparsing!=3.0.0,!=3.0.1,!=3.0.2,!=3.0.3,<4,>=2.4.2 in /usr/local/lib/python3.11/dist-packages (from httplib2>=0.9.1->oauth2client) (3.2.1)\n",
            "Requirement already satisfied: zipp>=3.20 in /usr/local/lib/python3.11/dist-packages (from importlib-metadata>=1.4->pyppeteer) (3.21.0)\n",
            "Requirement already satisfied: typing-extensions in /usr/local/lib/python3.11/dist-packages (from pyee<12.0.0,>=11.0.0->pyppeteer) (4.12.2)\n",
            "Requirement already satisfied: oauthlib>=3.0.0 in /usr/local/lib/python3.11/dist-packages (from requests-oauthlib>=0.7.0->google-auth-oauthlib>=0.4.1->gspread) (3.2.2)\n",
            "Requirement already satisfied: requests>=2.0.0 in /usr/local/lib/python3.11/dist-packages (from requests-oauthlib>=0.7.0->google-auth-oauthlib>=0.4.1->gspread) (2.32.3)\n",
            "Requirement already satisfied: charset-normalizer<4,>=2 in /usr/local/lib/python3.11/dist-packages (from requests>=2.0.0->requests-oauthlib>=0.7.0->google-auth-oauthlib>=0.4.1->gspread) (3.4.1)\n",
            "Requirement already satisfied: idna<4,>=2.5 in /usr/local/lib/python3.11/dist-packages (from requests>=2.0.0->requests-oauthlib>=0.7.0->google-auth-oauthlib>=0.4.1->gspread) (3.10)\n",
            "Downloading pyppeteer-2.0.0-py3-none-any.whl (82 kB)\n",
            "\u001b[2K   \u001b[90m━━━━━━━━━━━━━━━━━━━━━━━━━━━━━━━━━━━━━━━━\u001b[0m \u001b[32m82.9/82.9 kB\u001b[0m \u001b[31m3.6 MB/s\u001b[0m eta \u001b[36m0:00:00\u001b[0m\n",
            "\u001b[?25hDownloading appdirs-1.4.4-py2.py3-none-any.whl (9.6 kB)\n",
            "Downloading pyee-11.1.1-py3-none-any.whl (15 kB)\n",
            "Downloading urllib3-1.26.20-py2.py3-none-any.whl (144 kB)\n",
            "\u001b[2K   \u001b[90m━━━━━━━━━━━━━━━━━━━━━━━━━━━━━━━━━━━━━━━━\u001b[0m \u001b[32m144.2/144.2 kB\u001b[0m \u001b[31m8.9 MB/s\u001b[0m eta \u001b[36m0:00:00\u001b[0m\n",
            "\u001b[?25hDownloading websockets-10.4-cp311-cp311-manylinux_2_5_x86_64.manylinux1_x86_64.manylinux_2_17_x86_64.manylinux2014_x86_64.whl (107 kB)\n",
            "\u001b[2K   \u001b[90m━━━━━━━━━━━━━━━━━━━━━━━━━━━━━━━━━━━━━━━━\u001b[0m \u001b[32m107.4/107.4 kB\u001b[0m \u001b[31m8.9 MB/s\u001b[0m eta \u001b[36m0:00:00\u001b[0m\n",
            "\u001b[?25hInstalling collected packages: appdirs, websockets, urllib3, pyee, pyppeteer\n",
            "  Attempting uninstall: websockets\n",
            "    Found existing installation: websockets 15.0.1\n",
            "    Uninstalling websockets-15.0.1:\n",
            "      Successfully uninstalled websockets-15.0.1\n",
            "  Attempting uninstall: urllib3\n",
            "    Found existing installation: urllib3 2.3.0\n",
            "    Uninstalling urllib3-2.3.0:\n",
            "      Successfully uninstalled urllib3-2.3.0\n",
            "\u001b[31mERROR: pip's dependency resolver does not currently take into account all the packages that are installed. This behaviour is the source of the following dependency conflicts.\n",
            "google-genai 1.7.0 requires websockets<15.1.0,>=13.0.0, but you have websockets 10.4 which is incompatible.\u001b[0m\u001b[31m\n",
            "\u001b[0mSuccessfully installed appdirs-1.4.4 pyee-11.1.1 pyppeteer-2.0.0 urllib3-1.26.20 websockets-10.4\n"
          ]
        }
      ],
      "source": [
        "!pip install gspread oauth2client pyppeteer nest_asyncio\n"
      ]
    },
    {
      "cell_type": "markdown",
      "source": [
        "## Importér moduler"
      ],
      "metadata": {
        "id": "n3_vNVHOp2ka"
      }
    },
    {
      "cell_type": "code",
      "execution_count": 2,
      "metadata": {
        "collapsed": true,
        "id": "tp6fTMxbz_tJ"
      },
      "outputs": [],
      "source": [
        "import gspread\n",
        "import sqlite3\n",
        "\n",
        "import asyncio\n",
        "import nest_asyncio\n",
        "\n",
        "import pyppeteer\n",
        "\n",
        "import google.auth\n",
        "\n",
        "nest_asyncio.apply()\n"
      ]
    },
    {
      "cell_type": "markdown",
      "source": [
        "## Init"
      ],
      "metadata": {
        "id": "SBVPfDScplXO"
      }
    },
    {
      "cell_type": "code",
      "execution_count": 5,
      "metadata": {
        "id": "j8dpBONfxXU0",
        "colab": {
          "base_uri": "https://localhost:8080/"
        },
        "outputId": "35fa2764-d297-44c5-fdf7-0421f905f96f"
      },
      "outputs": [
        {
          "output_type": "stream",
          "name": "stderr",
          "text": [
            "[INFO] Starting Chromium download.\n",
            "INFO:pyppeteer.chromium_downloader:Starting Chromium download.\n",
            "100%|██████████| 183M/183M [00:06<00:00, 27.4Mb/s]\n",
            "[INFO] Beginning extraction\n",
            "INFO:pyppeteer.chromium_downloader:Beginning extraction\n",
            "[INFO] Chromium extracted to: /root/.local/share/pyppeteer/local-chromium/1181205\n",
            "INFO:pyppeteer.chromium_downloader:Chromium extracted to: /root/.local/share/pyppeteer/local-chromium/1181205\n"
          ]
        },
        {
          "output_type": "stream",
          "name": "stdout",
          "text": [
            "Browser virker!\n"
          ]
        }
      ],
      "source": [
        "await test_browser()"
      ]
    },
    {
      "cell_type": "code",
      "source": [
        "await initGoogleAccess()\n",
        "\n",
        "await initDatabase()"
      ],
      "metadata": {
        "id": "4qLDyCZoa0K1",
        "colab": {
          "base_uri": "https://localhost:8080/"
        },
        "outputId": "c6e66f6d-9b2e-4b8b-909b-ca95114ec6af"
      },
      "execution_count": 6,
      "outputs": [
        {
          "output_type": "stream",
          "name": "stdout",
          "text": [
            "Mounted at /content/drive\n"
          ]
        }
      ]
    },
    {
      "cell_type": "markdown",
      "source": [
        "## Variabler"
      ],
      "metadata": {
        "id": "Rye6Ojzv9lQd"
      }
    },
    {
      "cell_type": "code",
      "source": [
        "conf = {\n",
        "  \"drive_dir\":      \"/content/drive\",\n",
        "  \"data_dir\":       \"/content/drive/MyDrive/Data\",\n",
        "  \"database_dir\":   \"/content/drive/MyDrive/Data/Synonyms.db\"\n",
        "}\n",
        "resultater = []\n",
        "\n",
        "dbscripts = [\n",
        "\"\"\"\n",
        "CREATE TABLE IF NOT EXISTS Tags (\n",
        "    Id INTEGER PRIMARY KEY AUTOINCREMENT,\n",
        "    Tag STRING(100) UNIQUE NOT NULL\n",
        ");\n",
        "\"\"\",\n",
        "\"\"\"\n",
        "CREATE TABLE IF NOT EXISTS Synonyms (\n",
        "    Id INTEGER PRIMARY KEY AUTOINCREMENT,\n",
        "    Synonym STRING(100) UNIQUE NOT NULL\n",
        ");\n",
        "\"\"\",\n",
        "\"\"\"\n",
        "CREATE TABLE IF NOT EXISTS TagSynonyms (\n",
        "    TId INTEGER NOT NULL,\n",
        "    SId INTEGER NOT NULL,\n",
        "    PRIMARY KEY (TId, SId),\n",
        "    FOREIGN KEY (TId) REFERENCES Tags(Id),\n",
        "    FOREIGN KEY (SId) REFERENCES Synonyms(Id)\n",
        ");\n",
        "\"\"\",\n",
        "\"\"\"\n",
        "CREATE TABLE IF NOT EXISTS TagIds (\n",
        "    TId INTEGER NOT NULL,\n",
        "    TagId INTEGER NOT NULL,\n",
        "    PRIMARY KEY (TId, TagId),\n",
        "    FOREIGN KEY (TId) REFERENCES Tags(Id)\n",
        ");\n",
        "\"\"\",\n",
        "\"\"\"\n",
        "DROP VIEW IF EXISTS vTags;\n",
        "CREATE VIEW vTags AS\n",
        "SELECT\n",
        "\tt.Id AS Id,\n",
        "\tt.Tag AS TagName,\n",
        "\tti.TagId AS TagId\n",
        "FROM\n",
        "\tTags t\n",
        "\tLEFT OUTER JOIN TagIds ti\n",
        "\t\tON ti.TId = t.Id\n",
        "ORDER BY\n",
        "\tt.Tag,\n",
        "\tti.TagId;\n",
        "\"\"\",\n",
        "\"\"\"\n",
        "DROP VIEW IF EXISTS vTagSynonyms;\n",
        "CREATE VIEW vTagSynonyms AS\n",
        "SELECT\n",
        "\tt.Tag AS TagName,\n",
        "\ts.Synonym AS Synonym,\n",
        "\tt.Id AS TId,\n",
        "\tts.SId AS SId\n",
        "FROM\n",
        "\tTags t\n",
        "\tLEFT OUTER JOIN TagSynonyms ts\n",
        "\t\tON ts.TId = t.Id\n",
        "\tLEFT OUTER JOIN Synonyms s\n",
        "\t\tON s.Id = ts.SId\n",
        "ORDER BY\n",
        "\tt.Tag,\n",
        "\ts.Synonym;\n",
        "\"\"\",\n",
        "\"\"\"\n",
        "DROP VIEW IF EXISTS vTagSynonymIds;\n",
        "CREATE VIEW vTagSynonymIds AS\n",
        "SELECT\n",
        "\tti.TagId AS TagId,\n",
        "\tt.Tag AS TagName,\n",
        "\ts.Synonym AS Synonym,\n",
        "\tt.Id AS TId,\n",
        "\ts.Id AS SId\n",
        "FROM\n",
        "\tTags t\n",
        "\tLEFT OUTER JOIN TagIds ti\n",
        "\t\tON ti.TId = t.Id\n",
        "\tLEFT OUTER JOIN TagSynonyms ts\n",
        "\t\tON ts.TId = t.Id\n",
        "\tLEFT OUTER JOIN Synonyms s\n",
        "\t\tON s.Id = ts.SId\n",
        "ORDER BY\n",
        "\tt.Tag,\n",
        "\ts.Synonym;\n",
        "\"\"\",\n",
        "\"\"\"\n",
        "DROP VIEW IF EXISTS vTagConcat;\n",
        "CREATE VIEW vTagConcat AS\n",
        "SELECT\n",
        "    ti.TagId,\n",
        "    GROUP_CONCAT(t.Tag, '; ') AS Tags\n",
        "FROM TagIds ti\n",
        "JOIN Tags t ON ti.TId = t.Id\n",
        "GROUP BY ti.TagId\n",
        "ORDER BY ti.TagId, t.Tag;\n",
        "\"\"\",\n",
        "\"\"\"\n",
        "DROP VIEW IF EXISTS vSynCount;\n",
        "CREATE VIEW vSynCount AS\n",
        "SELECT\n",
        "\ts.Id AS Id,\n",
        "\ts.Synonym AS Synonym,\n",
        "\tCOUNT(*) AS TotalTags\n",
        "FROM\n",
        "\tSynonyms s\n",
        "\tJOIN TagSynonyms ts\n",
        "\t\tON ts.SId = s.Id\n",
        "\tJOIN TagIds ti\n",
        "\t\tON ti.TId = ts.TId\n",
        "GROUP BY s.Id\n",
        "ORDER BY\n",
        "\tTotalTags DESC,\n",
        "\ts.Synonym;\n",
        "\"\"\",\n",
        "\"\"\"\n",
        "DROP VIEW IF EXISTS vSynonymTagCount;\n",
        "CREATE VIEW vSynonymTagCount AS\n",
        "SELECT\n",
        "\tsc.Id,\n",
        "\tsc.Synonym,\n",
        "\tsc.TotalTags,\n",
        "\ttc.TagId,\n",
        "\ttc.Tags\n",
        "FROM\n",
        "\tvSynCount sc\n",
        "\tJOIN TagSynonyms ts\n",
        "\t\tON ts.SId = sc.Id\n",
        "\tJOIN TagIds ti\n",
        "\t\tON ti.TId = ts.TId\n",
        "\tJOIN vTagConcat tc\n",
        "\t\tON tc.TagId = ti.TagId\n",
        "ORDER BY\n",
        "\tsc.TotalTags DESC,\n",
        "\tsc.Synonym,\n",
        "\ttc.Tags;\n",
        "\"\"\"]"
      ],
      "metadata": {
        "id": "Xje0e8s48ZLC"
      },
      "execution_count": 7,
      "outputs": []
    },
    {
      "cell_type": "markdown",
      "source": [
        "## Funktioner"
      ],
      "metadata": {
        "id": "oJHCaCBBaeG6"
      }
    },
    {
      "cell_type": "code",
      "source": [
        "async def test_browser():\n",
        "  browser = await pyppeteer.launch(headless=True, args=[\"--no-sandbox\"])\n",
        "  page = await browser.newPage()\n",
        "  await page.goto(\"https://example.com\")\n",
        "  content = await page.content()\n",
        "  await browser.close()\n",
        "  print(\"Browser virker!\")\n",
        "\n",
        "async def initGoogleAccess():\n",
        "  # Godkend adgang til Google sheets\n",
        "  google.colab.auth.authenticate_user()\n",
        "  google.colab.drive.mount(conf[\"drive_dir\"])\n",
        "\n",
        "async def hent_synonymer(ordet: str) -> list:\n",
        "  synonymer: list = []\n",
        "  browser: pyppeteer.browser.Browser = await pyppeteer.launch(headless=True, args=[\"--no-sandbox\"])\n",
        "  page: pyppeteer.browser.Page = await browser.newPage()\n",
        "  url = f\"https://synonymet.dk/ord/{ordet}\"\n",
        "  await page.goto(url)\n",
        "  try:\n",
        "    await page.waitForSelector(\".wordcloud-span\", timeout=3000)\n",
        "    elementer: list = await page.querySelectorAll(\".wordcloud-span\")\n",
        "    for el in elementer:\n",
        "      tekst = (await page.evaluate('(el) => el.textContent', el)).strip()\n",
        "      if tekst:\n",
        "        synonymer.append(tekst)\n",
        "  except Exception as e:\n",
        "      print(f\"\"\"        FEJL under læsning af '{url}':\n",
        "      {e}\"\"\")\n",
        "  await browser.close()\n",
        "  return synonymer\n",
        "\n",
        "async def initDatabase():\n",
        "  # Opret tabeller\n",
        "  conn = sqlite3.connect(conf['database_dir'])\n",
        "  cursor = conn.cursor()\n",
        "  for script in dbscripts:\n",
        "    cursor.executescript(script)\n",
        "  conn.commit()\n",
        "  cursor.close()\n",
        "  conn.close()\n",
        "\n",
        "def loadSheetData():\n",
        "  # Åbn arket og vælg det første ark\n",
        "  creds, _ = google.auth.default()\n",
        "  gc = gspread.authorize(creds)\n",
        "  sheet = gc.open(\"Synonymer\").get_worksheet(2)\n",
        "  # Hent alle ord fra kolonne A, start fra række 2\n",
        "  ordliste_ids = sheet.col_values(1)[1:]\n",
        "  ordliste_tags = sheet.col_values(2)[1:]\n",
        "  return ordliste_ids, ordliste_tags\n",
        "\n",
        "def gem_ord_med_synonymer(conn: sqlite3.Connection, ordet: str, tagid: int | None):\n",
        "  # Indsæt ord (hvis det ikke allerede findes)\n",
        "  new_tag: bool = False\n",
        "  id: int | None = None\n",
        "  fdata: list | None = None\n",
        "\n",
        "  cursor: sqlite3.Cursor = conn.cursor()\n",
        "  cursor.execute(\"SELECT Id FROM Tags WHERE Tag = ?\", (ordet,))\n",
        "  fdata = cursor.fetchone()\n",
        "\n",
        "  if not fdata:\n",
        "    new_tag = True\n",
        "    print(f\" - Indsætter ny tag: {ordet}\")\n",
        "    cursor.execute(\"INSERT OR IGNORE INTO Tags (Tag) VALUES (?)\", (ordet,))\n",
        "    cursor.execute(\"SELECT Id FROM Tags WHERE Tag = ?\", (ordet,))\n",
        "    id = cursor.fetchone()[0]\n",
        "  else:\n",
        "    id = fdata[0]\n",
        "\n",
        "  if tagid:\n",
        "    cursor.execute(\"INSERT OR IGNORE INTO TagIds (TId, TagId) VALUES (?, ?)\", (id, tagid))\n",
        "\n",
        "  if new_tag:\n",
        "    print(f\"      Henter synonymer for: {ordet}\")\n",
        "    syns: list = asyncio.get_event_loop().run_until_complete(hent_synonymer(ordet))\n",
        "    if syns:\n",
        "      print(f\"         Antal synonymer for {ordet}: {len(syns)}\")\n",
        "      for syn in syns:\n",
        "        synonym = f\"{syn}\".capitalize()\n",
        "        cursor.execute(\"INSERT OR IGNORE INTO Synonyms (Synonym) VALUES (?)\", (synonym,))\n",
        "        cursor.execute(\"SELECT Id FROM Synonyms WHERE Synonym = ?\", (synonym,))\n",
        "        synonym_id = cursor.fetchone()[0]\n",
        "\n",
        "        # Link kun hvis ikke allerede linket\n",
        "        cursor.execute(\"INSERT OR IGNORE INTO TagSynonyms (TId, SId) VALUES (?, ?)\", (id, synonym_id))\n",
        "    else:\n",
        "      print(f\"        Kunne ikke finde synonymer for {ordet}\")\n",
        "  conn.commit()\n",
        "  cursor.close()\n",
        "\n"
      ],
      "metadata": {
        "id": "rsXGWVoEai0w"
      },
      "execution_count": 8,
      "outputs": []
    },
    {
      "cell_type": "markdown",
      "source": [
        "# Gem ord og synonym"
      ],
      "metadata": {
        "id": "UIUX8biGt8gf"
      }
    },
    {
      "cell_type": "code",
      "execution_count": 9,
      "metadata": {
        "id": "WSMRgZ1Q9uVW",
        "colab": {
          "base_uri": "https://localhost:8080/"
        },
        "outputId": "82317877-3e2a-4616-a652-ab04d956126c"
      },
      "outputs": [
        {
          "output_type": "stream",
          "name": "stdout",
          "text": [
            "Henter ord fra Google Sheets\n",
            "Antal ord: 514\n",
            "Indsætter ny tag: Indvielse\n",
            "Henter synonymer for: Indvielse\n",
            "Antal synonymer for Indvielse: 11\n",
            "Indsætter ny tag: Fremgang\n",
            "Henter synonymer for: Fremgang\n",
            "Antal synonymer for Fremgang: 30\n",
            "Indsætter ny tag: Ønske\n",
            "Henter synonymer for: Ønske\n",
            "Antal synonymer for Ønske: 39\n",
            "Færdig!\n"
          ]
        }
      ],
      "source": [
        "print(\" - Henter ord fra Google Sheets\")\n",
        "ordliste_ids, ordliste_tags = loadSheetData()\n",
        "\n",
        "conn = sqlite3.connect(conf['database_dir'])\n",
        "\n",
        "print(f\"      Antal ord: {len(ordliste_tags)}\")\n",
        "\n",
        "for i, ordet in enumerate(ordliste_tags):\n",
        "  # print(f\"Tjekker ord: {ordet}\")\n",
        "  try:\n",
        "    gem_ord_med_synonymer(conn, ordet.capitalize(), ordliste_ids[i])\n",
        "  except Exception as e:\n",
        "    print(f\"         FEJL under tjek af {ordet} - Fejl: {e}\")\n",
        "    continue\n",
        "\n",
        "print(\"\"\"\n",
        "      F Æ R D I G ! ! !\"\"\")\n",
        "conn.close()"
      ]
    }
  ],
  "metadata": {
    "colab": {
      "provenance": [],
      "authorship_tag": "ABX9TyPakk2fc0NlXzjLuXfLKDq+",
      "include_colab_link": true
    },
    "kernelspec": {
      "display_name": "Python 3",
      "name": "python3"
    },
    "language_info": {
      "name": "python"
    }
  },
  "nbformat": 4,
  "nbformat_minor": 0
}