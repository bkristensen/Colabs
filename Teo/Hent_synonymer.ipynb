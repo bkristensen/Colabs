{
  "cells": [
    {
      "cell_type": "markdown",
      "metadata": {
        "id": "view-in-github",
        "colab_type": "text"
      },
      "source": [
        "<a href=\"https://colab.research.google.com/github/bkristensen/Colabs/blob/main/Teo/Hent_synonymer.ipynb\" target=\"_parent\"><img src=\"https://colab.research.google.com/assets/colab-badge.svg\" alt=\"Open In Colab\"/></a>"
      ]
    },
    {
      "cell_type": "markdown",
      "source": [
        "# Installere moduler"
      ],
      "metadata": {
        "id": "1P9pK3fgpt2R"
      }
    },
    {
      "cell_type": "code",
      "execution_count": 2,
      "metadata": {
        "colab": {
          "base_uri": "https://localhost:8080/"
        },
        "collapsed": true,
        "id": "kolwrVqauWT_",
        "outputId": "fec387f9-c7e3-4b33-c78f-cd15a37a946d"
      },
      "outputs": [
        {
          "output_type": "stream",
          "name": "stdout",
          "text": [
            "Requirement already satisfied: gspread in /usr/local/lib/python3.11/dist-packages (6.2.0)\n",
            "Requirement already satisfied: oauth2client in /usr/local/lib/python3.11/dist-packages (4.1.3)\n",
            "Requirement already satisfied: pyppeteer in /usr/local/lib/python3.11/dist-packages (2.0.0)\n",
            "\u001b[31mERROR: Could not find a version that satisfies the requirement sqlite (from versions: none)\u001b[0m\u001b[31m\n",
            "\u001b[0m\u001b[31mERROR: No matching distribution found for sqlite\u001b[0m\u001b[31m\n",
            "\u001b[0m"
          ]
        }
      ],
      "source": [
        "!pip install gspread oauth2client pyppeteer nest_asyncio\n"
      ]
    },
    {
      "cell_type": "markdown",
      "source": [
        "# Importér moduler"
      ],
      "metadata": {
        "id": "n3_vNVHOp2ka"
      }
    },
    {
      "cell_type": "code",
      "execution_count": null,
      "metadata": {
        "colab": {
          "base_uri": "https://localhost:8080/",
          "height": 325
        },
        "collapsed": true,
        "id": "tp6fTMxbz_tJ",
        "outputId": "f37d195d-329f-454c-b505-d187ef315cb8"
      },
      "outputs": [
        {
          "name": "stdout",
          "output_type": "stream",
          "text": [
            "Requirement already satisfied: nest_asyncio in /usr/local/lib/python3.11/dist-packages (1.6.0)\n"
          ]
        },
        {
          "name": "stderr",
          "output_type": "stream",
          "text": [
            "[INFO] Starting Chromium download.\n",
            "INFO:pyppeteer.chromium_downloader:Starting Chromium download.\n",
            "100%|██████████| 183M/183M [00:00<00:00, 308Mb/s]\n",
            "[INFO] Beginning extraction\n",
            "INFO:pyppeteer.chromium_downloader:Beginning extraction\n",
            "[INFO] Chromium extracted to: /root/.local/share/pyppeteer/local-chromium/1181205\n",
            "INFO:pyppeteer.chromium_downloader:Chromium extracted to: /root/.local/share/pyppeteer/local-chromium/1181205\n"
          ]
        },
        {
          "ename": "TypeError",
          "evalue": "object NoneType can't be used in 'await' expression",
          "output_type": "error",
          "traceback": [
            "\u001b[0;31m---------------------------------------------------------------------------\u001b[0m",
            "\u001b[0;31mTypeError\u001b[0m                                 Traceback (most recent call last)",
            "\u001b[0;32m<ipython-input-2-7e0f3d60c66f>\u001b[0m in \u001b[0;36m<cell line: 1>\u001b[0;34m()\u001b[0m\n\u001b[1;32m      5\u001b[0m \u001b[0;32mfrom\u001b[0m \u001b[0mpyppeteer\u001b[0m \u001b[0;32mimport\u001b[0m \u001b[0mchromium_downloader\u001b[0m\u001b[0;34m\u001b[0m\u001b[0;34m\u001b[0m\u001b[0m\n\u001b[1;32m      6\u001b[0m \u001b[0;34m\u001b[0m\u001b[0m\n\u001b[0;32m----> 7\u001b[0;31m \u001b[0;32mawait\u001b[0m \u001b[0mchromium_downloader\u001b[0m\u001b[0;34m.\u001b[0m\u001b[0mdownload_chromium\u001b[0m\u001b[0;34m(\u001b[0m\u001b[0;34m)\u001b[0m\u001b[0;34m\u001b[0m\u001b[0;34m\u001b[0m\u001b[0m\n\u001b[0m",
            "\u001b[0;31mTypeError\u001b[0m: object NoneType can't be used in 'await' expression"
          ]
        }
      ],
      "source": [
        "import gspread\n",
        "import sqlite3\n",
        "\n",
        "import asyncio\n",
        "import nest_asyncio\n",
        "\n",
        "import pyppeteer\n",
        "\n",
        "import google.auth\n",
        "\n",
        "# from google.colab import auth\n",
        "\n",
        "# from pyppeteer import launch\n",
        "# from pyppeteer import chromium_downloader"
      ]
    },
    {
      "cell_type": "markdown",
      "source": [
        "### Test Pypeteer browser"
      ],
      "metadata": {
        "id": "qt9hJjecqL3Y"
      }
    },
    {
      "cell_type": "code",
      "execution_count": null,
      "metadata": {
        "colab": {
          "base_uri": "https://localhost:8080/"
        },
        "id": "Ia-utjNG03_-",
        "outputId": "e545bad8-756d-4d48-de4c-d724ce413381"
      },
      "outputs": [
        {
          "name": "stdout",
          "output_type": "stream",
          "text": [
            "Browser virker!\n"
          ]
        }
      ],
      "source": [
        "\n",
        "async def test_browser():\n",
        "    browser = await pyppeteer.launch(headless=True, args=[\"--no-sandbox\"])\n",
        "    page = await browser.newPage()\n",
        "    await page.goto(\"https://example.com\")\n",
        "    content = await page.content()\n",
        "    await browser.close()\n",
        "    print(\"Browser virker!\")\n",
        "\n",
        "await test_browser()"
      ]
    },
    {
      "cell_type": "markdown",
      "source": [
        "# Init"
      ],
      "metadata": {
        "id": "SBVPfDScplXO"
      }
    },
    {
      "cell_type": "markdown",
      "source": [
        "### Opret adgang til Google drev"
      ],
      "metadata": {
        "id": "KE35oNs0qwwp"
      }
    },
    {
      "cell_type": "code",
      "execution_count": null,
      "metadata": {
        "id": "j8dpBONfxXU0"
      },
      "outputs": [],
      "source": [
        "# Godkend adgang til Google sheets\n",
        "google.colab.auth.authenticate_user()\n",
        "\n",
        "# Brug google.auth i stedet for oauth2client\n",
        "creds, _ = google.auth.default()\n",
        "gc = gspread.authorize(creds)"
      ]
    },
    {
      "cell_type": "markdown",
      "source": [
        "### Hent Pyppeter browser pakke"
      ],
      "metadata": {
        "id": "PgA2Yo9PrPLA"
      }
    },
    {
      "cell_type": "code",
      "source": [
        "nest_asyncio.apply()\n",
        "await pyppeteer.chromium_downloader.download_chromium()"
      ],
      "metadata": {
        "id": "9bUCn1ipoTVA"
      },
      "execution_count": null,
      "outputs": []
    },
    {
      "cell_type": "markdown",
      "source": [
        "### Opret SQLite database"
      ],
      "metadata": {
        "id": "tn77SpSpqAOu"
      }
    },
    {
      "cell_type": "code",
      "execution_count": null,
      "metadata": {
        "id": "lt-ZumjlwbLQ"
      },
      "outputs": [],
      "source": [
        "# Opret forbindelse til SQLite-database\n",
        "conn = sqlite3.connect(\"synonymer.db\")\n",
        "cursor = conn.cursor()\n",
        "\n",
        "# Opret tabeller\n",
        "cursor.executescript(\"\"\"\n",
        "CREATE TABLE IF NOT EXISTS Tags (\n",
        "    TagId INTEGER PRIMARY KEY AUTOINCREMENT,\n",
        "    Tag STRING(100) UNIQUE NOT NULL\n",
        ");\n",
        "\n",
        "CREATE TABLE IF NOT EXISTS Synonyms (\n",
        "    SynonymId INTEGER PRIMARY KEY AUTOINCREMENT,\n",
        "    Text STRING(100) UNIQUE NOT NULL\n",
        ");\n",
        "\n",
        "CREATE TABLE IF NOT EXISTS TagSynonyms (\n",
        "    TagId INTEGER NOT NULL,\n",
        "    SynonymId INTEGER NOT NULL,\n",
        "    PRIMARY KEY (TagId, SynonymId),\n",
        "    FOREIGN KEY (TagId) REFERENCES Tags(TagId),\n",
        "    FOREIGN KEY (SynonymId) REFERENCES Synonyms(SynonymId)\n",
        ");\n",
        "\"\"\")\n",
        "\n",
        "conn.commit()\n"
      ]
    },
    {
      "cell_type": "code",
      "execution_count": null,
      "metadata": {
        "id": "pHf3Gb2F9xJv"
      },
      "outputs": [],
      "source": [
        "\n",
        "async def hent_synonymer(ordet):\n",
        "    url = f\"https://synonymet.dk/ord/{ordet}\"\n",
        "    browser = await launch(headless=True, args=[\"--no-sandbox\"])\n",
        "    page = await browser.newPage()\n",
        "    await page.goto(url)\n",
        "\n",
        "    try:\n",
        "        await page.waitForSelector(\".wordcloud-span\", timeout=3000)\n",
        "        elementer = await page.querySelectorAll(\".wordcloud-span\")\n",
        "        synonymer = []\n",
        "        for el in elementer:\n",
        "            tekst = await page.evaluate('(el) => el.textContent', el)\n",
        "            if tekst.strip():\n",
        "                synonymer.append(tekst.strip())\n",
        "    except:\n",
        "        synonymer = []\n",
        "\n",
        "    await browser.close()\n",
        "    return synonymer"
      ]
    },
    {
      "cell_type": "code",
      "execution_count": null,
      "metadata": {
        "id": "sJtveWxs1tcY"
      },
      "outputs": [],
      "source": [
        "# Åbn arket og vælg det første ark\n",
        "sheet = gc.open(\"Synonymer\").sheet1\n",
        "\n",
        "# Hent alle ord fra kolonne A, start fra række 2\n",
        "ordliste = sheet.col_values(1)[1:]"
      ]
    },
    {
      "cell_type": "code",
      "execution_count": null,
      "metadata": {
        "colab": {
          "background_save": true,
          "base_uri": "https://localhost:8080/"
        },
        "id": "WSMRgZ1Q9uVW",
        "outputId": "4c9a9bca-895b-4454-b224-be824e8c3b37"
      },
      "outputs": [
        {
          "name": "stdout",
          "output_type": "stream",
          "text": [
            "Henter synonymer for: Adfærd\n",
            "Henter synonymer for: Adlyde\n",
            "Henter synonymer for: Advarsel\n",
            "Henter synonymer for: Afgud\n",
            "Henter synonymer for: Afkom\n",
            "Henter synonymer for: Afstand\n",
            "Henter synonymer for: Aftale\n",
            "Henter synonymer for: Agressiv\n",
            "Henter synonymer for: Alderdom\n",
            "Henter synonymer for: Alkohol\n",
            "Henter synonymer for: Anderledes\n",
            "Henter synonymer for: Anger\n",
            "Henter synonymer for: Angst\n",
            "Henter synonymer for: Ansvar\n",
            "Henter synonymer for: Arbejdspunkt\n",
            "Henter synonymer for: Artikel\n",
            "Henter synonymer for: Arve\n",
            "Henter synonymer for: Bagtaler\n",
            "Henter synonymer for: Barmhjertig\n",
            "Henter synonymer for: Begivenhed\n",
            "Henter synonymer for: Begærlig\n",
            "Henter synonymer for: Behov\n",
            "Henter synonymer for: Bekymring\n",
            "Henter synonymer for: Beskeden\n",
            "Henter synonymer for: Beskyttelse\n",
            "Henter synonymer for: Betydning\n",
            "Henter synonymer for: Bibelen\n",
            "Henter synonymer for: Bibellæsning\n",
            "Henter synonymer for: Bidrag\n",
            "Henter synonymer for: Billedanalyse\n",
            "Henter synonymer for: Billeddyrkelse\n",
            "Henter synonymer for: Blasfemi\n",
            "Henter synonymer for: Blod\n",
            "Henter synonymer for: Brød\n",
            "Henter synonymer for: Brødre\n",
            "Henter synonymer for: Byrde\n",
            "Henter synonymer for: Bøn\n",
            "Henter synonymer for: Børn\n",
            "Henter synonymer for: Dag\n",
            "Henter synonymer for: Dage\n",
            "Henter synonymer for: Dagstekst\n",
            "Henter synonymer for: Dans\n",
            "Henter synonymer for: Det\n",
            "Henter synonymer for: Detalje\n",
            "Henter synonymer for: Digt\n",
            "Henter synonymer for: Dom\n",
            "Henter synonymer for: Dommere\n",
            "Henter synonymer for: Domsbudskab\n",
            "Henter synonymer for: Dyr\n",
            "Henter synonymer for: Dyrebar\n",
            "Henter synonymer for: Dæmoner\n",
            "Henter synonymer for: Død\n",
            "Henter synonymer for: Dømmekraft\n",
            "Henter synonymer for: Dåb\n",
            "Henter synonymer for: Dårlig\n",
            "Henter synonymer for: Dårlig frugt\n",
            "Henter synonymer for: Dårlige\n",
            "Henter synonymer for: Dårlige vaner\n",
            "Henter synonymer for: Efterkommere\n",
            "Henter synonymer for: Efterligne\n",
            "Henter synonymer for: Egenskab\n",
            "Henter synonymer for: Egnet\n",
            "Henter synonymer for: Egoisme\n",
            "Henter synonymer for: Eksempel\n",
            "Henter synonymer for: Empati\n",
            "Henter synonymer for: Engle\n",
            "Henter synonymer for: Enhed\n",
            "Henter synonymer for: Enkelt\n",
            "Henter synonymer for: Ensomhed\n",
            "Henter synonymer for: Erfaring\n",
            "Henter synonymer for: Evighed\n",
            "Henter synonymer for: Evigt\n",
            "Henter synonymer for: Evigt liv\n",
            "Henter synonymer for: Falsk religion\n",
            "Henter synonymer for: Familie\n",
            "Henter synonymer for: Familieaften\n",
            "Henter synonymer for: Fangenskab\n",
            "Henter synonymer for: Fattig\n",
            "Henter synonymer for: Fejle\n",
            "Henter synonymer for: Fjende\n",
            "Henter synonymer for: Fjerne\n",
            "Henter synonymer for: Flittig\n",
            "Henter synonymer for: Fokus\n",
            "Henter synonymer for: Foran\n",
            "Henter synonymer for: Forberedt\n",
            "Henter synonymer for: Forfølgelse\n",
            "Henter synonymer for: Forkerte\n",
            "Henter synonymer for: Forkynd\n",
            "Henter synonymer for: Formål\n",
            "Henter synonymer for: Fornuftig\n",
            "Henter synonymer for: Forpligte\n",
            "Henter synonymer for: Forræder\n",
            "Henter synonymer for: Forsigtig\n",
            "Henter synonymer for: Forskrifter\n",
            "Henter synonymer for: Forsvare\n",
            "Henter synonymer for: Forsørge\n",
            "Henter synonymer for: Fortsætte\n",
            "Henter synonymer for: Frafald\n",
            "Henter synonymer for: Fred\n",
            "Henter synonymer for: Fredsstiftende\n",
            "Henter synonymer for: Frelse\n",
            "Henter synonymer for: Frelsesbudskab\n",
            "Henter synonymer for: Fri\n",
            "Henter synonymer for: Fri vilje\n",
            "Henter synonymer for: Frihed\n",
            "Henter synonymer for: Fristelser\n",
            "Henter synonymer for: Frugt\n",
            "Henter synonymer for: Frugter\n",
            "Henter synonymer for: Fråse\n",
            "Henter synonymer for: Fuldføre\n",
            "Henter synonymer for: Fuldkommen\n",
            "Henter synonymer for: Fundament\n",
            "Henter synonymer for: Fysisk\n",
            "Henter synonymer for: Fysisk renlig\n",
            "Henter synonymer for: Fælde\n",
            "Henter synonymer for: Fødevare\n",
            "Henter synonymer for: Gamle\n",
            "Henter synonymer for: Gamle verden\n",
            "Henter synonymer for: Gavmild\n",
            "Henter synonymer for: Gavn\n",
            "Henter synonymer for: Gengæld\n",
            "Henter synonymer for: Genkomst\n",
            "Henter synonymer for: Genløsningsoffer\n",
            "Henter synonymer for: Gennemføre\n",
            "Henter synonymer for: Genvinde\n",
            "Henter synonymer for: Glæde\n",
            "Henter synonymer for: Gode\n",
            "Henter synonymer for: Gode\n",
            "Henter synonymer for: Gode frugter\n",
            "Henter synonymer for: Gode vaner\n",
            "Henter synonymer for: Godhed\n",
            "Henter synonymer for: Godkendt\n",
            "Henter synonymer for: Grimt\n",
            "Henter synonymer for: Grimt sprog\n",
            "Henter synonymer for: Grundlæren\n",
            "Henter synonymer for: Græde\n",
            "Henter synonymer for: Gudhengiven\n",
            "Henter synonymer for: Guds\n",
            "Henter synonymer for: Guds fred\n",
            "Henter synonymer for: Guds krav\n",
            "Henter synonymer for: Guds magt\n",
            "Henter synonymer for: Guds navn\n",
            "Henter synonymer for: Guds personlighed\n",
            "Henter synonymer for: Guds rige\n",
            "Henter synonymer for: Guds storhed\n",
            "Henter synonymer for: Gudsbespotte\n",
            "Henter synonymer for: Gudsfrygt\n",
            "Henter synonymer for: Gæstfri\n",
            "Henter synonymer for: Går\n",
            "Henter synonymer for: Går foran\n",
            "Henter synonymer for: Had\n",
            "Henter synonymer for: Hade\n",
            "Henter synonymer for: Hade det forkerte\n",
            "Henter synonymer for: Handel\n",
            "Henter synonymer for: Handlinger\n",
            "Henter synonymer for: Havesyg\n",
            "Henter synonymer for: Helbred\n",
            "Henter synonymer for: Hellig\n",
            "Henter synonymer for: Hellig tjeneste\n",
            "Henter synonymer for: Hellige\n",
            "Henter synonymer for: Hellige ånd\n",
            "Henter synonymer for: Helvede\n",
            "Henter synonymer for: Himlen\n",
            "Henter synonymer for: Historie\n",
            "Henter synonymer for: Hjertet\n",
            "Henter synonymer for: Humor\n",
            "Henter synonymer for: Hungersnød\n",
            "Henter synonymer for: Husker\n",
            "Henter synonymer for: Hvorfor\n",
            "Henter synonymer for: Hykleri\n",
            "Henter synonymer for: Hævn\n",
            "Henter synonymer for: Højtider\n",
            "Henter synonymer for: Høre\n",
            "Henter synonymer for: Håb\n",
            "Henter synonymer for: Håbet\n",
            "Henter synonymer for: Hånd\n",
            "Henter synonymer for: Idol\n",
            "Henter synonymer for: Illoyalitet\n",
            "Henter synonymer for: Indbakke\n",
            "Henter synonymer for: Indhold\n",
            "Henter synonymer for: Indsigt\n",
            "Henter synonymer for: Indstilling\n",
            "Henter synonymer for: Inspireret\n",
            "Henter synonymer for: Intention\n",
            "Henter synonymer for: Isolation\n",
            "Henter synonymer for: Israel\n",
            "Henter synonymer for: Jehova\n",
            "Henter synonymer for: Jehovas dag\n",
            "Henter synonymer for: Jehovas hånd\n",
            "Henter synonymer for: Jehovas vidner\n",
            "Henter synonymer for: Jerusalem\n",
            "Henter synonymer for: Jesus\n",
            "Henter synonymer for: Jesus genkomst\n",
            "Henter synonymer for: Jesus liv\n",
            "Henter synonymer for: Jorden\n",
            "Henter synonymer for: Juble\n",
            "Henter synonymer for: Jøder\n",
            "Henter synonymer for: Kamp\n",
            "Henter synonymer for: Karriere\n",
            "Henter synonymer for: Katastrofe\n",
            "Henter synonymer for: Klager\n",
            "Henter synonymer for: Kloge\n",
            "Henter synonymer for: Klogskab\n",
            "Henter synonymer for: Knuse\n",
            "Henter synonymer for: Kommende\n",
            "Henter synonymer for: Kommercielle\n",
            "Henter synonymer for: Kommercielle handel system\n",
            "Henter synonymer for: Kommunikation\n",
            "Henter synonymer for: Konge\n",
            "Henter synonymer for: Kraft\n",
            "Henter synonymer for: Krav\n"
          ]
        },
        {
          "ename": "APIError",
          "evalue": "APIError: [429]: Quota exceeded for quota metric 'Write requests' and limit 'Write requests per minute' of service 'sheets.googleapis.com' for consumer 'project_number:522309567947'.",
          "output_type": "error",
          "traceback": [
            "\u001b[0;31m---------------------------------------------------------------------------\u001b[0m",
            "\u001b[0;31mAPIError\u001b[0m                                  Traceback (most recent call last)",
            "\u001b[0;32m<ipython-input-12-b4bb2642fca4>\u001b[0m in \u001b[0;36m<cell line: 0>\u001b[0;34m()\u001b[0m\n\u001b[1;32m      7\u001b[0m       \u001b[0;32mfor\u001b[0m \u001b[0msyn\u001b[0m \u001b[0;32min\u001b[0m \u001b[0msyns\u001b[0m\u001b[0;34m:\u001b[0m\u001b[0;34m\u001b[0m\u001b[0;34m\u001b[0m\u001b[0m\n\u001b[1;32m      8\u001b[0m         \u001b[0mkol\u001b[0m \u001b[0;34m+=\u001b[0m \u001b[0;36m1\u001b[0m\u001b[0;34m\u001b[0m\u001b[0;34m\u001b[0m\u001b[0m\n\u001b[0;32m----> 9\u001b[0;31m         \u001b[0msheet\u001b[0m\u001b[0;34m.\u001b[0m\u001b[0mupdate_cell\u001b[0m\u001b[0;34m(\u001b[0m\u001b[0mi\u001b[0m \u001b[0;34m+\u001b[0m \u001b[0;36m2\u001b[0m\u001b[0;34m,\u001b[0m \u001b[0mkol\u001b[0m\u001b[0;34m,\u001b[0m \u001b[0msyn\u001b[0m\u001b[0;34m)\u001b[0m\u001b[0;34m\u001b[0m\u001b[0;34m\u001b[0m\u001b[0m\n\u001b[0m\u001b[1;32m     10\u001b[0m \u001b[0;34m\u001b[0m\u001b[0m\n\u001b[1;32m     11\u001b[0m     \u001b[0mtekst\u001b[0m \u001b[0;34m=\u001b[0m \u001b[0;34m\", \"\u001b[0m\u001b[0;34m.\u001b[0m\u001b[0mjoin\u001b[0m\u001b[0;34m(\u001b[0m\u001b[0msyns\u001b[0m\u001b[0;34m)\u001b[0m \u001b[0;32mif\u001b[0m \u001b[0msyns\u001b[0m \u001b[0;32melse\u001b[0m \u001b[0;34m\"Ingen synonymer fundet\"\u001b[0m\u001b[0;34m\u001b[0m\u001b[0;34m\u001b[0m\u001b[0m\n",
            "\u001b[0;32m/usr/local/lib/python3.11/dist-packages/gspread/worksheet.py\u001b[0m in \u001b[0;36mupdate_cell\u001b[0;34m(self, row, col, value)\u001b[0m\n\u001b[1;32m    754\u001b[0m         \u001b[0mrange_name\u001b[0m \u001b[0;34m=\u001b[0m \u001b[0mabsolute_range_name\u001b[0m\u001b[0;34m(\u001b[0m\u001b[0mself\u001b[0m\u001b[0;34m.\u001b[0m\u001b[0mtitle\u001b[0m\u001b[0;34m,\u001b[0m \u001b[0mrowcol_to_a1\u001b[0m\u001b[0;34m(\u001b[0m\u001b[0mrow\u001b[0m\u001b[0;34m,\u001b[0m \u001b[0mcol\u001b[0m\u001b[0;34m)\u001b[0m\u001b[0;34m)\u001b[0m\u001b[0;34m\u001b[0m\u001b[0;34m\u001b[0m\u001b[0m\n\u001b[1;32m    755\u001b[0m \u001b[0;34m\u001b[0m\u001b[0m\n\u001b[0;32m--> 756\u001b[0;31m         data = self.client.values_update(\n\u001b[0m\u001b[1;32m    757\u001b[0m             \u001b[0mself\u001b[0m\u001b[0;34m.\u001b[0m\u001b[0mspreadsheet_id\u001b[0m\u001b[0;34m,\u001b[0m\u001b[0;34m\u001b[0m\u001b[0;34m\u001b[0m\u001b[0m\n\u001b[1;32m    758\u001b[0m             \u001b[0mrange_name\u001b[0m\u001b[0;34m,\u001b[0m\u001b[0;34m\u001b[0m\u001b[0;34m\u001b[0m\u001b[0m\n",
            "\u001b[0;32m/usr/local/lib/python3.11/dist-packages/gspread/http_client.py\u001b[0m in \u001b[0;36mvalues_update\u001b[0;34m(self, id, range, params, body)\u001b[0m\n\u001b[1;32m    171\u001b[0m         \"\"\"\n\u001b[1;32m    172\u001b[0m         \u001b[0murl\u001b[0m \u001b[0;34m=\u001b[0m \u001b[0mSPREADSHEET_VALUES_URL\u001b[0m \u001b[0;34m%\u001b[0m \u001b[0;34m(\u001b[0m\u001b[0mid\u001b[0m\u001b[0;34m,\u001b[0m \u001b[0mquote\u001b[0m\u001b[0;34m(\u001b[0m\u001b[0mrange\u001b[0m\u001b[0;34m)\u001b[0m\u001b[0;34m)\u001b[0m\u001b[0;34m\u001b[0m\u001b[0;34m\u001b[0m\u001b[0m\n\u001b[0;32m--> 173\u001b[0;31m         \u001b[0mr\u001b[0m \u001b[0;34m=\u001b[0m \u001b[0mself\u001b[0m\u001b[0;34m.\u001b[0m\u001b[0mrequest\u001b[0m\u001b[0;34m(\u001b[0m\u001b[0;34m\"put\"\u001b[0m\u001b[0;34m,\u001b[0m \u001b[0murl\u001b[0m\u001b[0;34m,\u001b[0m \u001b[0mparams\u001b[0m\u001b[0;34m=\u001b[0m\u001b[0mparams\u001b[0m\u001b[0;34m,\u001b[0m \u001b[0mjson\u001b[0m\u001b[0;34m=\u001b[0m\u001b[0mbody\u001b[0m\u001b[0;34m)\u001b[0m\u001b[0;34m\u001b[0m\u001b[0;34m\u001b[0m\u001b[0m\n\u001b[0m\u001b[1;32m    174\u001b[0m         \u001b[0;32mreturn\u001b[0m \u001b[0mr\u001b[0m\u001b[0;34m.\u001b[0m\u001b[0mjson\u001b[0m\u001b[0;34m(\u001b[0m\u001b[0;34m)\u001b[0m\u001b[0;34m\u001b[0m\u001b[0;34m\u001b[0m\u001b[0m\n\u001b[1;32m    175\u001b[0m \u001b[0;34m\u001b[0m\u001b[0m\n",
            "\u001b[0;32m/usr/local/lib/python3.11/dist-packages/gspread/http_client.py\u001b[0m in \u001b[0;36mrequest\u001b[0;34m(self, method, endpoint, params, data, json, files, headers)\u001b[0m\n\u001b[1;32m    126\u001b[0m             \u001b[0;32mreturn\u001b[0m \u001b[0mresponse\u001b[0m\u001b[0;34m\u001b[0m\u001b[0;34m\u001b[0m\u001b[0m\n\u001b[1;32m    127\u001b[0m         \u001b[0;32melse\u001b[0m\u001b[0;34m:\u001b[0m\u001b[0;34m\u001b[0m\u001b[0;34m\u001b[0m\u001b[0m\n\u001b[0;32m--> 128\u001b[0;31m             \u001b[0;32mraise\u001b[0m \u001b[0mAPIError\u001b[0m\u001b[0;34m(\u001b[0m\u001b[0mresponse\u001b[0m\u001b[0;34m)\u001b[0m\u001b[0;34m\u001b[0m\u001b[0;34m\u001b[0m\u001b[0m\n\u001b[0m\u001b[1;32m    129\u001b[0m \u001b[0;34m\u001b[0m\u001b[0m\n\u001b[1;32m    130\u001b[0m     \u001b[0;32mdef\u001b[0m \u001b[0mbatch_update\u001b[0m\u001b[0;34m(\u001b[0m\u001b[0mself\u001b[0m\u001b[0;34m,\u001b[0m \u001b[0mid\u001b[0m\u001b[0;34m:\u001b[0m \u001b[0mstr\u001b[0m\u001b[0;34m,\u001b[0m \u001b[0mbody\u001b[0m\u001b[0;34m:\u001b[0m \u001b[0mOptional\u001b[0m\u001b[0;34m[\u001b[0m\u001b[0mMapping\u001b[0m\u001b[0;34m[\u001b[0m\u001b[0mstr\u001b[0m\u001b[0;34m,\u001b[0m \u001b[0mAny\u001b[0m\u001b[0;34m]\u001b[0m\u001b[0;34m]\u001b[0m\u001b[0;34m)\u001b[0m \u001b[0;34m->\u001b[0m \u001b[0mAny\u001b[0m\u001b[0;34m:\u001b[0m\u001b[0;34m\u001b[0m\u001b[0;34m\u001b[0m\u001b[0m\n",
            "\u001b[0;31mAPIError\u001b[0m: APIError: [429]: Quota exceeded for quota metric 'Write requests' and limit 'Write requests per minute' of service 'sheets.googleapis.com' for consumer 'project_number:522309567947'."
          ]
        }
      ],
      "source": [
        "resultater = []\n",
        "for i, ordet in enumerate(ordliste):\n",
        "    kol = 2\n",
        "    print(f\"Henter synonymer for: {ordet}\")\n",
        "    syns = asyncio.get_event_loop().run_until_complete(hent_synonymer(ordet))\n",
        "    if syns:\n",
        "      for syn in syns:\n",
        "        kol += 1\n",
        "        sheet.update_cell(i + 2, kol, syn)\n",
        "\n",
        "    tekst = \", \".join(syns) if syns else \"Ingen synonymer fundet\"\n",
        "\n",
        "    resultater.append(tekst)\n",
        "\n",
        "    # Skriv i kolonne B (række i + 2 pga. overskrift)\n",
        "    sheet.update_cell(i + 2, 2, tekst)"
      ]
    }
  ],
  "metadata": {
    "colab": {
      "provenance": [],
      "authorship_tag": "ABX9TyMaGP2oHlwNrVniakDaQUKo",
      "include_colab_link": true
    },
    "kernelspec": {
      "display_name": "Python 3",
      "name": "python3"
    },
    "language_info": {
      "name": "python"
    }
  },
  "nbformat": 4,
  "nbformat_minor": 0
}