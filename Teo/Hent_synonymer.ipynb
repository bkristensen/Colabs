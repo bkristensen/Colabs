{
  "cells": [
    {
      "cell_type": "markdown",
      "metadata": {
        "id": "view-in-github",
        "colab_type": "text"
      },
      "source": [
        "<a href=\"https://colab.research.google.com/github/bkristensen/Colabs/blob/main/Teo/Hent_synonymer.ipynb\" target=\"_parent\"><img src=\"https://colab.research.google.com/assets/colab-badge.svg\" alt=\"Open In Colab\"/></a>"
      ]
    },
    {
      "cell_type": "markdown",
      "source": [
        "# Installere moduler"
      ],
      "metadata": {
        "id": "1P9pK3fgpt2R"
      }
    },
    {
      "cell_type": "code",
      "execution_count": null,
      "metadata": {
        "colab": {
          "base_uri": "https://localhost:8080/"
        },
        "collapsed": true,
        "id": "kolwrVqauWT_",
        "outputId": "be19f0ed-551e-4e4b-9ca8-73763cb86869"
      },
      "outputs": [
        {
          "output_type": "stream",
          "name": "stdout",
          "text": [
            "Requirement already satisfied: gspread in /usr/local/lib/python3.11/dist-packages (6.2.0)\n",
            "Requirement already satisfied: oauth2client in /usr/local/lib/python3.11/dist-packages (4.1.3)\n",
            "Requirement already satisfied: pyppeteer in /usr/local/lib/python3.11/dist-packages (2.0.0)\n",
            "Requirement already satisfied: nest_asyncio in /usr/local/lib/python3.11/dist-packages (1.6.0)\n",
            "Requirement already satisfied: google-auth>=1.12.0 in /usr/local/lib/python3.11/dist-packages (from gspread) (2.38.0)\n",
            "Requirement already satisfied: google-auth-oauthlib>=0.4.1 in /usr/local/lib/python3.11/dist-packages (from gspread) (1.2.1)\n",
            "Requirement already satisfied: httplib2>=0.9.1 in /usr/local/lib/python3.11/dist-packages (from oauth2client) (0.22.0)\n",
            "Requirement already satisfied: pyasn1>=0.1.7 in /usr/local/lib/python3.11/dist-packages (from oauth2client) (0.6.1)\n",
            "Requirement already satisfied: pyasn1-modules>=0.0.5 in /usr/local/lib/python3.11/dist-packages (from oauth2client) (0.4.1)\n",
            "Requirement already satisfied: rsa>=3.1.4 in /usr/local/lib/python3.11/dist-packages (from oauth2client) (4.9)\n",
            "Requirement already satisfied: six>=1.6.1 in /usr/local/lib/python3.11/dist-packages (from oauth2client) (1.17.0)\n",
            "Requirement already satisfied: appdirs<2.0.0,>=1.4.3 in /usr/local/lib/python3.11/dist-packages (from pyppeteer) (1.4.4)\n",
            "Requirement already satisfied: certifi>=2023 in /usr/local/lib/python3.11/dist-packages (from pyppeteer) (2025.1.31)\n",
            "Requirement already satisfied: importlib-metadata>=1.4 in /usr/local/lib/python3.11/dist-packages (from pyppeteer) (8.6.1)\n",
            "Requirement already satisfied: pyee<12.0.0,>=11.0.0 in /usr/local/lib/python3.11/dist-packages (from pyppeteer) (11.1.1)\n",
            "Requirement already satisfied: tqdm<5.0.0,>=4.42.1 in /usr/local/lib/python3.11/dist-packages (from pyppeteer) (4.67.1)\n",
            "Requirement already satisfied: urllib3<2.0.0,>=1.25.8 in /usr/local/lib/python3.11/dist-packages (from pyppeteer) (1.26.20)\n",
            "Requirement already satisfied: websockets<11.0,>=10.0 in /usr/local/lib/python3.11/dist-packages (from pyppeteer) (10.4)\n",
            "Requirement already satisfied: cachetools<6.0,>=2.0.0 in /usr/local/lib/python3.11/dist-packages (from google-auth>=1.12.0->gspread) (5.5.2)\n",
            "Requirement already satisfied: requests-oauthlib>=0.7.0 in /usr/local/lib/python3.11/dist-packages (from google-auth-oauthlib>=0.4.1->gspread) (2.0.0)\n",
            "Requirement already satisfied: pyparsing!=3.0.0,!=3.0.1,!=3.0.2,!=3.0.3,<4,>=2.4.2 in /usr/local/lib/python3.11/dist-packages (from httplib2>=0.9.1->oauth2client) (3.2.1)\n",
            "Requirement already satisfied: zipp>=3.20 in /usr/local/lib/python3.11/dist-packages (from importlib-metadata>=1.4->pyppeteer) (3.21.0)\n",
            "Requirement already satisfied: typing-extensions in /usr/local/lib/python3.11/dist-packages (from pyee<12.0.0,>=11.0.0->pyppeteer) (4.12.2)\n",
            "Requirement already satisfied: oauthlib>=3.0.0 in /usr/local/lib/python3.11/dist-packages (from requests-oauthlib>=0.7.0->google-auth-oauthlib>=0.4.1->gspread) (3.2.2)\n",
            "Requirement already satisfied: requests>=2.0.0 in /usr/local/lib/python3.11/dist-packages (from requests-oauthlib>=0.7.0->google-auth-oauthlib>=0.4.1->gspread) (2.32.3)\n",
            "Requirement already satisfied: charset-normalizer<4,>=2 in /usr/local/lib/python3.11/dist-packages (from requests>=2.0.0->requests-oauthlib>=0.7.0->google-auth-oauthlib>=0.4.1->gspread) (3.4.1)\n",
            "Requirement already satisfied: idna<4,>=2.5 in /usr/local/lib/python3.11/dist-packages (from requests>=2.0.0->requests-oauthlib>=0.7.0->google-auth-oauthlib>=0.4.1->gspread) (3.10)\n"
          ]
        }
      ],
      "source": [
        "!pip install gspread oauth2client pyppeteer nest_asyncio\n"
      ]
    },
    {
      "cell_type": "markdown",
      "source": [
        "# Importér moduler"
      ],
      "metadata": {
        "id": "n3_vNVHOp2ka"
      }
    },
    {
      "cell_type": "code",
      "execution_count": null,
      "metadata": {
        "collapsed": true,
        "id": "tp6fTMxbz_tJ"
      },
      "outputs": [],
      "source": [
        "import gspread\n",
        "import sqlite3\n",
        "\n",
        "import asyncio\n",
        "import nest_asyncio\n",
        "\n",
        "import pyppeteer\n",
        "\n",
        "import google.auth\n",
        "\n",
        "# from google.colab import auth\n",
        "\n",
        "# from pyppeteer import launch\n",
        "# from pyppeteer import chromium_downloader"
      ]
    },
    {
      "cell_type": "markdown",
      "source": [
        "# Config"
      ],
      "metadata": {
        "id": "QGk_mf7qwyU1"
      }
    },
    {
      "cell_type": "code",
      "source": [
        "conf = {\n",
        "  \"drive_dir\":      \"/content/drive\",\n",
        "  \"data_dir\":       \"/content/drive/MyDrive/Data\",\n",
        "  \"database_dir\":   \"/content/drive/MyDrive/Data/Synonyms.db\"\n",
        "}\n",
        "\n",
        "print(conf)"
      ],
      "metadata": {
        "colab": {
          "base_uri": "https://localhost:8080/"
        },
        "id": "1WRM069dw3YT",
        "outputId": "8b4b24b1-d398-4a3d-d295-fb6ecd7a38cf"
      },
      "execution_count": 40,
      "outputs": [
        {
          "output_type": "stream",
          "name": "stdout",
          "text": [
            "{'drive_dir': '/content/drive', 'data_dir': '/content/drive/MyDrive/Data', 'database_dir': '/content/drive/MyDrive/Data/Synonyms.db'}\n"
          ]
        }
      ]
    },
    {
      "cell_type": "markdown",
      "source": [
        "# Init"
      ],
      "metadata": {
        "id": "SBVPfDScplXO"
      }
    },
    {
      "cell_type": "code",
      "source": [
        "nest_asyncio.apply()\n",
        "# await pyppeteer.chromium_downloader.download_chromium()"
      ],
      "metadata": {
        "id": "9bUCn1ipoTVA",
        "colab": {
          "base_uri": "https://localhost:8080/",
          "height": 295
        },
        "collapsed": true,
        "outputId": "65a8ec35-6a4f-45b1-806a-429d1e70ef11"
      },
      "execution_count": null,
      "outputs": [
        {
          "output_type": "stream",
          "name": "stderr",
          "text": [
            "[INFO] Starting Chromium download.\n",
            "INFO:pyppeteer.chromium_downloader:Starting Chromium download.\n",
            "100%|██████████| 183M/183M [00:04<00:00, 37.8Mb/s]\n",
            "[INFO] Beginning extraction\n",
            "INFO:pyppeteer.chromium_downloader:Beginning extraction\n",
            "[INFO] Chromium extracted to: /root/.local/share/pyppeteer/local-chromium/1181205\n",
            "INFO:pyppeteer.chromium_downloader:Chromium extracted to: /root/.local/share/pyppeteer/local-chromium/1181205\n"
          ]
        },
        {
          "output_type": "error",
          "ename": "TypeError",
          "evalue": "object NoneType can't be used in 'await' expression",
          "traceback": [
            "\u001b[0;31m---------------------------------------------------------------------------\u001b[0m",
            "\u001b[0;31mTypeError\u001b[0m                                 Traceback (most recent call last)",
            "\u001b[0;32m<ipython-input-7-d0fe1b27faf4>\u001b[0m in \u001b[0;36m<cell line: 1>\u001b[0;34m()\u001b[0m\n\u001b[1;32m      1\u001b[0m \u001b[0mnest_asyncio\u001b[0m\u001b[0;34m.\u001b[0m\u001b[0mapply\u001b[0m\u001b[0;34m(\u001b[0m\u001b[0;34m)\u001b[0m\u001b[0;34m\u001b[0m\u001b[0;34m\u001b[0m\u001b[0m\n\u001b[0;32m----> 2\u001b[0;31m \u001b[0;32mawait\u001b[0m \u001b[0mpyppeteer\u001b[0m\u001b[0;34m.\u001b[0m\u001b[0mchromium_downloader\u001b[0m\u001b[0;34m.\u001b[0m\u001b[0mdownload_chromium\u001b[0m\u001b[0;34m(\u001b[0m\u001b[0;34m)\u001b[0m\u001b[0;34m\u001b[0m\u001b[0;34m\u001b[0m\u001b[0m\n\u001b[0m",
            "\u001b[0;31mTypeError\u001b[0m: object NoneType can't be used in 'await' expression"
          ]
        }
      ]
    },
    {
      "cell_type": "markdown",
      "source": [
        "### Test Pypeteer browser"
      ],
      "metadata": {
        "id": "qt9hJjecqL3Y"
      }
    },
    {
      "cell_type": "code",
      "execution_count": null,
      "metadata": {
        "colab": {
          "base_uri": "https://localhost:8080/"
        },
        "id": "Ia-utjNG03_-",
        "outputId": "e89e7003-2438-4f07-e2af-7dbd010424d2"
      },
      "outputs": [
        {
          "output_type": "stream",
          "name": "stderr",
          "text": [
            "[INFO] Starting Chromium download.\n",
            "INFO:pyppeteer.chromium_downloader:Starting Chromium download.\n",
            "100%|██████████| 183M/183M [00:04<00:00, 38.0Mb/s]\n",
            "[INFO] Beginning extraction\n",
            "INFO:pyppeteer.chromium_downloader:Beginning extraction\n",
            "[INFO] Chromium extracted to: /root/.local/share/pyppeteer/local-chromium/1181205\n",
            "INFO:pyppeteer.chromium_downloader:Chromium extracted to: /root/.local/share/pyppeteer/local-chromium/1181205\n"
          ]
        },
        {
          "output_type": "stream",
          "name": "stdout",
          "text": [
            "Browser virker!\n"
          ]
        }
      ],
      "source": [
        "\n",
        "async def test_browser():\n",
        "    browser = await pyppeteer.launch(headless=True, args=[\"--no-sandbox\"])\n",
        "    page = await browser.newPage()\n",
        "    await page.goto(\"https://example.com\")\n",
        "    content = await page.content()\n",
        "    await browser.close()\n",
        "    print(\"Browser virker!\")\n",
        "\n",
        "await test_browser()"
      ]
    },
    {
      "cell_type": "markdown",
      "source": [
        "### Opret adgang til Google drev"
      ],
      "metadata": {
        "id": "KE35oNs0qwwp"
      }
    },
    {
      "cell_type": "code",
      "execution_count": null,
      "metadata": {
        "id": "j8dpBONfxXU0",
        "colab": {
          "base_uri": "https://localhost:8080/"
        },
        "outputId": "9effd015-52d5-41a5-89e4-ff154f1cecf0"
      },
      "outputs": [
        {
          "output_type": "stream",
          "name": "stdout",
          "text": [
            "Drive already mounted at /content/drive; to attempt to forcibly remount, call drive.mount(\"/content/drive\", force_remount=True).\n"
          ]
        }
      ],
      "source": [
        "# Godkend adgang til Google sheets\n",
        "google.colab.auth.authenticate_user()\n",
        "\n",
        "# Brug google.auth i stedet for oauth2client\n",
        "creds, _ = google.auth.default()\n",
        "gc = gspread.authorize(creds)\n",
        "\n",
        "google.colab.drive.mount(conf[\"drive_dir\"])"
      ]
    },
    {
      "cell_type": "markdown",
      "source": [
        "### Hent Pyppeter browser pakke"
      ],
      "metadata": {
        "id": "PgA2Yo9PrPLA"
      }
    },
    {
      "cell_type": "markdown",
      "source": [
        "# SQLite handlinger"
      ],
      "metadata": {
        "id": "MShA20E2trD7"
      }
    },
    {
      "cell_type": "markdown",
      "source": [
        "### Opret SQLite database"
      ],
      "metadata": {
        "id": "tn77SpSpqAOu"
      }
    },
    {
      "cell_type": "code",
      "execution_count": 37,
      "metadata": {
        "id": "lt-ZumjlwbLQ"
      },
      "outputs": [],
      "source": [
        "# Opret forbindelse til SQLite-database\n",
        "conn = sqlite3.connect(conf['database_dir'])\n",
        "cursor = conn.cursor()\n",
        "\n",
        "# Opret tabeller\n",
        "cursor.executescript(\"\"\"\n",
        "CREATE TABLE IF NOT EXISTS Tags (\n",
        "    Id INTEGER PRIMARY KEY AUTOINCREMENT,\n",
        "    Tag STRING(100) UNIQUE NOT NULL\n",
        ");\n",
        "\n",
        "CREATE TABLE IF NOT EXISTS Synonyms (\n",
        "    Id INTEGER PRIMARY KEY AUTOINCREMENT,\n",
        "    Synonym STRING(100) UNIQUE NOT NULL\n",
        ");\n",
        "\n",
        "CREATE TABLE IF NOT EXISTS TagSynonyms (\n",
        "    TId INTEGER NOT NULL,\n",
        "    SId INTEGER NOT NULL,\n",
        "    PRIMARY KEY (TId, SId),\n",
        "    FOREIGN KEY (TId) REFERENCES Tags(Id),\n",
        "    FOREIGN KEY (SId) REFERENCES Synonyms(Id)\n",
        ");\n",
        "\n",
        "CREATE TABLE IF NOT EXISTS TagIds (\n",
        "    TId INTEGER NOT NULL,\n",
        "    TagId INTEGER NOT NULL,\n",
        "    PRIMARY KEY (TId, TagId),\n",
        "    FOREIGN KEY (TId) REFERENCES Tags(Id)\n",
        ");\n",
        "\"\"\")\n",
        "\n",
        "conn.commit()\n"
      ]
    },
    {
      "cell_type": "markdown",
      "source": [
        "### Gem ord og synonym"
      ],
      "metadata": {
        "id": "UIUX8biGt8gf"
      }
    },
    {
      "cell_type": "code",
      "source": [
        "def gem_ord_med_synonymer(ordet, synonymer, tagids):\n",
        "    # Indsæt ord (hvis det ikke allerede findes)\n",
        "\n",
        "    cursor.execute(\"INSERT OR IGNORE INTO Tags (Tag) VALUES (?)\", (ordet,))\n",
        "    cursor.execute(\"SELECT Id FROM Tags WHERE Text = ?\", (ordet,))\n",
        "    tag_id = cursor.fetchone()[0]\n",
        "\n",
        "    for synonym in synonymer:\n",
        "        cursor.execute(\"INSERT OR IGNORE INTO Synonyms (Synonym) VALUES (?)\", (synonym,))\n",
        "        cursor.execute(\"SELECT Id FROM Synonyms WHERE Synonym = ?\", (synonym,))\n",
        "        synonym_id = cursor.fetchone()[0]\n",
        "\n",
        "        # Link kun hvis ikke allerede linket\n",
        "        cursor.execute(\"\"\"\n",
        "            INSERT OR IGNORE INTO TagSynonyms (TId, SId)\n",
        "            VALUES (?, ?)\n",
        "        \"\"\", (tag_id, synonym_id))\n",
        "    if tagids:\n",
        "      for tagid in tagids:\n",
        "        cursor.execute(\"\"\"\n",
        "            INSERT OR IGNORE INTO TagIds (TId, TagId)\n",
        "            VALUES (?, ?)\n",
        "        \"\"\", (tag_id, tagid))\n",
        "\n",
        "    conn.commit()\n"
      ],
      "metadata": {
        "id": "nfwNUxbGtgbG"
      },
      "execution_count": 38,
      "outputs": []
    },
    {
      "cell_type": "code",
      "execution_count": 30,
      "metadata": {
        "id": "pHf3Gb2F9xJv"
      },
      "outputs": [],
      "source": [
        "\n",
        "async def hent_synonymer(ordet):\n",
        "    url = f\"https://synonymet.dk/ord/{ordet}\"\n",
        "    browser = await pyppeteer.launch(headless=True, args=[\"--no-sandbox\"])\n",
        "    page = await browser.newPage()\n",
        "    await page.goto(url)\n",
        "\n",
        "    try:\n",
        "        await page.waitForSelector(\".wordcloud-span\", timeout=3000)\n",
        "        elementer = await page.querySelectorAll(\".wordcloud-span\")\n",
        "        synonymer = []\n",
        "        for el in elementer:\n",
        "            tekst = await page.evaluate('(el) => el.textContent', el)\n",
        "            if tekst.strip():\n",
        "                synonymer.append(tekst.strip())\n",
        "    except:\n",
        "        synonymer = []\n",
        "\n",
        "    await browser.close()\n",
        "    return synonymer"
      ]
    },
    {
      "cell_type": "code",
      "execution_count": 31,
      "metadata": {
        "id": "sJtveWxs1tcY",
        "colab": {
          "base_uri": "https://localhost:8080/"
        },
        "outputId": "571a0300-2ee6-4209-c883-2eac06783abb"
      },
      "outputs": [
        {
          "output_type": "stream",
          "name": "stdout",
          "text": [
            "1366Aj-KBdx6Xvt4rjMvpnPjQVf_Hkepyn3JnF1KQodU\n",
            "['311', '84', '322', '264', '5', '335', '308', '373', '104', '202', '183', '308', '74', '33', '173', '32', '102', '365', '217', '294', '50', '76', '342', '33', '114', '109', '24', '56', '56', '199', '299', '5', '100', '2', '364', '105', '17', '46', '52', '75', '151', '82', '372', '267', '290', '266', '261', '351', '265', '159', '178', '3', '123', '226', '78', '20', '20', '273', '273', '335', '195', '61', '317', '208', '331', '120', '118', '95', '114', '301', '330', '116', '116', '116', '189', '52', '53', '293', '44', '70', '310', '73', '164', '340', '235', '163', '48', '267', '31', '286', '226', '173', '217', '221', '23', '31', '68', '368', '100', '47', '332', '254', '265', '111', '111', '304', '188', '20', '326', '183', '313', '327', '300', '138', '138', '306', '364', '4', '4', '196', '314', '275', '67', '79', '313', '89', '112', '326', '343', '326', '343', '181', '296', '184', '184', '282', '272', '133', '21', '47', '23', '21', '51', '61', '91', '26', '100', '133', '120', '235', '235', '309', '267', '267', '191', '298', '76', '19', '14', '234', '57', '57', '123', '255', '192', '239', '245', '44', '289', '286', '307', '275', '246', '155', '85', '302', '312', '5', '213', '39', '285', '333', '204', '319', '115', '301', '292', '258', '75', '312', '194', '292', '67', '67', '106', '207', '112', '292', '303', '353', '236', '321', '81', '225', '336', '363', '191', '191', '49', '147', '200', '23', '174', '119', '200', '7', '317', '125', '8', '154', '154', '223', '147', '15', '114', '114', '316', '256', '93', '101', '16', '106', '23', '231', '8', '8', '177', '136', '112', '206', '154', '155', '59', '2', '277', '59', '364', '21', '76', '140', '83', '35', '229', '320', '140', '246', '289', '98', '183', '369', '187', '241', '170', '48', '310', '288', '165', '204', '372', '228', '53', '87', '249', '159', '51', '170', '88', '362', '120', '199', '175', '81', '107', '120', '278', '278', '110', '300', '285', '224', '58', '315', '60', '40', '95', '45', '11', '334', '83', '173', '38', '61', '28', '28', '115', '159', '190', '184', '110', '180', '231', '115', '361', '351', '50', '188', '137', '281', '46', '352', '328', '190', '85', '14', '138', '281', '281', '252', '222', '25', '29', '25', '91', '325', '109', '183', '266', '162', '237', '74', '126', '231', '3', '122', '208', '110', '243', '305', '151', '151', '33', '184', '290', '290', '123', '9', '9', '9', '74', '291', '140', '168', '366', '70', '49', '272', '166', '184', '280', '110', '151', '151', '26', '367', '148', '28', '103', '190', '200', '218', '329', '337', '320', '374', '19', '70', '191', '371', '105', '308', '308', '139', '49', '117', '161', '292', '11', '11', '259', '339', '114', '42', '276', '179', '113', '234', '234', '99', '81', '81', '276', '295', '126', '197', '81', '151', '318', '60', '204', '129', '279', '27', '136', '73', '134', '121', '371', '214', '17', '216', '211', '152', '80', '230', '203', '186', '88', '247', '136', '212', '273', '134', '224', '6', '182', '297', '4', '108', '194', '124', '111', '323', '7', '370', '104', '145', '145', '15', '140', '52', '152', '202', '234', '145', '126', '44', '57', '14', '14', '87', '87', '342', '342', '118', '192', '77', '142', '189']\n",
            "['Abort', 'Adfærd', 'Adlyde', 'Advarsel', 'Afgud', 'Afkom', 'Afstand', 'Aftale', 'Agressiv', 'Alderdom', 'Alkohol', 'Anderledes', 'Anger', 'Angst', 'Ansvar', 'Arbejdspunkt', 'Artikel', 'Arve', 'Bagtaler', 'Barmhjertig', 'Begivenhed', 'Begærlig', 'Behov', 'Bekymring', 'Beskeden', 'Beskyttelse', 'Betydning', 'Bibelen', 'Bibellæsning', 'Bidrag', 'Billedanalyse', 'Billeddyrkelse', 'Blasfemi', 'Blod', 'Brød', 'Brødre', 'Byrde', 'Bøn', 'Børn', 'Dag', 'Dage', 'Dagstekst', 'Dans', 'Det', 'Detalje', 'Digt', 'Dom', 'Dommere', 'Domsbudskab', 'Dyr', 'Dyrebar', 'Dæmoner', 'Død', 'Dømmekraft', 'Dåb', 'Dårlig', 'Dårlig frugt', 'Dårlige', 'Dårlige vaner', 'Efterkommere', 'Efterligne', 'Egenskab', 'Egnet', 'Egoisme', 'Eksempel', 'Empati', 'Engle', 'Enhed', 'Enkelt', 'Ensomhed', 'Erfaring', 'Evighed', 'Evigt', 'Evigt liv', 'Falsk religion', 'Familie', 'Familieaften', 'Fangenskab', 'Fattig', 'Fejle', 'Fjende', 'Fjerne', 'Flittig', 'Fokus', 'Foran', 'Forberedt', 'Forfølgelse', 'Forkerte', 'Forkynd', 'Formål', 'Fornuftig', 'Forpligte', 'Forræder', 'Forsigtig', 'Forskrifter', 'Forsvare', 'Forsørge', 'Fortsætte', 'Frafald', 'Fred', 'Fredsstiftende', 'Frelse', 'Frelsesbudskab', 'Fri', 'Fri vilje', 'Frihed', 'Fristelser', 'Frugt', 'Frugter', 'Fråse', 'Fuldføre', 'Fuldkommen', 'Fundament', 'Fysisk', 'Fysisk renlig', 'Fælde', 'Fødevare', 'Gamle', 'Gamle verden', 'Gavmild', 'Gavn', 'Gengæld', 'Genkomst', 'Genløsningsoffer', 'Gennemføre', 'Genvinde', 'Glæde', 'Gode', 'Gode', 'Gode frugter', 'Gode vaner', 'Godhed', 'Godkendt', 'Grimt', 'Grimt sprog', 'Grundlæren', 'Græde', 'Gudhengiven', 'Guds', 'Guds fred', 'Guds krav', 'Guds magt', 'Guds navn', 'Guds personlighed', 'Guds rige', 'Guds storhed', 'Gudsbespotte', 'Gudsfrygt', 'Gæstfri', 'Går', 'Går foran', 'Had', 'Hade', 'Hade det forkerte', 'Handel', 'Handlinger', 'Havesyg', 'Helbred', 'Hellig', 'Hellig tjeneste', 'Hellige', 'Hellige ånd', 'Helvede', 'Himlen', 'Historie', 'Hjertet', 'Humor', 'Hungersnød', 'Husker', 'Hvorfor', 'Hykleri', 'Hævn', 'Højtider', 'Høre', 'Håb', 'Håbet', 'Hånd', 'Idol', 'Illoyalitet', 'Indbakke', 'Indhold', 'Indsigt', 'Indstilling', 'Inspireret', 'Intention', 'Isolation', 'Israel', 'Jehova', 'Jehovas dag', 'Jehovas hånd', 'Jehovas vidner', 'Jerusalem', 'Jesus', 'Jesus genkomst', 'Jesus liv', 'Jorden', 'Juble', 'Jøder', 'Kamp', 'Karriere', 'Katastrofe', 'Klager', 'Kloge', 'Klogskab', 'Knuse', 'Kommende', 'Kommercielle', 'Kommercielle handel system', 'Kommunikation', 'Konge', 'Kraft', 'Krav', 'Krig', 'Kristne', 'Kræfter', 'Kundskab', 'Kvalificeret', 'Kvindesyn', 'Kærlighed', 'Kødets', 'Kødets lyster', 'Ledelse', 'Leder', 'Leksikon', 'Lev', 'Lev enkelt', 'Leveregel', 'Lidelser', 'Ligevægt', 'Lignelse', 'Link', 'Liv', 'Love', 'Lovpris', 'Loyal', 'Loyal kærlighed', 'Loyalitet', 'Lydig', 'Lykke', 'Lyst', 'Lyster', 'Lytte', 'Lyve', 'Lægebehandling', 'Løfte', 'Løgn', 'Mad', 'Magt', 'Materialist', 'Medgørlig', 'Medie', 'Meditere', 'Menighed', 'Mening', 'Mild', 'Mindehøjtid', 'Mindes', 'Mirakler', 'Misbrug', 'Mistet', 'Misundelse', 'Moden', 'Modløs', 'Modstand', 'Modstander', 'Moral', 'Mord', 'Motiver', 'Musik', 'Myndighed', 'Møder', 'Mål', 'Nationalitet', 'Natur', 'Navn', 'Negativ', 'Neutral', 'Nuværende', 'Næstekærlig', 'Nødhjælp', 'Offergave', 'Og', 'Omgangskreds', 'Omsorg', 'Onde', 'Ondskab', 'Opblæst', 'Opbygge', 'Opbygning', 'Opdragelse', 'Opgave', 'Ophøjet', 'Opmuntre', 'Opstandelse', 'Orden', 'Ordsprog', 'Organisation', 'Overbevist', 'Oversigt', 'Overvinde', 'Paradis', 'Personlighed', 'Personligt', 'Personligt studie', 'Planlæg', 'Planter', 'Politik', 'Porno', 'Pral', 'Principper', 'Prise', 'Proaktiv', 'Problemer', 'Profeter', 'Profeti', 'Prøvelser', 'Punktlighed', 'Pænt', 'Påkalder', 'Pålidelig', 'Påmindelser', 'Regering', 'Religion', 'Ren', 'Renlig', 'Rent', 'Pænt sprog', 'Respekt', 'Resultater', 'Retfærdig', 'Retledning', 'Retskaffen', 'Rige', 'Rimelig', 'Rustning', 'Rygning', 'Salme', 'Salvede', 'Samarbejde', 'Samvittighed', 'Sandhed', 'Sang', 'Satan', 'Selvbeherskelse', 'Selvisk', 'Selvtilfreds', 'Selvværd', 'Sex', 'Sidste', 'Sidste dage', 'Sindet', 'Sjofel', 'Sjov', 'Sjov detalje', 'Sjæl', 'Skabelsen', 'Skaber', 'Skaberværket', 'Skam', 'Skæbne', 'Skånsom', 'Sladder', 'Slave', 'Snuble', 'Social', 'Sorg', 'Splid', 'Sprog', 'Steder', 'Stolt', 'Store', 'Store trængsel', 'Storhed', 'Straf', 'Stridspørgsmål', 'Studie', 'Studiesvar', 'Styre', 'Styrke', 'Stædig', 'Støtte', 'Svage', 'Svar', 'Svigte', 'Sygdom', 'Synde', 'System', 'Særlig', 'Søstre', 'Tage', 'Tage afstand', 'Taknemmelig', 'Tale', 'Tankegang', 'Tegnene', 'Templet', 'Teokratiske', 'Teokratiske organisation', 'Tilbedelse', 'Tilflugt', 'Tilfreds', 'Tilgivelse', 'Tillid', 'Tilskyndelser', 'Tips', 'Tjener', 'Tjeneste', 'Treenighedslære', 'Tro', 'Tro og kloge træl', 'Trofasthed', 'Troshelte', 'Troværdig', 'Tryghed', 'Træl', 'Trængsel', 'Træthed', 'Trøst', 'Tvivl', 'Tyveri', 'Tåbelighed', 'Tålmodig', 'Uangribelig', 'Udelukke', 'Udholden', 'Udseende', 'Udvalgt', 'Uforsonlige', 'Ufuldkommen', 'Ukærlig', 'Ulydig', 'Umoralitet', 'Underholdning', 'Underordne', 'Undervisning', 'Ungdom', 'Upartisk', 'Urenhed', 'Uskyldig', 'Utaknemmelig', 'Vaner', 'Vedholden', 'Vejledning', 'Velsignelser', 'Venlig', 'Venskab', 'Verden', 'Videnskab', 'Vidner', 'Vigtigste', 'Vilje', 'Villig', 'Visdom', 'Vokse', 'Vrede', 'Værdifuld', 'Værdig', 'Wiki', 'Ydmyg', 'Ægteskab', 'Ægteskabsbrud', 'Ældre', 'Ældste', 'Ære', 'Ærlig', 'Økonomi', 'Ånd', 'Åndelig', 'Åndelig ren', 'Åndelige', 'Åndelige mål', 'Åndeligt', 'Åndeligt behov', 'Åndeskabning', 'Årstal', 'Årstekst', 'Årvågen', 'Falsk']\n"
          ]
        }
      ],
      "source": [
        "# Åbn arket og vælg det første ark\n",
        "sheet = gc.open(\"Synonymer\").get_worksheet(3)\n",
        "print(sheet.spreadsheet_id)\n",
        "# Hent alle ord fra kolonne A, start fra række 2\n",
        "ordliste_ids = sheet.col_values(1)[1:]\n",
        "ordliste_tags = sheet.col_values(2)[1:]\n",
        "\n",
        "print(ordliste_ids)\n",
        "print(ordliste_tags)"
      ]
    },
    {
      "cell_type": "code",
      "execution_count": 39,
      "metadata": {
        "id": "WSMRgZ1Q9uVW",
        "colab": {
          "base_uri": "https://localhost:8080/",
          "height": 343
        },
        "outputId": "593ccbb7-07ff-40a0-8132-3463801c6466"
      },
      "outputs": [
        {
          "output_type": "stream",
          "name": "stdout",
          "text": [
            "Henter synonymer for: Abort\n"
          ]
        },
        {
          "output_type": "error",
          "ename": "ProgrammingError",
          "evalue": "Error binding parameter 1: type 'builtin_function_or_method' is not supported",
          "traceback": [
            "\u001b[0;31m---------------------------------------------------------------------------\u001b[0m",
            "\u001b[0;31mProgrammingError\u001b[0m                          Traceback (most recent call last)",
            "\u001b[0;32m<ipython-input-39-1f435f4b48de>\u001b[0m in \u001b[0;36m<cell line: 0>\u001b[0;34m()\u001b[0m\n\u001b[1;32m      9\u001b[0m       \u001b[0;32mfor\u001b[0m \u001b[0msyn\u001b[0m \u001b[0;32min\u001b[0m \u001b[0msyns\u001b[0m\u001b[0;34m:\u001b[0m\u001b[0;34m\u001b[0m\u001b[0;34m\u001b[0m\u001b[0m\n\u001b[1;32m     10\u001b[0m         \u001b[0mn\u001b[0m \u001b[0;34m=\u001b[0m \u001b[0;34mf\"{syn}\"\u001b[0m\u001b[0;34m.\u001b[0m\u001b[0mcapitalize\u001b[0m\u001b[0;34m\u001b[0m\u001b[0;34m\u001b[0m\u001b[0m\n\u001b[0;32m---> 11\u001b[0;31m         \u001b[0mgem_ord_med_synonymer\u001b[0m\u001b[0;34m(\u001b[0m\u001b[0mordet\u001b[0m\u001b[0;34m.\u001b[0m\u001b[0mcapitalize\u001b[0m\u001b[0;34m,\u001b[0m \u001b[0;34m[\u001b[0m\u001b[0mn\u001b[0m\u001b[0;34m]\u001b[0m\u001b[0;34m,\u001b[0m \u001b[0;34m[\u001b[0m\u001b[0mordliste_ids\u001b[0m\u001b[0;34m[\u001b[0m\u001b[0mi\u001b[0m\u001b[0;34m]\u001b[0m\u001b[0;34m]\u001b[0m\u001b[0;34m)\u001b[0m\u001b[0;34m\u001b[0m\u001b[0;34m\u001b[0m\u001b[0m\n\u001b[0m\u001b[1;32m     12\u001b[0m         \u001b[0;31m# kol += 1\u001b[0m\u001b[0;34m\u001b[0m\u001b[0;34m\u001b[0m\u001b[0m\n\u001b[1;32m     13\u001b[0m         \u001b[0;31m# sheet.update_cell(i + 2, kol, syn)\u001b[0m\u001b[0;34m\u001b[0m\u001b[0;34m\u001b[0m\u001b[0m\n",
            "\u001b[0;32m<ipython-input-38-1db1e8246d97>\u001b[0m in \u001b[0;36mgem_ord_med_synonymer\u001b[0;34m(ordet, synonymer, tagids)\u001b[0m\n\u001b[1;32m      2\u001b[0m     \u001b[0;31m# Indsæt ord (hvis det ikke allerede findes)\u001b[0m\u001b[0;34m\u001b[0m\u001b[0;34m\u001b[0m\u001b[0m\n\u001b[1;32m      3\u001b[0m \u001b[0;34m\u001b[0m\u001b[0m\n\u001b[0;32m----> 4\u001b[0;31m     \u001b[0mcursor\u001b[0m\u001b[0;34m.\u001b[0m\u001b[0mexecute\u001b[0m\u001b[0;34m(\u001b[0m\u001b[0;34m\"INSERT OR IGNORE INTO Tags (Tag) VALUES (?)\"\u001b[0m\u001b[0;34m,\u001b[0m \u001b[0;34m(\u001b[0m\u001b[0mordet\u001b[0m\u001b[0;34m,\u001b[0m\u001b[0;34m)\u001b[0m\u001b[0;34m)\u001b[0m\u001b[0;34m\u001b[0m\u001b[0;34m\u001b[0m\u001b[0m\n\u001b[0m\u001b[1;32m      5\u001b[0m     \u001b[0mcursor\u001b[0m\u001b[0;34m.\u001b[0m\u001b[0mexecute\u001b[0m\u001b[0;34m(\u001b[0m\u001b[0;34m\"SELECT Id FROM Tags WHERE Text = ?\"\u001b[0m\u001b[0;34m,\u001b[0m \u001b[0;34m(\u001b[0m\u001b[0mordet\u001b[0m\u001b[0;34m,\u001b[0m\u001b[0;34m)\u001b[0m\u001b[0;34m)\u001b[0m\u001b[0;34m\u001b[0m\u001b[0;34m\u001b[0m\u001b[0m\n\u001b[1;32m      6\u001b[0m     \u001b[0mtag_id\u001b[0m \u001b[0;34m=\u001b[0m \u001b[0mcursor\u001b[0m\u001b[0;34m.\u001b[0m\u001b[0mfetchone\u001b[0m\u001b[0;34m(\u001b[0m\u001b[0;34m)\u001b[0m\u001b[0;34m[\u001b[0m\u001b[0;36m0\u001b[0m\u001b[0;34m]\u001b[0m\u001b[0;34m\u001b[0m\u001b[0;34m\u001b[0m\u001b[0m\n",
            "\u001b[0;31mProgrammingError\u001b[0m: Error binding parameter 1: type 'builtin_function_or_method' is not supported"
          ]
        }
      ],
      "source": [
        "resultater = []\n",
        "#conn = sqlite3.connect(conf['database_dir'])\n",
        "\n",
        "for i, ordet in enumerate(ordliste_tags):\n",
        "    kol = 2\n",
        "    print(f\"Henter synonymer for: {ordet}\")\n",
        "    syns = asyncio.get_event_loop().run_until_complete(hent_synonymer(ordet))\n",
        "    if syns:\n",
        "      for syn in syns:\n",
        "        n = f\"{syn}\".capitalize\n",
        "        gem_ord_med_synonymer(ordet.capitalize, [n], [ordliste_ids[i]])\n",
        "        # kol += 1\n",
        "        # sheet.update_cell(i + 2, kol, syn)\n",
        "\n",
        "    tekst = \", \".join(syns) if syns else \"Ingen synonymer fundet\"\n",
        "\n",
        "    resultater.append(tekst)\n",
        "\n",
        "    # Skriv i kolonne B (række i + 2 pga. overskrift)\n",
        "    # sheet.update_cell(i + 2, 2, tekst)\n",
        "\n",
        "#conn.close()"
      ]
    }
  ],
  "metadata": {
    "colab": {
      "provenance": [],
      "authorship_tag": "ABX9TyOw8GRTmZeNTP0vF/oa27P0",
      "include_colab_link": true
    },
    "kernelspec": {
      "display_name": "Python 3",
      "name": "python3"
    },
    "language_info": {
      "name": "python"
    }
  },
  "nbformat": 4,
  "nbformat_minor": 0
}