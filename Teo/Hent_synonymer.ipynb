{
  "cells": [
    {
      "cell_type": "markdown",
      "metadata": {
        "id": "view-in-github",
        "colab_type": "text"
      },
      "source": [
        "<a href=\"https://colab.research.google.com/github/bkristensen/Colabs/blob/main/Teo/Hent_synonymer.ipynb\" target=\"_parent\"><img src=\"https://colab.research.google.com/assets/colab-badge.svg\" alt=\"Open In Colab\"/></a>"
      ]
    },
    {
      "cell_type": "markdown",
      "source": [
        "# Opsætning"
      ],
      "metadata": {
        "id": "g0riJD8y-hK2"
      }
    },
    {
      "cell_type": "markdown",
      "source": [
        "## Installere moduler"
      ],
      "metadata": {
        "id": "1P9pK3fgpt2R"
      }
    },
    {
      "cell_type": "code",
      "execution_count": 1,
      "metadata": {
        "colab": {
          "base_uri": "https://localhost:8080/"
        },
        "collapsed": true,
        "id": "kolwrVqauWT_",
        "outputId": "c174ae14-4c7f-4bc6-a391-80fc8136efc3"
      },
      "outputs": [
        {
          "output_type": "stream",
          "name": "stdout",
          "text": [
            "Requirement already satisfied: gspread in /usr/local/lib/python3.11/dist-packages (6.2.0)\n",
            "Requirement already satisfied: oauth2client in /usr/local/lib/python3.11/dist-packages (4.1.3)\n",
            "Requirement already satisfied: pyppeteer in /usr/local/lib/python3.11/dist-packages (2.0.0)\n",
            "Requirement already satisfied: nest_asyncio in /usr/local/lib/python3.11/dist-packages (1.6.0)\n",
            "\u001b[31mERROR: Could not find a version that satisfies the requirement urllib (from versions: none)\u001b[0m\u001b[31m\n",
            "\u001b[0m\u001b[31mERROR: No matching distribution found for urllib\u001b[0m\u001b[31m\n",
            "\u001b[0m"
          ]
        }
      ],
      "source": [
        "!pip install gspread oauth2client pyppeteer nest_asyncio\n"
      ]
    },
    {
      "cell_type": "markdown",
      "source": [
        "## Importér moduler"
      ],
      "metadata": {
        "id": "n3_vNVHOp2ka"
      }
    },
    {
      "cell_type": "code",
      "execution_count": 2,
      "metadata": {
        "collapsed": true,
        "id": "tp6fTMxbz_tJ"
      },
      "outputs": [],
      "source": [
        "import gspread\n",
        "import sqlite3\n",
        "\n",
        "import asyncio\n",
        "import nest_asyncio\n",
        "\n",
        "import pyppeteer\n",
        "\n",
        "import google.auth\n",
        "\n",
        "import urllib\n",
        "\n",
        "nest_asyncio.apply()\n"
      ]
    },
    {
      "cell_type": "markdown",
      "source": [
        "## Funktioner"
      ],
      "metadata": {
        "id": "oJHCaCBBaeG6"
      }
    },
    {
      "cell_type": "code",
      "source": [
        "async def test_browser():\n",
        "  browser = await pyppeteer.launch(headless=True, args=[\"--no-sandbox\"])\n",
        "  page = await browser.newPage()\n",
        "  await page.goto(\"https://example.com\")\n",
        "  content = await page.content()\n",
        "  await browser.close()\n",
        "  print(\"Browser virker!\")\n",
        "\n",
        "async def initGoogleAccess():\n",
        "  # Godkend adgang til Google sheets\n",
        "  google.colab.auth.authenticate_user()\n",
        "  google.colab.drive.mount(conf[\"drive_dir\"])\n",
        "\n",
        "async def hent_synonymer(ordet: str) -> list:\n",
        "  synonymer: list = []\n",
        "  browser: pyppeteer.browser.Browser = await pyppeteer.launch(headless=True, args=[\"--no-sandbox\"])\n",
        "  page: pyppeteer.browser.Page = await browser.newPage()\n",
        "  url = f\"https://synonymet.dk/ord/{urllib.parse.quote(ordet)}\"\n",
        "  await page.goto(url)\n",
        "  try:\n",
        "    await page.waitForSelector(\".wordcloud-span\", timeout=3000)\n",
        "    elementer: list = await page.querySelectorAll(\".wordcloud-span\")\n",
        "    for el in elementer:\n",
        "      tekst = (await page.evaluate('(el) => el.textContent', el)).strip()\n",
        "      if tekst:\n",
        "        synonymer.append(tekst)\n",
        "  except Exception as e:\n",
        "      print(f\"\"\"        FEJL under læsning af '{url}':\n",
        "      {e}\"\"\")\n",
        "  await browser.close()\n",
        "  return synonymer\n",
        "\n",
        "async def initDatabase():\n",
        "  # Opret tabeller\n",
        "  conn = sqlite3.connect(conf['database_dir'])\n",
        "  cursor = conn.cursor()\n",
        "  for script in dbscripts:\n",
        "    cursor.executescript(script)\n",
        "  conn.commit()\n",
        "  cursor.close()\n",
        "  conn.close()\n",
        "\n",
        "def loadSheetData():\n",
        "  # Åbn arket og vælg det første ark\n",
        "  creds, _ = google.auth.default()\n",
        "  gc = gspread.authorize(creds)\n",
        "  sheet = gc.open(\"Synonymer\").get_worksheet(2)\n",
        "  # Hent alle ord fra kolonne A, start fra række 2\n",
        "  ordliste_ids = sheet.col_values(1)[1:]\n",
        "  ordliste_tags = sheet.col_values(2)[1:]\n",
        "  return ordliste_ids, ordliste_tags\n",
        "\n",
        "def gem_ord_med_synonymer(conn: sqlite3.Connection, ordet: str, tagid: int | None):\n",
        "  # Indsæt ord (hvis det ikke allerede findes)\n",
        "  new_tag: bool = False\n",
        "  id: int | None = None\n",
        "  fdata: list | None = None\n",
        "\n",
        "  cursor: sqlite3.Cursor = conn.cursor()\n",
        "  cursor.execute(\"SELECT Id FROM Tags WHERE Tag = ?\", (ordet,))\n",
        "  fdata = cursor.fetchone()\n",
        "\n",
        "  if not fdata:\n",
        "    new_tag = True\n",
        "    print(f\" - Indsætter ny tag: {ordet}\")\n",
        "    cursor.execute(\"INSERT OR IGNORE INTO Tags (Tag) VALUES (?)\", (ordet,))\n",
        "    cursor.execute(\"SELECT Id FROM Tags WHERE Tag = ?\", (ordet,))\n",
        "    id = cursor.fetchone()[0]\n",
        "  else:\n",
        "    id = fdata[0]\n",
        "\n",
        "  if tagid:\n",
        "    cursor.execute(\"INSERT OR IGNORE INTO TagIds (TId, TagId) VALUES (?, ?)\", (id, tagid))\n",
        "\n",
        "  if new_tag:\n",
        "    print(f\"      Henter synonymer for: {ordet}\")\n",
        "    syns: list = asyncio.get_event_loop().run_until_complete(hent_synonymer(ordet))\n",
        "    if syns:\n",
        "      print(f\"         Antal synonymer for {ordet}: {len(syns)}\")\n",
        "      for syn in syns:\n",
        "        synonym = f\"{syn}\".capitalize()\n",
        "        cursor.execute(\"INSERT OR IGNORE INTO Synonyms (Synonym) VALUES (?)\", (synonym,))\n",
        "        cursor.execute(\"SELECT Id FROM Synonyms WHERE Synonym = ?\", (synonym,))\n",
        "        synonym_id = cursor.fetchone()[0]\n",
        "\n",
        "        # Link kun hvis ikke allerede linket\n",
        "        cursor.execute(\"INSERT OR IGNORE INTO TagSynonyms (TId, SId) VALUES (?, ?)\", (id, synonym_id))\n",
        "    else:\n",
        "      print(f\"        Kunne ikke finde synonymer for {ordet}\")\n",
        "  conn.commit()\n",
        "  cursor.close()\n",
        "\n"
      ],
      "metadata": {
        "id": "rsXGWVoEai0w"
      },
      "execution_count": 4,
      "outputs": []
    },
    {
      "cell_type": "markdown",
      "source": [
        "## Variabler"
      ],
      "metadata": {
        "id": "Rye6Ojzv9lQd"
      }
    },
    {
      "cell_type": "code",
      "source": [
        "conf = {\n",
        "  \"drive_dir\":      \"/content/drive\",\n",
        "  \"data_dir\":       \"/content/drive/MyDrive/Data\",\n",
        "  \"database_dir\":   \"/content/drive/MyDrive/Data/TagSynonyms.db\"\n",
        "}\n",
        "resultater = []\n",
        "\n",
        "dbscripts = [\n",
        "\"\"\"\n",
        "CREATE TABLE IF NOT EXISTS Tags (\n",
        "    Id INTEGER PRIMARY KEY AUTOINCREMENT,\n",
        "    Tag STRING(100) UNIQUE NOT NULL\n",
        ");\n",
        "\"\"\",\n",
        "\"\"\"\n",
        "CREATE TABLE IF NOT EXISTS Synonyms (\n",
        "    Id INTEGER PRIMARY KEY AUTOINCREMENT,\n",
        "    Synonym STRING(100) UNIQUE NOT NULL\n",
        ");\n",
        "\"\"\",\n",
        "\"\"\"\n",
        "CREATE TABLE IF NOT EXISTS TagSynonyms (\n",
        "    TId INTEGER NOT NULL,\n",
        "    SId INTEGER NOT NULL,\n",
        "    PRIMARY KEY (TId, SId),\n",
        "    FOREIGN KEY (TId) REFERENCES Tags(Id),\n",
        "    FOREIGN KEY (SId) REFERENCES Synonyms(Id)\n",
        ");\n",
        "\"\"\",\n",
        "\"\"\"\n",
        "CREATE TABLE IF NOT EXISTS TagIds (\n",
        "    TId INTEGER NOT NULL,\n",
        "    TagId INTEGER NOT NULL,\n",
        "    PRIMARY KEY (TId, TagId),\n",
        "    FOREIGN KEY (TId) REFERENCES Tags(Id)\n",
        ");\n",
        "\"\"\",\n",
        "\"\"\"\n",
        "DROP VIEW IF EXISTS vTags;\n",
        "CREATE VIEW vTags AS\n",
        "SELECT\n",
        "\tt.Id AS Id,\n",
        "\tt.Tag AS TagName,\n",
        "\tti.TagId AS TagId\n",
        "FROM\n",
        "\tTags t\n",
        "\tLEFT OUTER JOIN TagIds ti\n",
        "\t\tON ti.TId = t.Id\n",
        "ORDER BY\n",
        "\tt.Tag,\n",
        "\tti.TagId;\n",
        "\"\"\",\n",
        "\"\"\"\n",
        "DROP VIEW IF EXISTS vTagSynonyms;\n",
        "CREATE VIEW vTagSynonyms AS\n",
        "SELECT\n",
        "\tt.Tag AS TagName,\n",
        "\ts.Synonym AS Synonym,\n",
        "\tt.Id AS TId,\n",
        "\tts.SId AS SId\n",
        "FROM\n",
        "\tTags t\n",
        "\tLEFT OUTER JOIN TagSynonyms ts\n",
        "\t\tON ts.TId = t.Id\n",
        "\tLEFT OUTER JOIN Synonyms s\n",
        "\t\tON s.Id = ts.SId\n",
        "ORDER BY\n",
        "\tt.Tag,\n",
        "\ts.Synonym;\n",
        "\"\"\",\n",
        "\"\"\"\n",
        "DROP VIEW IF EXISTS vTagSynonymIds;\n",
        "CREATE VIEW vTagSynonymIds AS\n",
        "SELECT\n",
        "\tti.TagId AS TagId,\n",
        "\tt.Tag AS TagName,\n",
        "\ts.Synonym AS Synonym,\n",
        "\tt.Id AS TId,\n",
        "\ts.Id AS SId\n",
        "FROM\n",
        "\tTags t\n",
        "\tLEFT OUTER JOIN TagIds ti\n",
        "\t\tON ti.TId = t.Id\n",
        "\tLEFT OUTER JOIN TagSynonyms ts\n",
        "\t\tON ts.TId = t.Id\n",
        "\tLEFT OUTER JOIN Synonyms s\n",
        "\t\tON s.Id = ts.SId\n",
        "ORDER BY\n",
        "\tt.Tag,\n",
        "\ts.Synonym;\n",
        "\"\"\",\n",
        "\"\"\"\n",
        "DROP VIEW IF EXISTS vTagConcat;\n",
        "CREATE VIEW vTagConcat AS\n",
        "SELECT\n",
        "    ti.TagId,\n",
        "    GROUP_CONCAT(t.Tag, '; ') AS Tags\n",
        "FROM TagIds ti\n",
        "JOIN Tags t ON ti.TId = t.Id\n",
        "GROUP BY ti.TagId\n",
        "ORDER BY ti.TagId, t.Tag;\n",
        "\"\"\",\n",
        "\"\"\"\n",
        "DROP VIEW IF EXISTS vSynCount;\n",
        "CREATE VIEW vSynCount AS\n",
        "SELECT\n",
        "\ts.Id AS Id,\n",
        "\ts.Synonym AS Synonym,\n",
        "\tCOUNT(*) AS TotalTags\n",
        "FROM\n",
        "\tSynonyms s\n",
        "\tJOIN TagSynonyms ts\n",
        "\t\tON ts.SId = s.Id\n",
        "\tJOIN TagIds ti\n",
        "\t\tON ti.TId = ts.TId\n",
        "GROUP BY s.Id\n",
        "ORDER BY\n",
        "\tTotalTags DESC,\n",
        "\ts.Synonym;\n",
        "\"\"\",\n",
        "\"\"\"\n",
        "DROP VIEW IF EXISTS vSynonymTagCount;\n",
        "CREATE VIEW vSynonymTagCount AS\n",
        "SELECT\n",
        "\tsc.Id,\n",
        "\tsc.Synonym,\n",
        "\tsc.TotalTags,\n",
        "\ttc.TagId,\n",
        "\ttc.Tags\n",
        "FROM\n",
        "\tvSynCount sc\n",
        "\tJOIN TagSynonyms ts\n",
        "\t\tON ts.SId = sc.Id\n",
        "\tJOIN TagIds ti\n",
        "\t\tON ti.TId = ts.TId\n",
        "\tJOIN vTagConcat tc\n",
        "\t\tON tc.TagId = ti.TagId\n",
        "ORDER BY\n",
        "\tsc.TotalTags DESC,\n",
        "\tsc.Synonym,\n",
        "\ttc.Tags;\n",
        "\"\"\"]"
      ],
      "metadata": {
        "id": "Xje0e8s48ZLC"
      },
      "execution_count": 16,
      "outputs": []
    },
    {
      "cell_type": "markdown",
      "source": [
        "## Init"
      ],
      "metadata": {
        "id": "SBVPfDScplXO"
      }
    },
    {
      "cell_type": "code",
      "execution_count": 5,
      "metadata": {
        "id": "j8dpBONfxXU0",
        "colab": {
          "base_uri": "https://localhost:8080/"
        },
        "outputId": "8c31a31a-0990-48f7-9fb9-77bd25d8075a"
      },
      "outputs": [
        {
          "output_type": "stream",
          "name": "stdout",
          "text": [
            "Browser virker!\n"
          ]
        }
      ],
      "source": [
        "await test_browser()"
      ]
    },
    {
      "cell_type": "code",
      "source": [
        "await initGoogleAccess()\n",
        "\n",
        "await initDatabase()"
      ],
      "metadata": {
        "id": "4qLDyCZoa0K1",
        "colab": {
          "base_uri": "https://localhost:8080/",
          "height": 292
        },
        "outputId": "f0ff2b36-690e-491c-830d-7545e570d338"
      },
      "execution_count": 6,
      "outputs": [
        {
          "output_type": "error",
          "ename": "NameError",
          "evalue": "name 'conf' is not defined",
          "traceback": [
            "\u001b[0;31m---------------------------------------------------------------------------\u001b[0m",
            "\u001b[0;31mNameError\u001b[0m                                 Traceback (most recent call last)",
            "\u001b[0;32m<ipython-input-6-39db2821e800>\u001b[0m in \u001b[0;36m<cell line: 1>\u001b[0;34m()\u001b[0m\n\u001b[0;32m----> 1\u001b[0;31m \u001b[0;32mawait\u001b[0m \u001b[0minitGoogleAccess\u001b[0m\u001b[0;34m(\u001b[0m\u001b[0;34m)\u001b[0m\u001b[0;34m\u001b[0m\u001b[0;34m\u001b[0m\u001b[0m\n\u001b[0m\u001b[1;32m      2\u001b[0m \u001b[0;34m\u001b[0m\u001b[0m\n\u001b[1;32m      3\u001b[0m \u001b[0;32mawait\u001b[0m \u001b[0minitDatabase\u001b[0m\u001b[0;34m(\u001b[0m\u001b[0;34m)\u001b[0m\u001b[0;34m\u001b[0m\u001b[0;34m\u001b[0m\u001b[0m\n",
            "\u001b[0;32m<ipython-input-4-f1e14222bd2a>\u001b[0m in \u001b[0;36minitGoogleAccess\u001b[0;34m()\u001b[0m\n\u001b[1;32m     10\u001b[0m   \u001b[0;31m# Godkend adgang til Google sheets\u001b[0m\u001b[0;34m\u001b[0m\u001b[0;34m\u001b[0m\u001b[0m\n\u001b[1;32m     11\u001b[0m   \u001b[0mgoogle\u001b[0m\u001b[0;34m.\u001b[0m\u001b[0mcolab\u001b[0m\u001b[0;34m.\u001b[0m\u001b[0mauth\u001b[0m\u001b[0;34m.\u001b[0m\u001b[0mauthenticate_user\u001b[0m\u001b[0;34m(\u001b[0m\u001b[0;34m)\u001b[0m\u001b[0;34m\u001b[0m\u001b[0;34m\u001b[0m\u001b[0m\n\u001b[0;32m---> 12\u001b[0;31m   \u001b[0mgoogle\u001b[0m\u001b[0;34m.\u001b[0m\u001b[0mcolab\u001b[0m\u001b[0;34m.\u001b[0m\u001b[0mdrive\u001b[0m\u001b[0;34m.\u001b[0m\u001b[0mmount\u001b[0m\u001b[0;34m(\u001b[0m\u001b[0mconf\u001b[0m\u001b[0;34m[\u001b[0m\u001b[0;34m\"drive_dir\"\u001b[0m\u001b[0;34m]\u001b[0m\u001b[0;34m)\u001b[0m\u001b[0;34m\u001b[0m\u001b[0;34m\u001b[0m\u001b[0m\n\u001b[0m\u001b[1;32m     13\u001b[0m \u001b[0;34m\u001b[0m\u001b[0m\n\u001b[1;32m     14\u001b[0m \u001b[0;32masync\u001b[0m \u001b[0;32mdef\u001b[0m \u001b[0mhent_synonymer\u001b[0m\u001b[0;34m(\u001b[0m\u001b[0mordet\u001b[0m\u001b[0;34m:\u001b[0m \u001b[0mstr\u001b[0m\u001b[0;34m)\u001b[0m \u001b[0;34m->\u001b[0m \u001b[0mlist\u001b[0m\u001b[0;34m:\u001b[0m\u001b[0;34m\u001b[0m\u001b[0;34m\u001b[0m\u001b[0m\n",
            "\u001b[0;31mNameError\u001b[0m: name 'conf' is not defined"
          ]
        }
      ]
    },
    {
      "cell_type": "markdown",
      "source": [
        "# Gem ord og synonym"
      ],
      "metadata": {
        "id": "UIUX8biGt8gf"
      }
    },
    {
      "cell_type": "code",
      "execution_count": null,
      "metadata": {
        "id": "WSMRgZ1Q9uVW",
        "colab": {
          "base_uri": "https://localhost:8080/"
        },
        "outputId": "803a9764-9a82-4d10-b7c3-e02386335a6f"
      },
      "outputs": [
        {
          "output_type": "stream",
          "name": "stdout",
          "text": [
            " - Henter ord fra Google Sheets\n",
            "      Antal ord: 514\n",
            "      \n",
            " - Indsætter ny tag: Blod\n",
            "      Henter synonymer for: Blod\n",
            "         Antal synonymer for Blod: 3\n",
            " - Indsætter ny tag: Lægebehandling\n",
            "      Henter synonymer for: Lægebehandling\n",
            "         Antal synonymer for Lægebehandling: 5\n",
            " - Indsætter ny tag: Dæmoner\n",
            "      Henter synonymer for: Dæmoner\n",
            "         Antal synonymer for Dæmoner: 11\n",
            " - Indsætter ny tag: Satan\n",
            "      Henter synonymer for: Satan\n",
            "         Antal synonymer for Satan: 17\n",
            " - Indsætter ny tag: Gamle\n",
            "      Henter synonymer for: Gamle\n",
            "         Antal synonymer for Gamle: 28\n",
            " - Indsætter ny tag: Gamle verden\n",
            "      Henter synonymer for: Gamle verden\n",
            "        FEJL under læsning af 'https://synonymet.dk/ord/Gamle verden': \n",
            "      Waiting for selector \".wordcloud-span\" failed: timeout 3000ms exceeds.\n",
            "        Kunne ikke finde synonymer for Gamle verden\n",
            " - Indsætter ny tag: Verden\n",
            "      Henter synonymer for: Verden\n",
            "         Antal synonymer for Verden: 32\n",
            " - Indsætter ny tag: Afgud\n",
            "      Henter synonymer for: Afgud\n",
            "         Antal synonymer for Afgud: 9\n",
            " - Indsætter ny tag: Billeddyrkelse\n",
            "      Henter synonymer for: Billeddyrkelse\n",
            "         Antal synonymer for Billeddyrkelse: 2\n",
            " - Indsætter ny tag: Idol\n",
            "      Henter synonymer for: Idol\n",
            "         Antal synonymer for Idol: 20\n",
            " - Indsætter ny tag: Velsignelser\n",
            "      Henter synonymer for: Velsignelser\n",
            "         Antal synonymer for Velsignelser: 17\n",
            " - Indsætter ny tag: Kundskab\n",
            "      Henter synonymer for: Kundskab\n",
            "         Antal synonymer for Kundskab: 19\n",
            " - Indsætter ny tag: Visdom\n",
            "      Henter synonymer for: Visdom\n",
            "         Antal synonymer for Visdom: 15\n",
            " - Indsætter ny tag: Kærlighed\n",
            "      Henter synonymer for: Kærlighed\n",
            "         Antal synonymer for Kærlighed: 45\n",
            " - Indsætter ny tag: Loyal\n",
            "      Henter synonymer for: Loyal\n",
            "         Antal synonymer for Loyal: 23\n",
            " - Indsætter ny tag: Loyal kærlighed\n",
            "      Henter synonymer for: Loyal kærlighed\n",
            "        FEJL under læsning af 'https://synonymet.dk/ord/Loyal kærlighed': \n",
            "      Waiting for selector \".wordcloud-span\" failed: timeout 3000ms exceeds.\n",
            "        Kunne ikke finde synonymer for Loyal kærlighed\n",
            " - Indsætter ny tag: Skabelsen\n",
            "      Henter synonymer for: Skabelsen\n",
            "         Antal synonymer for Skabelsen: 18\n",
            " - Indsætter ny tag: Skaber\n",
            "      Henter synonymer for: Skaber\n",
            "         Antal synonymer for Skaber: 37\n",
            " - Indsætter ny tag: Skaberværket\n",
            "      Henter synonymer for: Skaberværket\n",
            "        FEJL under læsning af 'https://synonymet.dk/ord/Skaberværket': \n",
            "      Waiting for selector \".wordcloud-span\" failed: timeout 3000ms exceeds.\n",
            "        Kunne ikke finde synonymer for Skaberværket\n",
            " - Indsætter ny tag: Organisation\n",
            "      Henter synonymer for: Organisation\n",
            "         Antal synonymer for Organisation: 22\n",
            " - Indsætter ny tag: Teokratiske\n",
            "      Henter synonymer for: Teokratiske\n",
            "        FEJL under læsning af 'https://synonymet.dk/ord/Teokratiske': \n",
            "      Waiting for selector \".wordcloud-span\" failed: timeout 3000ms exceeds.\n",
            "        Kunne ikke finde synonymer for Teokratiske\n",
            " - Indsætter ny tag: Teokratiske organisation\n",
            "      Henter synonymer for: Teokratiske organisation\n",
            "        FEJL under læsning af 'https://synonymet.dk/ord/Teokratiske organisation': \n",
            "      Waiting for selector \".wordcloud-span\" failed: timeout 3000ms exceeds.\n",
            "        Kunne ikke finde synonymer for Teokratiske organisation\n",
            " - Indsætter ny tag: Hellig\n",
            "      Henter synonymer for: Hellig\n",
            "         Antal synonymer for Hellig: 21\n",
            " - Indsætter ny tag: Ren\n",
            "      Henter synonymer for: Ren\n",
            "         FEJL under tjek af Ren - Fejl: Event loop stopped before Future completed.\n",
            " - Indsætter ny tag: Åndelig\n",
            "      Henter synonymer for: Åndelig\n",
            "         FEJL under tjek af Åndelig - Fejl: Event loop stopped before Future completed.\n",
            " - Indsætter ny tag: Åndelig ren\n",
            "      Henter synonymer for: Åndelig ren\n",
            "         FEJL under tjek af Åndelig ren - Fejl: Event loop stopped before Future completed.\n",
            " - Indsætter ny tag: Leksikon\n",
            "      Henter synonymer for: Leksikon\n",
            "         FEJL under tjek af Leksikon - Fejl: Event loop stopped before Future completed.\n",
            " - Indsætter ny tag: Wiki\n",
            "      Henter synonymer for: Wiki\n",
            "         FEJL under tjek af Wiki - Fejl: Event loop stopped before Future completed.\n",
            " - Indsætter ny tag: Link\n",
            "      Henter synonymer for: Link\n",
            "         FEJL under tjek af Link - Fejl: Event loop stopped before Future completed.\n",
            " - Indsætter ny tag: Byrde\n",
            "      Henter synonymer for: Byrde\n",
            "         FEJL under tjek af Byrde - Fejl: Event loop stopped before Future completed.\n",
            " - Indsætter ny tag: Ufuldkommen\n",
            "      Henter synonymer for: Ufuldkommen\n",
            "         FEJL under tjek af Ufuldkommen - Fejl: Event loop stopped before Future completed.\n",
            " - Indsætter ny tag: Helbred\n",
            "      Henter synonymer for: Helbred\n"
          ]
        }
      ],
      "source": [
        "print(\" - Henter ord fra Google Sheets\")\n",
        "ordliste_ids, ordliste_tags = loadSheetData()\n",
        "\n",
        "conn = sqlite3.connect(conf['database_dir'])\n",
        "\n",
        "print(f\"\"\"      Antal ord: {len(ordliste_tags)}\n",
        "      \"\"\")\n",
        "\n",
        "for i, ordet in enumerate(ordliste_tags):\n",
        "  # print(f\"Tjekker ord: {ordet}\")\n",
        "  try:\n",
        "    gem_ord_med_synonymer(conn, ordet.capitalize(), ordliste_ids[i])\n",
        "  except Exception as e:\n",
        "    print(f\"         FEJL under tjek af {ordet} - Fejl: {e}\")\n",
        "    continue\n",
        "\n",
        "print(\"\"\"\n",
        "    F Æ R D I G ! ! !\"\"\")\n",
        "conn.close()"
      ]
    }
  ],
  "metadata": {
    "colab": {
      "provenance": [],
      "authorship_tag": "ABX9TyPJI6wMrrnVDO38hHnSkuAP",
      "include_colab_link": true
    },
    "kernelspec": {
      "display_name": "Python 3",
      "name": "python3"
    },
    "language_info": {
      "name": "python"
    }
  },
  "nbformat": 4,
  "nbformat_minor": 0
}