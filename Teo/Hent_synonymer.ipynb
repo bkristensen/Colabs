{
  "cells": [
    {
      "cell_type": "markdown",
      "metadata": {
        "id": "view-in-github",
        "colab_type": "text"
      },
      "source": [
        "<a href=\"https://colab.research.google.com/github/bkristensen/Colabs/blob/main/Teo/Hent_synonymer.ipynb\" target=\"_parent\"><img src=\"https://colab.research.google.com/assets/colab-badge.svg\" alt=\"Open In Colab\"/></a>"
      ]
    },
    {
      "cell_type": "markdown",
      "source": [
        "# Installere moduler"
      ],
      "metadata": {
        "id": "1P9pK3fgpt2R"
      }
    },
    {
      "cell_type": "code",
      "execution_count": 3,
      "metadata": {
        "colab": {
          "base_uri": "https://localhost:8080/"
        },
        "collapsed": true,
        "id": "kolwrVqauWT_",
        "outputId": "be19f0ed-551e-4e4b-9ca8-73763cb86869"
      },
      "outputs": [
        {
          "output_type": "stream",
          "name": "stdout",
          "text": [
            "Requirement already satisfied: gspread in /usr/local/lib/python3.11/dist-packages (6.2.0)\n",
            "Requirement already satisfied: oauth2client in /usr/local/lib/python3.11/dist-packages (4.1.3)\n",
            "Requirement already satisfied: pyppeteer in /usr/local/lib/python3.11/dist-packages (2.0.0)\n",
            "Requirement already satisfied: nest_asyncio in /usr/local/lib/python3.11/dist-packages (1.6.0)\n",
            "Requirement already satisfied: google-auth>=1.12.0 in /usr/local/lib/python3.11/dist-packages (from gspread) (2.38.0)\n",
            "Requirement already satisfied: google-auth-oauthlib>=0.4.1 in /usr/local/lib/python3.11/dist-packages (from gspread) (1.2.1)\n",
            "Requirement already satisfied: httplib2>=0.9.1 in /usr/local/lib/python3.11/dist-packages (from oauth2client) (0.22.0)\n",
            "Requirement already satisfied: pyasn1>=0.1.7 in /usr/local/lib/python3.11/dist-packages (from oauth2client) (0.6.1)\n",
            "Requirement already satisfied: pyasn1-modules>=0.0.5 in /usr/local/lib/python3.11/dist-packages (from oauth2client) (0.4.1)\n",
            "Requirement already satisfied: rsa>=3.1.4 in /usr/local/lib/python3.11/dist-packages (from oauth2client) (4.9)\n",
            "Requirement already satisfied: six>=1.6.1 in /usr/local/lib/python3.11/dist-packages (from oauth2client) (1.17.0)\n",
            "Requirement already satisfied: appdirs<2.0.0,>=1.4.3 in /usr/local/lib/python3.11/dist-packages (from pyppeteer) (1.4.4)\n",
            "Requirement already satisfied: certifi>=2023 in /usr/local/lib/python3.11/dist-packages (from pyppeteer) (2025.1.31)\n",
            "Requirement already satisfied: importlib-metadata>=1.4 in /usr/local/lib/python3.11/dist-packages (from pyppeteer) (8.6.1)\n",
            "Requirement already satisfied: pyee<12.0.0,>=11.0.0 in /usr/local/lib/python3.11/dist-packages (from pyppeteer) (11.1.1)\n",
            "Requirement already satisfied: tqdm<5.0.0,>=4.42.1 in /usr/local/lib/python3.11/dist-packages (from pyppeteer) (4.67.1)\n",
            "Requirement already satisfied: urllib3<2.0.0,>=1.25.8 in /usr/local/lib/python3.11/dist-packages (from pyppeteer) (1.26.20)\n",
            "Requirement already satisfied: websockets<11.0,>=10.0 in /usr/local/lib/python3.11/dist-packages (from pyppeteer) (10.4)\n",
            "Requirement already satisfied: cachetools<6.0,>=2.0.0 in /usr/local/lib/python3.11/dist-packages (from google-auth>=1.12.0->gspread) (5.5.2)\n",
            "Requirement already satisfied: requests-oauthlib>=0.7.0 in /usr/local/lib/python3.11/dist-packages (from google-auth-oauthlib>=0.4.1->gspread) (2.0.0)\n",
            "Requirement already satisfied: pyparsing!=3.0.0,!=3.0.1,!=3.0.2,!=3.0.3,<4,>=2.4.2 in /usr/local/lib/python3.11/dist-packages (from httplib2>=0.9.1->oauth2client) (3.2.1)\n",
            "Requirement already satisfied: zipp>=3.20 in /usr/local/lib/python3.11/dist-packages (from importlib-metadata>=1.4->pyppeteer) (3.21.0)\n",
            "Requirement already satisfied: typing-extensions in /usr/local/lib/python3.11/dist-packages (from pyee<12.0.0,>=11.0.0->pyppeteer) (4.12.2)\n",
            "Requirement already satisfied: oauthlib>=3.0.0 in /usr/local/lib/python3.11/dist-packages (from requests-oauthlib>=0.7.0->google-auth-oauthlib>=0.4.1->gspread) (3.2.2)\n",
            "Requirement already satisfied: requests>=2.0.0 in /usr/local/lib/python3.11/dist-packages (from requests-oauthlib>=0.7.0->google-auth-oauthlib>=0.4.1->gspread) (2.32.3)\n",
            "Requirement already satisfied: charset-normalizer<4,>=2 in /usr/local/lib/python3.11/dist-packages (from requests>=2.0.0->requests-oauthlib>=0.7.0->google-auth-oauthlib>=0.4.1->gspread) (3.4.1)\n",
            "Requirement already satisfied: idna<4,>=2.5 in /usr/local/lib/python3.11/dist-packages (from requests>=2.0.0->requests-oauthlib>=0.7.0->google-auth-oauthlib>=0.4.1->gspread) (3.10)\n"
          ]
        }
      ],
      "source": [
        "!pip install gspread oauth2client pyppeteer nest_asyncio\n"
      ]
    },
    {
      "cell_type": "markdown",
      "source": [
        "# Importér moduler"
      ],
      "metadata": {
        "id": "n3_vNVHOp2ka"
      }
    },
    {
      "cell_type": "code",
      "execution_count": 4,
      "metadata": {
        "collapsed": true,
        "id": "tp6fTMxbz_tJ"
      },
      "outputs": [],
      "source": [
        "import gspread\n",
        "import sqlite3\n",
        "\n",
        "import asyncio\n",
        "import nest_asyncio\n",
        "\n",
        "import pyppeteer\n",
        "\n",
        "import google.auth\n",
        "\n",
        "# from google.colab import auth\n",
        "\n",
        "# from pyppeteer import launch\n",
        "# from pyppeteer import chromium_downloader"
      ]
    },
    {
      "cell_type": "markdown",
      "source": [
        "# Config"
      ],
      "metadata": {
        "id": "QGk_mf7qwyU1"
      }
    },
    {
      "cell_type": "code",
      "source": [
        "conf = {\n",
        "  \"drive_dir\":      \"/content/drive\",\n",
        "  \"data_dir\":       \"/content/drive/MyDrive/Data\",\n",
        "  \"database_dir\":   \"/content/drive/MyDrive/Data/TagSynonyms.db\"\n",
        "}\n",
        "\n",
        "print(conf)"
      ],
      "metadata": {
        "colab": {
          "base_uri": "https://localhost:8080/"
        },
        "id": "1WRM069dw3YT",
        "outputId": "32e3ed6e-1a62-464c-d0ce-bcfb8634deea"
      },
      "execution_count": 18,
      "outputs": [
        {
          "output_type": "stream",
          "name": "stdout",
          "text": [
            "{'drive_dir': '/content/drive', 'data_dir': '/content/drive/MyDrive/Data', 'database_dir': '/content/drive/MyDrive/Data/TagSynonyms.db'}\n"
          ]
        }
      ]
    },
    {
      "cell_type": "markdown",
      "source": [
        "# Init"
      ],
      "metadata": {
        "id": "SBVPfDScplXO"
      }
    },
    {
      "cell_type": "code",
      "source": [
        "nest_asyncio.apply()\n",
        "await pyppeteer.chromium_downloader.download_chromium()"
      ],
      "metadata": {
        "id": "9bUCn1ipoTVA",
        "colab": {
          "base_uri": "https://localhost:8080/",
          "height": 295
        },
        "collapsed": true,
        "outputId": "65a8ec35-6a4f-45b1-806a-429d1e70ef11"
      },
      "execution_count": 7,
      "outputs": [
        {
          "output_type": "stream",
          "name": "stderr",
          "text": [
            "[INFO] Starting Chromium download.\n",
            "INFO:pyppeteer.chromium_downloader:Starting Chromium download.\n",
            "100%|██████████| 183M/183M [00:04<00:00, 37.8Mb/s]\n",
            "[INFO] Beginning extraction\n",
            "INFO:pyppeteer.chromium_downloader:Beginning extraction\n",
            "[INFO] Chromium extracted to: /root/.local/share/pyppeteer/local-chromium/1181205\n",
            "INFO:pyppeteer.chromium_downloader:Chromium extracted to: /root/.local/share/pyppeteer/local-chromium/1181205\n"
          ]
        },
        {
          "output_type": "error",
          "ename": "TypeError",
          "evalue": "object NoneType can't be used in 'await' expression",
          "traceback": [
            "\u001b[0;31m---------------------------------------------------------------------------\u001b[0m",
            "\u001b[0;31mTypeError\u001b[0m                                 Traceback (most recent call last)",
            "\u001b[0;32m<ipython-input-7-d0fe1b27faf4>\u001b[0m in \u001b[0;36m<cell line: 1>\u001b[0;34m()\u001b[0m\n\u001b[1;32m      1\u001b[0m \u001b[0mnest_asyncio\u001b[0m\u001b[0;34m.\u001b[0m\u001b[0mapply\u001b[0m\u001b[0;34m(\u001b[0m\u001b[0;34m)\u001b[0m\u001b[0;34m\u001b[0m\u001b[0;34m\u001b[0m\u001b[0m\n\u001b[0;32m----> 2\u001b[0;31m \u001b[0;32mawait\u001b[0m \u001b[0mpyppeteer\u001b[0m\u001b[0;34m.\u001b[0m\u001b[0mchromium_downloader\u001b[0m\u001b[0;34m.\u001b[0m\u001b[0mdownload_chromium\u001b[0m\u001b[0;34m(\u001b[0m\u001b[0;34m)\u001b[0m\u001b[0;34m\u001b[0m\u001b[0;34m\u001b[0m\u001b[0m\n\u001b[0m",
            "\u001b[0;31mTypeError\u001b[0m: object NoneType can't be used in 'await' expression"
          ]
        }
      ]
    },
    {
      "cell_type": "markdown",
      "source": [
        "### Test Pypeteer browser"
      ],
      "metadata": {
        "id": "qt9hJjecqL3Y"
      }
    },
    {
      "cell_type": "code",
      "execution_count": 5,
      "metadata": {
        "colab": {
          "base_uri": "https://localhost:8080/"
        },
        "id": "Ia-utjNG03_-",
        "outputId": "e89e7003-2438-4f07-e2af-7dbd010424d2"
      },
      "outputs": [
        {
          "output_type": "stream",
          "name": "stderr",
          "text": [
            "[INFO] Starting Chromium download.\n",
            "INFO:pyppeteer.chromium_downloader:Starting Chromium download.\n",
            "100%|██████████| 183M/183M [00:04<00:00, 38.0Mb/s]\n",
            "[INFO] Beginning extraction\n",
            "INFO:pyppeteer.chromium_downloader:Beginning extraction\n",
            "[INFO] Chromium extracted to: /root/.local/share/pyppeteer/local-chromium/1181205\n",
            "INFO:pyppeteer.chromium_downloader:Chromium extracted to: /root/.local/share/pyppeteer/local-chromium/1181205\n"
          ]
        },
        {
          "output_type": "stream",
          "name": "stdout",
          "text": [
            "Browser virker!\n"
          ]
        }
      ],
      "source": [
        "\n",
        "async def test_browser():\n",
        "    browser = await pyppeteer.launch(headless=True, args=[\"--no-sandbox\"])\n",
        "    page = await browser.newPage()\n",
        "    await page.goto(\"https://example.com\")\n",
        "    content = await page.content()\n",
        "    await browser.close()\n",
        "    print(\"Browser virker!\")\n",
        "\n",
        "await test_browser()"
      ]
    },
    {
      "cell_type": "markdown",
      "source": [
        "### Opret adgang til Google drev"
      ],
      "metadata": {
        "id": "KE35oNs0qwwp"
      }
    },
    {
      "cell_type": "code",
      "execution_count": 19,
      "metadata": {
        "id": "j8dpBONfxXU0",
        "colab": {
          "base_uri": "https://localhost:8080/"
        },
        "outputId": "9effd015-52d5-41a5-89e4-ff154f1cecf0"
      },
      "outputs": [
        {
          "output_type": "stream",
          "name": "stdout",
          "text": [
            "Drive already mounted at /content/drive; to attempt to forcibly remount, call drive.mount(\"/content/drive\", force_remount=True).\n"
          ]
        }
      ],
      "source": [
        "# Godkend adgang til Google sheets\n",
        "google.colab.auth.authenticate_user()\n",
        "\n",
        "# Brug google.auth i stedet for oauth2client\n",
        "creds, _ = google.auth.default()\n",
        "gc = gspread.authorize(creds)\n",
        "\n",
        "google.colab.drive.mount(conf[\"drive_dir\"])"
      ]
    },
    {
      "cell_type": "markdown",
      "source": [
        "### Hent Pyppeter browser pakke"
      ],
      "metadata": {
        "id": "PgA2Yo9PrPLA"
      }
    },
    {
      "cell_type": "markdown",
      "source": [
        "# SQLite handlinger"
      ],
      "metadata": {
        "id": "MShA20E2trD7"
      }
    },
    {
      "cell_type": "markdown",
      "source": [
        "### Opret SQLite database"
      ],
      "metadata": {
        "id": "tn77SpSpqAOu"
      }
    },
    {
      "cell_type": "code",
      "execution_count": 21,
      "metadata": {
        "id": "lt-ZumjlwbLQ",
        "colab": {
          "base_uri": "https://localhost:8080/",
          "height": 207
        },
        "outputId": "228b38bf-7c4f-48ca-9002-1e8c476a87b3"
      },
      "outputs": [
        {
          "output_type": "error",
          "ename": "OperationalError",
          "evalue": "table \"TagSynonyms\" has more than one primary key",
          "traceback": [
            "\u001b[0;31m---------------------------------------------------------------------------\u001b[0m",
            "\u001b[0;31mOperationalError\u001b[0m                          Traceback (most recent call last)",
            "\u001b[0;32m<ipython-input-21-5e8daaf597bb>\u001b[0m in \u001b[0;36m<cell line: 0>\u001b[0;34m()\u001b[0m\n\u001b[1;32m      4\u001b[0m \u001b[0;34m\u001b[0m\u001b[0m\n\u001b[1;32m      5\u001b[0m \u001b[0;31m# Opret tabeller\u001b[0m\u001b[0;34m\u001b[0m\u001b[0;34m\u001b[0m\u001b[0m\n\u001b[0;32m----> 6\u001b[0;31m cursor.executescript(\"\"\"\n\u001b[0m\u001b[1;32m      7\u001b[0m CREATE TABLE IF NOT EXISTS Tags (\n\u001b[1;32m      8\u001b[0m     \u001b[0mId\u001b[0m \u001b[0mINTEGER\u001b[0m \u001b[0mPRIMARY\u001b[0m \u001b[0mKEY\u001b[0m \u001b[0mAUTOINCREMENT\u001b[0m\u001b[0;34m,\u001b[0m\u001b[0;34m\u001b[0m\u001b[0;34m\u001b[0m\u001b[0m\n",
            "\u001b[0;31mOperationalError\u001b[0m: table \"TagSynonyms\" has more than one primary key"
          ]
        }
      ],
      "source": [
        "# Opret forbindelse til SQLite-database\n",
        "conn = sqlite3.connect(conf['database_dir'])\n",
        "cursor = conn.cursor()\n",
        "\n",
        "# Opret tabeller\n",
        "cursor.executescript(\"\"\"\n",
        "CREATE TABLE IF NOT EXISTS Tags (\n",
        "    Id INTEGER PRIMARY KEY AUTOINCREMENT,\n",
        "    Tag STRING(100) UNIQUE NOT NULL,\n",
        "    TagId INTEGER\n",
        ");\n",
        "\n",
        "CREATE TABLE IF NOT EXISTS Synonyms (\n",
        "    Id INTEGER PRIMARY KEY AUTOINCREMENT,\n",
        "    Synonym STRING(100) UNIQUE NOT NULL\n",
        ");\n",
        "\n",
        "CREATE TABLE IF NOT EXISTS TagSynonyms (\n",
        "    TId INTEGER NOT NULL,\n",
        "    SId INTEGER NOT NULL,\n",
        "    PRIMARY KEY (UId, SId),\n",
        "    FOREIGN KEY (UId) REFERENCES Tags(UId),\n",
        "    FOREIGN KEY (SId) REFERENCES Synonyms(Id)\n",
        ");\n",
        "\"\"\")\n",
        "\n",
        "conn.commit()\n"
      ]
    },
    {
      "cell_type": "markdown",
      "source": [
        "### Gem ord og synonym"
      ],
      "metadata": {
        "id": "UIUX8biGt8gf"
      }
    },
    {
      "cell_type": "code",
      "source": [
        "def gem_ord_med_synonymer(ordet, synonymer):\n",
        "    # Indsæt ord (hvis det ikke allerede findes)\n",
        "    cursor.execute(\"INSERT OR IGNORE INTO Tags (Tag) VALUES (?)\", (ordet,))\n",
        "    cursor.execute(\"SELECT TagId FROM Tags WHERE Text = ?\", (ordet,))\n",
        "    tag_id = cursor.fetchone()[0]\n",
        "\n",
        "    for synonym in synonymer:\n",
        "        cursor.execute(\"INSERT OR IGNORE INTO Synonyms (Text) VALUES (?)\", (synonym,))\n",
        "        cursor.execute(\"SELECT SynonymId FROM Synonyms WHERE Text = ?\", (synonym,))\n",
        "        synonym_id = cursor.fetchone()[0]\n",
        "\n",
        "        # Link kun hvis ikke allerede linket\n",
        "        cursor.execute(\"\"\"\n",
        "            INSERT OR IGNORE INTO WordSynonyms (TagId, SynonymId)\n",
        "            VALUES (?, ?)\n",
        "        \"\"\", (tag_id, synonym_id))\n",
        "\n",
        "    conn.commit()\n"
      ],
      "metadata": {
        "id": "nfwNUxbGtgbG"
      },
      "execution_count": null,
      "outputs": []
    },
    {
      "cell_type": "code",
      "execution_count": null,
      "metadata": {
        "id": "pHf3Gb2F9xJv"
      },
      "outputs": [],
      "source": [
        "\n",
        "async def hent_synonymer(ordet):\n",
        "    url = f\"https://synonymet.dk/ord/{ordet}\"\n",
        "    browser = await pyppeteer.launch(headless=True, args=[\"--no-sandbox\"])\n",
        "    page = await browser.newPage()\n",
        "    await page.goto(url)\n",
        "\n",
        "    try:\n",
        "        await page.waitForSelector(\".wordcloud-span\", timeout=3000)\n",
        "        elementer = await page.querySelectorAll(\".wordcloud-span\")\n",
        "        synonymer = []\n",
        "        for el in elementer:\n",
        "            tekst = await page.evaluate('(el) => el.textContent', el)\n",
        "            if tekst.strip():\n",
        "                synonymer.append(tekst.strip())\n",
        "    except:\n",
        "        synonymer = []\n",
        "\n",
        "    await browser.close()\n",
        "    return synonymer"
      ]
    },
    {
      "cell_type": "code",
      "execution_count": null,
      "metadata": {
        "id": "sJtveWxs1tcY"
      },
      "outputs": [],
      "source": [
        "# Åbn arket og vælg det første ark\n",
        "sheet = gc.open(\"Synonymer\").sheet1\n",
        "\n",
        "# Hent alle ord fra kolonne A, start fra række 2\n",
        "ordliste = sheet.col_values(1)[1:]"
      ]
    },
    {
      "cell_type": "code",
      "execution_count": null,
      "metadata": {
        "id": "WSMRgZ1Q9uVW"
      },
      "outputs": [],
      "source": [
        "resultater = []\n",
        "for i, ordet in enumerate(ordliste):\n",
        "    kol = 2\n",
        "    print(f\"Henter synonymer for: {ordet}\")\n",
        "    syns = asyncio.get_event_loop().run_until_complete(hent_synonymer(ordet))\n",
        "    if syns:\n",
        "      for syn in syns:\n",
        "        kol += 1\n",
        "        sheet.update_cell(i + 2, kol, syn)\n",
        "\n",
        "    tekst = \", \".join(syns) if syns else \"Ingen synonymer fundet\"\n",
        "\n",
        "    resultater.append(tekst)\n",
        "\n",
        "    # Skriv i kolonne B (række i + 2 pga. overskrift)\n",
        "    sheet.update_cell(i + 2, 2, tekst)"
      ]
    }
  ],
  "metadata": {
    "colab": {
      "provenance": [],
      "authorship_tag": "ABX9TyPTRP+r+qtwtjtMk8TSv4hW",
      "include_colab_link": true
    },
    "kernelspec": {
      "display_name": "Python 3",
      "name": "python3"
    },
    "language_info": {
      "name": "python"
    }
  },
  "nbformat": 4,
  "nbformat_minor": 0
}