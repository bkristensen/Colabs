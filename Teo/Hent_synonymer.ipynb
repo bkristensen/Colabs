{
  "cells": [
    {
      "cell_type": "markdown",
      "metadata": {
        "id": "view-in-github",
        "colab_type": "text"
      },
      "source": [
        "<a href=\"https://colab.research.google.com/github/bkristensen/Colabs/blob/main/Teo/Hent_synonymer.ipynb\" target=\"_parent\"><img src=\"https://colab.research.google.com/assets/colab-badge.svg\" alt=\"Open In Colab\"/></a>"
      ]
    },
    {
      "cell_type": "markdown",
      "source": [
        "# Installere moduler"
      ],
      "metadata": {
        "id": "1P9pK3fgpt2R"
      }
    },
    {
      "cell_type": "code",
      "execution_count": null,
      "metadata": {
        "colab": {
          "base_uri": "https://localhost:8080/"
        },
        "collapsed": true,
        "id": "kolwrVqauWT_",
        "outputId": "8485bfca-f50f-43a7-a074-8fb3ce95d5dd"
      },
      "outputs": [
        {
          "output_type": "stream",
          "name": "stdout",
          "text": [
            "Requirement already satisfied: gspread in /usr/local/lib/python3.11/dist-packages (6.2.0)\n",
            "Requirement already satisfied: oauth2client in /usr/local/lib/python3.11/dist-packages (4.1.3)\n",
            "Requirement already satisfied: pyppeteer in /usr/local/lib/python3.11/dist-packages (2.0.0)\n",
            "Requirement already satisfied: nest_asyncio in /usr/local/lib/python3.11/dist-packages (1.6.0)\n",
            "Requirement already satisfied: google-auth>=1.12.0 in /usr/local/lib/python3.11/dist-packages (from gspread) (2.38.0)\n",
            "Requirement already satisfied: google-auth-oauthlib>=0.4.1 in /usr/local/lib/python3.11/dist-packages (from gspread) (1.2.1)\n",
            "Requirement already satisfied: httplib2>=0.9.1 in /usr/local/lib/python3.11/dist-packages (from oauth2client) (0.22.0)\n",
            "Requirement already satisfied: pyasn1>=0.1.7 in /usr/local/lib/python3.11/dist-packages (from oauth2client) (0.6.1)\n",
            "Requirement already satisfied: pyasn1-modules>=0.0.5 in /usr/local/lib/python3.11/dist-packages (from oauth2client) (0.4.1)\n",
            "Requirement already satisfied: rsa>=3.1.4 in /usr/local/lib/python3.11/dist-packages (from oauth2client) (4.9)\n",
            "Requirement already satisfied: six>=1.6.1 in /usr/local/lib/python3.11/dist-packages (from oauth2client) (1.17.0)\n",
            "Requirement already satisfied: appdirs<2.0.0,>=1.4.3 in /usr/local/lib/python3.11/dist-packages (from pyppeteer) (1.4.4)\n",
            "Requirement already satisfied: certifi>=2023 in /usr/local/lib/python3.11/dist-packages (from pyppeteer) (2025.1.31)\n",
            "Requirement already satisfied: importlib-metadata>=1.4 in /usr/local/lib/python3.11/dist-packages (from pyppeteer) (8.6.1)\n",
            "Requirement already satisfied: pyee<12.0.0,>=11.0.0 in /usr/local/lib/python3.11/dist-packages (from pyppeteer) (11.1.1)\n",
            "Requirement already satisfied: tqdm<5.0.0,>=4.42.1 in /usr/local/lib/python3.11/dist-packages (from pyppeteer) (4.67.1)\n",
            "Requirement already satisfied: urllib3<2.0.0,>=1.25.8 in /usr/local/lib/python3.11/dist-packages (from pyppeteer) (1.26.20)\n",
            "Requirement already satisfied: websockets<11.0,>=10.0 in /usr/local/lib/python3.11/dist-packages (from pyppeteer) (10.4)\n",
            "Requirement already satisfied: cachetools<6.0,>=2.0.0 in /usr/local/lib/python3.11/dist-packages (from google-auth>=1.12.0->gspread) (5.5.2)\n",
            "Requirement already satisfied: requests-oauthlib>=0.7.0 in /usr/local/lib/python3.11/dist-packages (from google-auth-oauthlib>=0.4.1->gspread) (2.0.0)\n",
            "Requirement already satisfied: pyparsing!=3.0.0,!=3.0.1,!=3.0.2,!=3.0.3,<4,>=2.4.2 in /usr/local/lib/python3.11/dist-packages (from httplib2>=0.9.1->oauth2client) (3.2.1)\n",
            "Requirement already satisfied: zipp>=3.20 in /usr/local/lib/python3.11/dist-packages (from importlib-metadata>=1.4->pyppeteer) (3.21.0)\n",
            "Requirement already satisfied: typing-extensions in /usr/local/lib/python3.11/dist-packages (from pyee<12.0.0,>=11.0.0->pyppeteer) (4.12.2)\n",
            "Requirement already satisfied: oauthlib>=3.0.0 in /usr/local/lib/python3.11/dist-packages (from requests-oauthlib>=0.7.0->google-auth-oauthlib>=0.4.1->gspread) (3.2.2)\n",
            "Requirement already satisfied: requests>=2.0.0 in /usr/local/lib/python3.11/dist-packages (from requests-oauthlib>=0.7.0->google-auth-oauthlib>=0.4.1->gspread) (2.32.3)\n",
            "Requirement already satisfied: charset-normalizer<4,>=2 in /usr/local/lib/python3.11/dist-packages (from requests>=2.0.0->requests-oauthlib>=0.7.0->google-auth-oauthlib>=0.4.1->gspread) (3.4.1)\n",
            "Requirement already satisfied: idna<4,>=2.5 in /usr/local/lib/python3.11/dist-packages (from requests>=2.0.0->requests-oauthlib>=0.7.0->google-auth-oauthlib>=0.4.1->gspread) (3.10)\n"
          ]
        }
      ],
      "source": [
        "!pip install gspread oauth2client pyppeteer nest_asyncio\n"
      ]
    },
    {
      "cell_type": "markdown",
      "source": [
        "# Importér moduler"
      ],
      "metadata": {
        "id": "n3_vNVHOp2ka"
      }
    },
    {
      "cell_type": "code",
      "execution_count": null,
      "metadata": {
        "collapsed": true,
        "id": "tp6fTMxbz_tJ"
      },
      "outputs": [],
      "source": [
        "import gspread\n",
        "import sqlite3\n",
        "\n",
        "import asyncio\n",
        "import nest_asyncio\n",
        "\n",
        "import pyppeteer\n",
        "\n",
        "import google.auth\n",
        "\n",
        "nest_asyncio.apply()\n"
      ]
    },
    {
      "cell_type": "markdown",
      "source": [
        "# Funktioner"
      ],
      "metadata": {
        "id": "oJHCaCBBaeG6"
      }
    },
    {
      "cell_type": "code",
      "source": [
        "conf = {\n",
        "  \"drive_dir\":      \"/content/drive\",\n",
        "  \"data_dir\":       \"/content/drive/MyDrive/Data\",\n",
        "  \"database_dir\":   \"/content/drive/MyDrive/Data/Synonyms.db\"\n",
        "}\n",
        "resultater = []\n",
        "\n",
        "async def test_browser():\n",
        "  browser = await pyppeteer.launch(headless=True, args=[\"--no-sandbox\"])\n",
        "  page = await browser.newPage()\n",
        "  await page.goto(\"https://example.com\")\n",
        "  content = await page.content()\n",
        "  await browser.close()\n",
        "  print(\"Browser virker!\")\n",
        "\n",
        "async def initGoogleAccess():\n",
        "  # Godkend adgang til Google sheets\n",
        "  google.colab.auth.authenticate_user()\n",
        "  google.colab.drive.mount(conf[\"drive_dir\"])\n",
        "\n",
        "async def hent_synonymer(ordet: str) -> list:\n",
        "  synonymer: list = []\n",
        "  browser: pyppeteer.browser.Browser = await pyppeteer.launch(headless=True, args=[\"--no-sandbox\"])\n",
        "  page: pyppeteer.browser.Page = await browser.newPage()\n",
        "  await page.goto(f\"https://synonymet.dk/ord/{ordet}\")\n",
        "  try:\n",
        "    await page.waitForSelector(\".wordcloud-span\", timeout=3000)\n",
        "    elementer: list = await page.querySelectorAll(\".wordcloud-span\")\n",
        "    for el in elementer:\n",
        "      tekst = (await page.evaluate('(el) => el.textContent', el)).strip()\n",
        "      if tekst:\n",
        "        synonymer.append(tekst)\n",
        "  except Exception as e:\n",
        "      print(f\"Kunne ikke finde synonymer for {ordet}: {e}\")\n",
        "  await browser.close()\n",
        "  return synonymer\n",
        "\n",
        "async def initDatabase():\n",
        "  # Opret tabeller\n",
        "  conn = sqlite3.connect(conf['database_dir'])\n",
        "  cursor = conn.cursor()\n",
        "  cursor.executescript(\"\"\"\n",
        "CREATE TABLE IF NOT EXISTS Tags (\n",
        "    Id INTEGER PRIMARY KEY AUTOINCREMENT,\n",
        "    Tag STRING(100) UNIQUE NOT NULL\n",
        ");\n",
        "\n",
        "CREATE TABLE IF NOT EXISTS Synonyms (\n",
        "    Id INTEGER PRIMARY KEY AUTOINCREMENT,\n",
        "    Synonym STRING(100) UNIQUE NOT NULL\n",
        ");\n",
        "\n",
        "CREATE TABLE IF NOT EXISTS TagSynonyms (\n",
        "    TId INTEGER NOT NULL,\n",
        "    SId INTEGER NOT NULL,\n",
        "    PRIMARY KEY (TId, SId),\n",
        "    FOREIGN KEY (TId) REFERENCES Tags(Id),\n",
        "    FOREIGN KEY (SId) REFERENCES Synonyms(Id)\n",
        ");\n",
        "\n",
        "CREATE TABLE IF NOT EXISTS TagIds (\n",
        "    TId INTEGER NOT NULL,\n",
        "    TagId INTEGER NOT NULL,\n",
        "    PRIMARY KEY (TId, TagId),\n",
        "    FOREIGN KEY (TId) REFERENCES Tags(Id)\n",
        ");\n",
        "\"\"\")\n",
        "  conn.commit()\n",
        "  cursor.close()\n",
        "  conn.close()\n",
        "\n",
        "def loadSheetData():\n",
        "  # Åbn arket og vælg det første ark\n",
        "  creds, _ = google.auth.default()\n",
        "  gc = gspread.authorize(creds)\n",
        "  sheet = gc.open(\"Synonymer\").get_worksheet(2)\n",
        "  # Hent alle ord fra kolonne A, start fra række 2\n",
        "  ordliste_ids = sheet.col_values(1)[1:]\n",
        "  ordliste_tags = sheet.col_values(2)[1:]\n",
        "  return ordliste_ids, ordliste_tags\n",
        "\n",
        "def gem_ord_med_synonymer(conn: sqlite3.Connection, ordet: str, tagid: int | None):\n",
        "  # Indsæt ord (hvis det ikke allerede findes)\n",
        "  new_tag: bool = False\n",
        "  id: int | None = None\n",
        "  fdata: list | None = None\n",
        "\n",
        "  cursor: sqlite3.Cursor = conn.cursor()\n",
        "  cursor.execute(\"SELECT Id FROM Tags WHERE Tag = ?\", (ordet,))\n",
        "  fdata = cursor.fetchone()\n",
        "\n",
        "  if not fdata:\n",
        "    new_tag = True\n",
        "    print(f\"Indsætter ny tag: {ordet}\")\n",
        "    cursor.execute(\"INSERT OR IGNORE INTO Tags (Tag) VALUES (?)\", (ordet,))\n",
        "    cursor.execute(\"SELECT Id FROM Tags WHERE Tag = ?\", (ordet,))\n",
        "    id = cursor.fetchone()[0]\n",
        "  else:\n",
        "    id = fdata[0]\n",
        "\n",
        "  if tagid:\n",
        "    cursor.execute(\"INSERT OR IGNORE INTO TagIds (TId, TagId) VALUES (?, ?)\", (id, tagid))\n",
        "\n",
        "  if new_tag:\n",
        "    print(f\"Henter synonymer for: {ordet}\")\n",
        "    syns: list = asyncio.get_event_loop().run_until_complete(hent_synonymer(ordet))\n",
        "    if syns:\n",
        "      print(f\"Antal synonymer for {ordet}: {len(syns)}\")\n",
        "      for syn in syns:\n",
        "        synonym = f\"{syn}\".capitalize()\n",
        "        cursor.execute(\"INSERT OR IGNORE INTO Synonyms (Synonym) VALUES (?)\", (synonym,))\n",
        "        cursor.execute(\"SELECT Id FROM Synonyms WHERE Synonym = ?\", (synonym,))\n",
        "        synonym_id = cursor.fetchone()[0]\n",
        "\n",
        "        # Link kun hvis ikke allerede linket\n",
        "        cursor.execute(\"INSERT OR IGNORE INTO TagSynonyms (TId, SId) VALUES (?, ?)\", (id, synonym_id))\n",
        "    else:\n",
        "      print(f\"Kunne ikke finde synonymer for {ordet}\")\n",
        "  conn.commit()\n",
        "  cursor.close()\n",
        "\n"
      ],
      "metadata": {
        "id": "rsXGWVoEai0w"
      },
      "execution_count": null,
      "outputs": []
    },
    {
      "cell_type": "markdown",
      "source": [
        "# Init"
      ],
      "metadata": {
        "id": "SBVPfDScplXO"
      }
    },
    {
      "cell_type": "code",
      "execution_count": null,
      "metadata": {
        "id": "j8dpBONfxXU0",
        "colab": {
          "base_uri": "https://localhost:8080/"
        },
        "outputId": "2fb1214c-67bb-4513-e40d-429f764f36a9"
      },
      "outputs": [
        {
          "output_type": "stream",
          "name": "stderr",
          "text": [
            "[INFO] Starting Chromium download.\n",
            "INFO:pyppeteer.chromium_downloader:Starting Chromium download.\n",
            "100%|██████████| 183M/183M [00:01<00:00, 131Mb/s]\n",
            "[INFO] Beginning extraction\n",
            "INFO:pyppeteer.chromium_downloader:Beginning extraction\n",
            "[INFO] Chromium extracted to: /root/.local/share/pyppeteer/local-chromium/1181205\n",
            "INFO:pyppeteer.chromium_downloader:Chromium extracted to: /root/.local/share/pyppeteer/local-chromium/1181205\n"
          ]
        },
        {
          "output_type": "stream",
          "name": "stdout",
          "text": [
            "Browser virker!\n"
          ]
        }
      ],
      "source": [
        "await test_browser()"
      ]
    },
    {
      "cell_type": "code",
      "source": [
        "await initGoogleAccess()\n",
        "\n",
        "await initDatabase()"
      ],
      "metadata": {
        "id": "4qLDyCZoa0K1",
        "colab": {
          "base_uri": "https://localhost:8080/"
        },
        "outputId": "355698d0-4b31-4165-d53c-bb01c3c10dba"
      },
      "execution_count": null,
      "outputs": [
        {
          "output_type": "stream",
          "name": "stdout",
          "text": [
            "Drive already mounted at /content/drive; to attempt to forcibly remount, call drive.mount(\"/content/drive\", force_remount=True).\n"
          ]
        }
      ]
    },
    {
      "cell_type": "markdown",
      "source": [
        "### Gem ord og synonym"
      ],
      "metadata": {
        "id": "UIUX8biGt8gf"
      }
    },
    {
      "cell_type": "code",
      "execution_count": 47,
      "metadata": {
        "id": "WSMRgZ1Q9uVW",
        "colab": {
          "base_uri": "https://localhost:8080/"
        },
        "outputId": "7ee843a4-503b-496b-ea53-80dbdd189b9a"
      },
      "outputs": [
        {
          "output_type": "stream",
          "name": "stdout",
          "text": [
            "Henter tags fra Google Sheet...\n",
            "Antal ord: 510\n",
            "Færdig!\n"
          ]
        }
      ],
      "source": [
        "print(\"Henter tags fra Google Sheet...\")\n",
        "ordliste_ids, ordliste_tags = loadSheetData()\n",
        "\n",
        "conn = sqlite3.connect(conf['database_dir'])\n",
        "\n",
        "print(f\"Antal tags: {len(ordliste_tags)}\")\n",
        "\n",
        "for i, ordet in enumerate(ordliste_tags):\n",
        "  # print(f\"Tjekker ord: {ordet}\")\n",
        "  try:\n",
        "    gem_ord_med_synonymer(conn, ordet.capitalize(), ordliste_ids[i])\n",
        "  except Exception as e:\n",
        "    print(f\"Fejl under tjek af {ordet} - Fejl: {e}\")\n",
        "    continue\n",
        "\n",
        "print(\"Færdig!\")\n",
        "conn.close()"
      ]
    }
  ],
  "metadata": {
    "colab": {
      "provenance": [],
      "authorship_tag": "ABX9TyOZUMUveT0CWVjCAKhdpXc/",
      "include_colab_link": true
    },
    "kernelspec": {
      "display_name": "Python 3",
      "name": "python3"
    },
    "language_info": {
      "name": "python"
    }
  },
  "nbformat": 4,
  "nbformat_minor": 0
}