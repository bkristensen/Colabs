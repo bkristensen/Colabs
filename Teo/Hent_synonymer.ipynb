{
  "cells": [
    {
      "cell_type": "markdown",
      "metadata": {
        "id": "view-in-github",
        "colab_type": "text"
      },
      "source": [
        "<a href=\"https://colab.research.google.com/github/bkristensen/Colabs/blob/main/Teo/Hent_synonymer.ipynb\" target=\"_parent\"><img src=\"https://colab.research.google.com/assets/colab-badge.svg\" alt=\"Open In Colab\"/></a>"
      ]
    },
    {
      "cell_type": "markdown",
      "source": [
        "# Installere moduler"
      ],
      "metadata": {
        "id": "1P9pK3fgpt2R"
      }
    },
    {
      "cell_type": "code",
      "execution_count": null,
      "metadata": {
        "colab": {
          "base_uri": "https://localhost:8080/"
        },
        "collapsed": true,
        "id": "kolwrVqauWT_",
        "outputId": "8485bfca-f50f-43a7-a074-8fb3ce95d5dd"
      },
      "outputs": [
        {
          "output_type": "stream",
          "name": "stdout",
          "text": [
            "Requirement already satisfied: gspread in /usr/local/lib/python3.11/dist-packages (6.2.0)\n",
            "Requirement already satisfied: oauth2client in /usr/local/lib/python3.11/dist-packages (4.1.3)\n",
            "Requirement already satisfied: pyppeteer in /usr/local/lib/python3.11/dist-packages (2.0.0)\n",
            "Requirement already satisfied: nest_asyncio in /usr/local/lib/python3.11/dist-packages (1.6.0)\n",
            "Requirement already satisfied: google-auth>=1.12.0 in /usr/local/lib/python3.11/dist-packages (from gspread) (2.38.0)\n",
            "Requirement already satisfied: google-auth-oauthlib>=0.4.1 in /usr/local/lib/python3.11/dist-packages (from gspread) (1.2.1)\n",
            "Requirement already satisfied: httplib2>=0.9.1 in /usr/local/lib/python3.11/dist-packages (from oauth2client) (0.22.0)\n",
            "Requirement already satisfied: pyasn1>=0.1.7 in /usr/local/lib/python3.11/dist-packages (from oauth2client) (0.6.1)\n",
            "Requirement already satisfied: pyasn1-modules>=0.0.5 in /usr/local/lib/python3.11/dist-packages (from oauth2client) (0.4.1)\n",
            "Requirement already satisfied: rsa>=3.1.4 in /usr/local/lib/python3.11/dist-packages (from oauth2client) (4.9)\n",
            "Requirement already satisfied: six>=1.6.1 in /usr/local/lib/python3.11/dist-packages (from oauth2client) (1.17.0)\n",
            "Requirement already satisfied: appdirs<2.0.0,>=1.4.3 in /usr/local/lib/python3.11/dist-packages (from pyppeteer) (1.4.4)\n",
            "Requirement already satisfied: certifi>=2023 in /usr/local/lib/python3.11/dist-packages (from pyppeteer) (2025.1.31)\n",
            "Requirement already satisfied: importlib-metadata>=1.4 in /usr/local/lib/python3.11/dist-packages (from pyppeteer) (8.6.1)\n",
            "Requirement already satisfied: pyee<12.0.0,>=11.0.0 in /usr/local/lib/python3.11/dist-packages (from pyppeteer) (11.1.1)\n",
            "Requirement already satisfied: tqdm<5.0.0,>=4.42.1 in /usr/local/lib/python3.11/dist-packages (from pyppeteer) (4.67.1)\n",
            "Requirement already satisfied: urllib3<2.0.0,>=1.25.8 in /usr/local/lib/python3.11/dist-packages (from pyppeteer) (1.26.20)\n",
            "Requirement already satisfied: websockets<11.0,>=10.0 in /usr/local/lib/python3.11/dist-packages (from pyppeteer) (10.4)\n",
            "Requirement already satisfied: cachetools<6.0,>=2.0.0 in /usr/local/lib/python3.11/dist-packages (from google-auth>=1.12.0->gspread) (5.5.2)\n",
            "Requirement already satisfied: requests-oauthlib>=0.7.0 in /usr/local/lib/python3.11/dist-packages (from google-auth-oauthlib>=0.4.1->gspread) (2.0.0)\n",
            "Requirement already satisfied: pyparsing!=3.0.0,!=3.0.1,!=3.0.2,!=3.0.3,<4,>=2.4.2 in /usr/local/lib/python3.11/dist-packages (from httplib2>=0.9.1->oauth2client) (3.2.1)\n",
            "Requirement already satisfied: zipp>=3.20 in /usr/local/lib/python3.11/dist-packages (from importlib-metadata>=1.4->pyppeteer) (3.21.0)\n",
            "Requirement already satisfied: typing-extensions in /usr/local/lib/python3.11/dist-packages (from pyee<12.0.0,>=11.0.0->pyppeteer) (4.12.2)\n",
            "Requirement already satisfied: oauthlib>=3.0.0 in /usr/local/lib/python3.11/dist-packages (from requests-oauthlib>=0.7.0->google-auth-oauthlib>=0.4.1->gspread) (3.2.2)\n",
            "Requirement already satisfied: requests>=2.0.0 in /usr/local/lib/python3.11/dist-packages (from requests-oauthlib>=0.7.0->google-auth-oauthlib>=0.4.1->gspread) (2.32.3)\n",
            "Requirement already satisfied: charset-normalizer<4,>=2 in /usr/local/lib/python3.11/dist-packages (from requests>=2.0.0->requests-oauthlib>=0.7.0->google-auth-oauthlib>=0.4.1->gspread) (3.4.1)\n",
            "Requirement already satisfied: idna<4,>=2.5 in /usr/local/lib/python3.11/dist-packages (from requests>=2.0.0->requests-oauthlib>=0.7.0->google-auth-oauthlib>=0.4.1->gspread) (3.10)\n"
          ]
        }
      ],
      "source": [
        "!pip install gspread oauth2client pyppeteer nest_asyncio\n"
      ]
    },
    {
      "cell_type": "markdown",
      "source": [
        "# Importér moduler"
      ],
      "metadata": {
        "id": "n3_vNVHOp2ka"
      }
    },
    {
      "cell_type": "code",
      "execution_count": 4,
      "metadata": {
        "collapsed": true,
        "id": "tp6fTMxbz_tJ"
      },
      "outputs": [],
      "source": [
        "import gspread\n",
        "import sqlite3\n",
        "\n",
        "import asyncio\n",
        "import nest_asyncio\n",
        "\n",
        "import pyppeteer\n",
        "\n",
        "import google.auth\n",
        "\n",
        "nest_asyncio.apply()\n",
        "\n",
        "conf = {\n",
        "  \"drive_dir\":      \"/content/drive\",\n",
        "  \"data_dir\":       \"/content/drive/MyDrive/Data\",\n",
        "  \"database_dir\":   \"/content/drive/MyDrive/Data/Synonyms.db\"\n",
        "}\n",
        "# Opret forbindelse til SQLite-database\n",
        "conn = None\n",
        "cursor = None\n",
        "ordliste_ids = []\n",
        "ordliste_tags = []\n",
        "resultater = []"
      ]
    },
    {
      "cell_type": "markdown",
      "source": [
        "# Funktioner"
      ],
      "metadata": {
        "id": "oJHCaCBBaeG6"
      }
    },
    {
      "cell_type": "code",
      "source": [
        "async def test_browser():\n",
        "    browser = await pyppeteer.launch(headless=True, args=[\"--no-sandbox\"])\n",
        "    page = await browser.newPage()\n",
        "    await page.goto(\"https://example.com\")\n",
        "    content = await page.content()\n",
        "    await browser.close()\n",
        "    print(\"Browser virker!\")\n",
        "\n",
        "def getGoogleAccess():\n",
        "  # Godkend adgang til Google sheets\n",
        "  google.colab.auth.authenticate_user()\n",
        "\n",
        "  # Brug google.auth i stedet for oauth2client\n",
        "  creds, _ = google.auth.default()\n",
        "  gc = gspread.authorize(creds)\n",
        "\n",
        "  google.colab.drive.mount(conf[\"drive_dir\"])\n",
        "\n",
        "def getSheetData():\n",
        "  # Åbn arket og vælg det første ark\n",
        "  sheet = gc.open(\"Synonymer\").get_worksheet(2)\n",
        "  # Hent alle ord fra kolonne A, start fra række 2\n",
        "  ordliste_ids = sheet.col_values(1)[1:]\n",
        "  ordliste_tags = sheet.col_values(2)[1:]\n",
        "  print(ordliste_ids)\n",
        "  print(ordliste_tags)\n",
        "\n",
        "def getDbConnection():\n",
        "  if not conn:\n",
        "    conn = sqlite3.connect(conf['database_dir'])\n",
        "  return conn\n",
        "\n",
        "def getDbCursor():\n",
        "  if not cursor:\n",
        "    dbCon = getDbConnection()\n",
        "    cursor = dbCon.cursor()\n",
        "  return cursor\n",
        "\n",
        "def dbCommit():\n",
        "  conn.commit()\n",
        "  cursor.close()\n",
        "  conn.close()\n",
        "\n",
        "def createDatabase():\n",
        "  # Opret tabeller\n",
        "  cursor = getDbCursor()\n",
        "  cursor.executescript(\"\"\"\n",
        "CREATE TABLE IF NOT EXISTS Tags (\n",
        "    Id INTEGER PRIMARY KEY AUTOINCREMENT,\n",
        "    Tag STRING(100) UNIQUE NOT NULL\n",
        ");\n",
        "\n",
        "CREATE TABLE IF NOT EXISTS Synonyms (\n",
        "    Id INTEGER PRIMARY KEY AUTOINCREMENT,\n",
        "    Synonym STRING(100) UNIQUE NOT NULL\n",
        ");\n",
        "\n",
        "CREATE TABLE IF NOT EXISTS TagSynonyms (\n",
        "    TId INTEGER NOT NULL,\n",
        "    SId INTEGER NOT NULL,\n",
        "    PRIMARY KEY (TId, SId),\n",
        "    FOREIGN KEY (TId) REFERENCES Tags(Id),\n",
        "    FOREIGN KEY (SId) REFERENCES Synonyms(Id)\n",
        ");\n",
        "\n",
        "CREATE TABLE IF NOT EXISTS TagIds (\n",
        "    TId INTEGER NOT NULL,\n",
        "    TagId INTEGER NOT NULL,\n",
        "    PRIMARY KEY (TId, TagId),\n",
        "    FOREIGN KEY (TId) REFERENCES Tags(Id)\n",
        ");\n",
        "\"\"\")\n",
        "  dbCommit()\n",
        "\n",
        "def gem_ord_med_synonymer(ordet, tagid):\n",
        "    # Indsæt ord (hvis det ikke allerede findes)\n",
        "    cursor = getDbCursor()\n",
        "    cursor.execute(\"SELECT Id FROM Tags WHERE Tag = ?\", (ordet,))\n",
        "    new_tag = False\n",
        "    fdata = cursor.fetchone()\n",
        "    if not fdata:\n",
        "      new_tag = True\n",
        "      cursor.execute(\"INSERT OR IGNORE INTO Tags (Tag) VALUES (?)\", (ordet,))\n",
        "      cursor.execute(\"SELECT Id FROM Tags WHERE Tag = ?\", (ordet,))\n",
        "      id = cursor.fetchone()[0]\n",
        "    else:\n",
        "      id = fdata[0]\n",
        "\n",
        "    if tagid:\n",
        "      cursor.execute(\"\"\"\n",
        "            INSERT OR IGNORE INTO TagIds (TId, TagId)\n",
        "            VALUES (?, ?)\n",
        "        \"\"\", (id, tagid))\n",
        "\n",
        "    if new_tag:\n",
        "      print(f\"Henter synonymer for: {ordet}\")\n",
        "      syns = asyncio.get_event_loop().run_until_complete(hent_synonymer(ordet))\n",
        "      if syns:\n",
        "        for syn in syns:\n",
        "          n = f\"{syn}\".capitalize()\n",
        "          cursor.execute(\"INSERT OR IGNORE INTO Synonyms (Synonym) VALUES (?)\", (n,))\n",
        "          cursor.execute(\"SELECT Id FROM Synonyms WHERE Synonym = ?\", (n,))\n",
        "          synonym_id = cursor.fetchone()[0]\n",
        "\n",
        "          # Link kun hvis ikke allerede linket\n",
        "          cursor.execute(\"\"\"\n",
        "            INSERT OR IGNORE INTO TagSynonyms (TId, SId)\n",
        "            VALUES (?, ?)\n",
        "          \"\"\", (id, synonym_id))\n",
        "    conn.commit()\n",
        "    cursor.close()\n",
        "\n",
        "async def hent_synonymer(ordet):\n",
        "    url = f\"https://synonymet.dk/ord/{ordet}\"\n",
        "    browser = await pyppeteer.launch(headless=True, args=[\"--no-sandbox\"])\n",
        "    page = await browser.newPage()\n",
        "    await page.goto(url)\n",
        "\n",
        "    try:\n",
        "        await page.waitForSelector(\".wordcloud-span\", timeout=3000)\n",
        "        elementer = await page.querySelectorAll(\".wordcloud-span\")\n",
        "        synonymer = []\n",
        "        for el in elementer:\n",
        "            tekst = await page.evaluate('(el) => el.textContent', el)\n",
        "            if tekst.strip():\n",
        "                synonymer.append(tekst.strip())\n",
        "    except:\n",
        "        synonymer = []\n",
        "\n",
        "    await browser.close()\n",
        "    return synonymer"
      ],
      "metadata": {
        "id": "rsXGWVoEai0w"
      },
      "execution_count": 7,
      "outputs": []
    },
    {
      "cell_type": "markdown",
      "source": [
        "# Init"
      ],
      "metadata": {
        "id": "SBVPfDScplXO"
      }
    },
    {
      "cell_type": "code",
      "source": [
        "createDatabase()\n",
        "\n",
        "getGoogleAccess()\n",
        "getSheetData()"
      ],
      "metadata": {
        "id": "4qLDyCZoa0K1"
      },
      "execution_count": null,
      "outputs": []
    },
    {
      "cell_type": "code",
      "source": [],
      "metadata": {
        "id": "EiH1vNbja9ZS"
      },
      "execution_count": null,
      "outputs": []
    },
    {
      "cell_type": "code",
      "execution_count": null,
      "metadata": {
        "id": "j8dpBONfxXU0",
        "colab": {
          "base_uri": "https://localhost:8080/"
        },
        "outputId": "1ea3905a-ccdd-4b8a-bb22-e36c04c7cebf"
      },
      "outputs": [
        {
          "output_type": "stream",
          "name": "stdout",
          "text": [
            "Drive already mounted at /content/drive; to attempt to forcibly remount, call drive.mount(\"/content/drive\", force_remount=True).\n"
          ]
        }
      ],
      "source": [
        "await test_browser()"
      ]
    },
    {
      "cell_type": "markdown",
      "source": [
        "# Config"
      ],
      "metadata": {
        "id": "QGk_mf7qwyU1"
      }
    },
    {
      "cell_type": "markdown",
      "source": [
        "# SQLite handlinger"
      ],
      "metadata": {
        "id": "MShA20E2trD7"
      }
    },
    {
      "cell_type": "markdown",
      "source": [
        "### Gem ord og synonym"
      ],
      "metadata": {
        "id": "UIUX8biGt8gf"
      }
    },
    {
      "cell_type": "code",
      "execution_count": null,
      "metadata": {
        "id": "WSMRgZ1Q9uVW"
      },
      "outputs": [],
      "source": [
        "conn = getDbConnection()\n",
        "cursor = getDbCursor()\n",
        "\n",
        "for i, ordet in enumerate(ordliste_tags):\n",
        "    try:\n",
        "      gem_ord_med_synonymer(ordet.capitalize(), ordliste_ids[i])\n",
        "    except Exception as e:\n",
        "      print(e)\n",
        "      continue\n",
        "\n",
        "conn.commit()\n",
        "cursor.close()\n",
        "conn.close()"
      ]
    }
  ],
  "metadata": {
    "colab": {
      "provenance": [],
      "authorship_tag": "ABX9TyP1USEHgx3G7Qjj8CAuWKN1",
      "include_colab_link": true
    },
    "kernelspec": {
      "display_name": "Python 3",
      "name": "python3"
    },
    "language_info": {
      "name": "python"
    }
  },
  "nbformat": 4,
  "nbformat_minor": 0
}