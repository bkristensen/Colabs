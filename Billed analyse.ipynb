{
  "nbformat": 4,
  "nbformat_minor": 0,
  "metadata": {
    "colab": {
      "provenance": [],
      "authorship_tag": "ABX9TyPzetmZgg9p9jo3xbNaoa4r",
      "include_colab_link": true
    },
    "kernelspec": {
      "name": "python3",
      "display_name": "Python 3"
    },
    "language_info": {
      "name": "python"
    }
  },
  "cells": [
    {
      "cell_type": "markdown",
      "metadata": {
        "id": "view-in-github",
        "colab_type": "text"
      },
      "source": [
        "<a href=\"https://colab.research.google.com/github/bkristensen/Colabs/blob/main/Billed%20analyse.ipynb\" target=\"_parent\"><img src=\"https://colab.research.google.com/assets/colab-badge.svg\" alt=\"Open In Colab\"/></a>"
      ]
    },
    {
      "cell_type": "code",
      "source": [
        "# 🔧 INSTALLATION (kun første gang)\n",
        "!pip install torch torchvision pillow"
      ],
      "metadata": {
        "colab": {
          "base_uri": "https://localhost:8080/"
        },
        "id": "n2AHJ0jcC8Lw",
        "outputId": "a7891f3a-3e41-482a-ed51-b6b2faca21b4",
        "collapsed": true
      },
      "execution_count": null,
      "outputs": [
        {
          "output_type": "stream",
          "name": "stdout",
          "text": [
            "Requirement already satisfied: torch in /usr/local/lib/python3.11/dist-packages (2.6.0+cu124)\n",
            "Requirement already satisfied: torchvision in /usr/local/lib/python3.11/dist-packages (0.21.0+cu124)\n",
            "Requirement already satisfied: pillow in /usr/local/lib/python3.11/dist-packages (11.2.1)\n",
            "Requirement already satisfied: filelock in /usr/local/lib/python3.11/dist-packages (from torch) (3.18.0)\n",
            "Requirement already satisfied: typing-extensions>=4.10.0 in /usr/local/lib/python3.11/dist-packages (from torch) (4.13.2)\n",
            "Requirement already satisfied: networkx in /usr/local/lib/python3.11/dist-packages (from torch) (3.4.2)\n",
            "Requirement already satisfied: jinja2 in /usr/local/lib/python3.11/dist-packages (from torch) (3.1.6)\n",
            "Requirement already satisfied: fsspec in /usr/local/lib/python3.11/dist-packages (from torch) (2025.3.2)\n",
            "Collecting nvidia-cuda-nvrtc-cu12==12.4.127 (from torch)\n",
            "  Downloading nvidia_cuda_nvrtc_cu12-12.4.127-py3-none-manylinux2014_x86_64.whl.metadata (1.5 kB)\n",
            "Collecting nvidia-cuda-runtime-cu12==12.4.127 (from torch)\n",
            "  Downloading nvidia_cuda_runtime_cu12-12.4.127-py3-none-manylinux2014_x86_64.whl.metadata (1.5 kB)\n",
            "Collecting nvidia-cuda-cupti-cu12==12.4.127 (from torch)\n",
            "  Downloading nvidia_cuda_cupti_cu12-12.4.127-py3-none-manylinux2014_x86_64.whl.metadata (1.6 kB)\n",
            "Collecting nvidia-cudnn-cu12==9.1.0.70 (from torch)\n",
            "  Downloading nvidia_cudnn_cu12-9.1.0.70-py3-none-manylinux2014_x86_64.whl.metadata (1.6 kB)\n",
            "Collecting nvidia-cublas-cu12==12.4.5.8 (from torch)\n",
            "  Downloading nvidia_cublas_cu12-12.4.5.8-py3-none-manylinux2014_x86_64.whl.metadata (1.5 kB)\n",
            "Collecting nvidia-cufft-cu12==11.2.1.3 (from torch)\n",
            "  Downloading nvidia_cufft_cu12-11.2.1.3-py3-none-manylinux2014_x86_64.whl.metadata (1.5 kB)\n",
            "Collecting nvidia-curand-cu12==10.3.5.147 (from torch)\n",
            "  Downloading nvidia_curand_cu12-10.3.5.147-py3-none-manylinux2014_x86_64.whl.metadata (1.5 kB)\n",
            "Collecting nvidia-cusolver-cu12==11.6.1.9 (from torch)\n",
            "  Downloading nvidia_cusolver_cu12-11.6.1.9-py3-none-manylinux2014_x86_64.whl.metadata (1.6 kB)\n",
            "Collecting nvidia-cusparse-cu12==12.3.1.170 (from torch)\n",
            "  Downloading nvidia_cusparse_cu12-12.3.1.170-py3-none-manylinux2014_x86_64.whl.metadata (1.6 kB)\n",
            "Requirement already satisfied: nvidia-cusparselt-cu12==0.6.2 in /usr/local/lib/python3.11/dist-packages (from torch) (0.6.2)\n",
            "Requirement already satisfied: nvidia-nccl-cu12==2.21.5 in /usr/local/lib/python3.11/dist-packages (from torch) (2.21.5)\n",
            "Requirement already satisfied: nvidia-nvtx-cu12==12.4.127 in /usr/local/lib/python3.11/dist-packages (from torch) (12.4.127)\n",
            "Collecting nvidia-nvjitlink-cu12==12.4.127 (from torch)\n",
            "  Downloading nvidia_nvjitlink_cu12-12.4.127-py3-none-manylinux2014_x86_64.whl.metadata (1.5 kB)\n",
            "Requirement already satisfied: triton==3.2.0 in /usr/local/lib/python3.11/dist-packages (from torch) (3.2.0)\n",
            "Requirement already satisfied: sympy==1.13.1 in /usr/local/lib/python3.11/dist-packages (from torch) (1.13.1)\n",
            "Requirement already satisfied: mpmath<1.4,>=1.1.0 in /usr/local/lib/python3.11/dist-packages (from sympy==1.13.1->torch) (1.3.0)\n",
            "Requirement already satisfied: numpy in /usr/local/lib/python3.11/dist-packages (from torchvision) (2.0.2)\n",
            "Requirement already satisfied: MarkupSafe>=2.0 in /usr/local/lib/python3.11/dist-packages (from jinja2->torch) (3.0.2)\n",
            "Downloading nvidia_cublas_cu12-12.4.5.8-py3-none-manylinux2014_x86_64.whl (363.4 MB)\n",
            "\u001b[2K   \u001b[90m━━━━━━━━━━━━━━━━━━━━━━━━━━━━━━━━━━━━━━━━\u001b[0m \u001b[32m363.4/363.4 MB\u001b[0m \u001b[31m3.3 MB/s\u001b[0m eta \u001b[36m0:00:00\u001b[0m\n",
            "\u001b[?25hDownloading nvidia_cuda_cupti_cu12-12.4.127-py3-none-manylinux2014_x86_64.whl (13.8 MB)\n",
            "\u001b[2K   \u001b[90m━━━━━━━━━━━━━━━━━━━━━━━━━━━━━━━━━━━━━━━━\u001b[0m \u001b[32m13.8/13.8 MB\u001b[0m \u001b[31m36.3 MB/s\u001b[0m eta \u001b[36m0:00:00\u001b[0m\n",
            "\u001b[?25hDownloading nvidia_cuda_nvrtc_cu12-12.4.127-py3-none-manylinux2014_x86_64.whl (24.6 MB)\n",
            "\u001b[2K   \u001b[90m━━━━━━━━━━━━━━━━━━━━━━━━━━━━━━━━━━━━━━━━\u001b[0m \u001b[32m24.6/24.6 MB\u001b[0m \u001b[31m25.5 MB/s\u001b[0m eta \u001b[36m0:00:00\u001b[0m\n",
            "\u001b[?25hDownloading nvidia_cuda_runtime_cu12-12.4.127-py3-none-manylinux2014_x86_64.whl (883 kB)\n",
            "\u001b[2K   \u001b[90m━━━━━━━━━━━━━━━━━━━━━━━━━━━━━━━━━━━━━━━━\u001b[0m \u001b[32m883.7/883.7 kB\u001b[0m \u001b[31m27.0 MB/s\u001b[0m eta \u001b[36m0:00:00\u001b[0m\n",
            "\u001b[?25hDownloading nvidia_cudnn_cu12-9.1.0.70-py3-none-manylinux2014_x86_64.whl (664.8 MB)\n",
            "\u001b[2K   \u001b[90m━━━━━━━━━━━━━━━━━━━━━━━━━━━━━━━━━━━━━━━━\u001b[0m \u001b[32m664.8/664.8 MB\u001b[0m \u001b[31m2.4 MB/s\u001b[0m eta \u001b[36m0:00:00\u001b[0m\n",
            "\u001b[?25hDownloading nvidia_cufft_cu12-11.2.1.3-py3-none-manylinux2014_x86_64.whl (211.5 MB)\n",
            "\u001b[2K   \u001b[90m━━━━━━━━━━━━━━━━━━━━━━━━━━━━━━━━━━━━━━━━\u001b[0m \u001b[32m211.5/211.5 MB\u001b[0m \u001b[31m5.5 MB/s\u001b[0m eta \u001b[36m0:00:00\u001b[0m\n",
            "\u001b[?25hDownloading nvidia_curand_cu12-10.3.5.147-py3-none-manylinux2014_x86_64.whl (56.3 MB)\n",
            "\u001b[2K   \u001b[90m━━━━━━━━━━━━━━━━━━━━━━━━━━━━━━━━━━━━━━━━\u001b[0m \u001b[32m56.3/56.3 MB\u001b[0m \u001b[31m9.5 MB/s\u001b[0m eta \u001b[36m0:00:00\u001b[0m\n",
            "\u001b[?25hDownloading nvidia_cusolver_cu12-11.6.1.9-py3-none-manylinux2014_x86_64.whl (127.9 MB)\n",
            "\u001b[2K   \u001b[90m━━━━━━━━━━━━━━━━━━━━━━━━━━━━━━━━━━━━━━━━\u001b[0m \u001b[32m127.9/127.9 MB\u001b[0m \u001b[31m6.9 MB/s\u001b[0m eta \u001b[36m0:00:00\u001b[0m\n",
            "\u001b[?25hDownloading nvidia_cusparse_cu12-12.3.1.170-py3-none-manylinux2014_x86_64.whl (207.5 MB)\n",
            "\u001b[2K   \u001b[90m━━━━━━━━━━━━━━━━━━━━━━━━━━━━━━━━━━━━━━━━\u001b[0m \u001b[32m207.5/207.5 MB\u001b[0m \u001b[31m6.0 MB/s\u001b[0m eta \u001b[36m0:00:00\u001b[0m\n",
            "\u001b[?25hDownloading nvidia_nvjitlink_cu12-12.4.127-py3-none-manylinux2014_x86_64.whl (21.1 MB)\n",
            "\u001b[2K   \u001b[90m━━━━━━━━━━━━━━━━━━━━━━━━━━━━━━━━━━━━━━━━\u001b[0m \u001b[32m21.1/21.1 MB\u001b[0m \u001b[31m59.4 MB/s\u001b[0m eta \u001b[36m0:00:00\u001b[0m\n",
            "\u001b[?25hInstalling collected packages: nvidia-nvjitlink-cu12, nvidia-curand-cu12, nvidia-cufft-cu12, nvidia-cuda-runtime-cu12, nvidia-cuda-nvrtc-cu12, nvidia-cuda-cupti-cu12, nvidia-cublas-cu12, nvidia-cusparse-cu12, nvidia-cudnn-cu12, nvidia-cusolver-cu12\n",
            "  Attempting uninstall: nvidia-nvjitlink-cu12\n",
            "    Found existing installation: nvidia-nvjitlink-cu12 12.5.82\n",
            "    Uninstalling nvidia-nvjitlink-cu12-12.5.82:\n",
            "      Successfully uninstalled nvidia-nvjitlink-cu12-12.5.82\n",
            "  Attempting uninstall: nvidia-curand-cu12\n",
            "    Found existing installation: nvidia-curand-cu12 10.3.6.82\n",
            "    Uninstalling nvidia-curand-cu12-10.3.6.82:\n",
            "      Successfully uninstalled nvidia-curand-cu12-10.3.6.82\n",
            "  Attempting uninstall: nvidia-cufft-cu12\n",
            "    Found existing installation: nvidia-cufft-cu12 11.2.3.61\n",
            "    Uninstalling nvidia-cufft-cu12-11.2.3.61:\n",
            "      Successfully uninstalled nvidia-cufft-cu12-11.2.3.61\n",
            "  Attempting uninstall: nvidia-cuda-runtime-cu12\n",
            "    Found existing installation: nvidia-cuda-runtime-cu12 12.5.82\n",
            "    Uninstalling nvidia-cuda-runtime-cu12-12.5.82:\n",
            "      Successfully uninstalled nvidia-cuda-runtime-cu12-12.5.82\n",
            "  Attempting uninstall: nvidia-cuda-nvrtc-cu12\n",
            "    Found existing installation: nvidia-cuda-nvrtc-cu12 12.5.82\n",
            "    Uninstalling nvidia-cuda-nvrtc-cu12-12.5.82:\n",
            "      Successfully uninstalled nvidia-cuda-nvrtc-cu12-12.5.82\n",
            "  Attempting uninstall: nvidia-cuda-cupti-cu12\n",
            "    Found existing installation: nvidia-cuda-cupti-cu12 12.5.82\n",
            "    Uninstalling nvidia-cuda-cupti-cu12-12.5.82:\n",
            "      Successfully uninstalled nvidia-cuda-cupti-cu12-12.5.82\n",
            "  Attempting uninstall: nvidia-cublas-cu12\n",
            "    Found existing installation: nvidia-cublas-cu12 12.5.3.2\n",
            "    Uninstalling nvidia-cublas-cu12-12.5.3.2:\n",
            "      Successfully uninstalled nvidia-cublas-cu12-12.5.3.2\n",
            "  Attempting uninstall: nvidia-cusparse-cu12\n",
            "    Found existing installation: nvidia-cusparse-cu12 12.5.1.3\n",
            "    Uninstalling nvidia-cusparse-cu12-12.5.1.3:\n",
            "      Successfully uninstalled nvidia-cusparse-cu12-12.5.1.3\n",
            "  Attempting uninstall: nvidia-cudnn-cu12\n",
            "    Found existing installation: nvidia-cudnn-cu12 9.3.0.75\n",
            "    Uninstalling nvidia-cudnn-cu12-9.3.0.75:\n",
            "      Successfully uninstalled nvidia-cudnn-cu12-9.3.0.75\n",
            "  Attempting uninstall: nvidia-cusolver-cu12\n",
            "    Found existing installation: nvidia-cusolver-cu12 11.6.3.83\n",
            "    Uninstalling nvidia-cusolver-cu12-11.6.3.83:\n",
            "      Successfully uninstalled nvidia-cusolver-cu12-11.6.3.83\n",
            "Successfully installed nvidia-cublas-cu12-12.4.5.8 nvidia-cuda-cupti-cu12-12.4.127 nvidia-cuda-nvrtc-cu12-12.4.127 nvidia-cuda-runtime-cu12-12.4.127 nvidia-cudnn-cu12-9.1.0.70 nvidia-cufft-cu12-11.2.1.3 nvidia-curand-cu12-10.3.5.147 nvidia-cusolver-cu12-11.6.1.9 nvidia-cusparse-cu12-12.3.1.170 nvidia-nvjitlink-cu12-12.4.127\n"
          ]
        }
      ]
    },
    {
      "cell_type": "markdown",
      "source": [
        "📂 Sådan bruger du det:\n",
        "\n",
        "\t1.\tGå til Google Colab\n",
        "\t2.\tOpret en ny Python 3-notesbog\n",
        "\t3.\tIndsæt hele scriptet i en celle\n",
        "\t4.\tUpload dine billeder som en .zip-fil når scriptet spørger\n",
        "\t5.\tResultaterne vises som: filnavn | beskrivelse | farve\n"
      ],
      "metadata": {
        "id": "A-lkXZ7ZEQNt"
      }
    },
    {
      "cell_type": "code",
      "source": [
        "from google.colab import files\n",
        "import zipfile\n",
        "import os"
      ],
      "metadata": {
        "id": "odf4yvCjDG6J"
      },
      "execution_count": null,
      "outputs": []
    },
    {
      "cell_type": "code",
      "source": [
        "# 🧠 IMPORTÉR MODELLER OG KLASSER\n",
        "import torch\n",
        "from torchvision import models, transforms\n",
        "from PIL import Image\n",
        "import numpy as np\n",
        "from pathlib import Path\n",
        "import urllib.request"
      ],
      "metadata": {
        "id": "tDdrakiwDZEX"
      },
      "execution_count": null,
      "outputs": []
    },
    {
      "cell_type": "code",
      "source": [
        "# 🎨 Funktion til at finde temafarve\n",
        "def get_main_color(image):\n",
        "    image = image.resize((50, 50))\n",
        "    arr = np.array(image).reshape(-1, 3)\n",
        "    mean = np.mean(arr, axis=0)\n",
        "    return tuple(int(x) for x in mean)"
      ],
      "metadata": {
        "id": "RPEtVuEdDs8O"
      },
      "execution_count": null,
      "outputs": []
    },
    {
      "cell_type": "code",
      "source": [
        "# 📁 UPLOAD DINE BILLEDER\n",
        "uploaded = files.upload()\n",
        "for name in uploaded:\n",
        "    if name.endswith(\".zip\"):\n",
        "        with zipfile.ZipFile(name, 'r') as zip_ref:\n",
        "            zip_ref.extractall(\"billeder\")\n",
        "        print(f\"Udpakket: {name}\")"
      ],
      "metadata": {
        "colab": {
          "base_uri": "https://localhost:8080/",
          "height": 94
        },
        "id": "ST4nqkEHDPX7",
        "outputId": "2e300c59-b941-413e-8286-122b0e5e4a40",
        "collapsed": true
      },
      "execution_count": null,
      "outputs": [
        {
          "output_type": "display_data",
          "data": {
            "text/plain": [
              "<IPython.core.display.HTML object>"
            ],
            "text/html": [
              "\n",
              "     <input type=\"file\" id=\"files-eb4bd171-a410-4165-84f0-4ed4648f309b\" name=\"files[]\" multiple disabled\n",
              "        style=\"border:none\" />\n",
              "     <output id=\"result-eb4bd171-a410-4165-84f0-4ed4648f309b\">\n",
              "      Upload widget is only available when the cell has been executed in the\n",
              "      current browser session. Please rerun this cell to enable.\n",
              "      </output>\n",
              "      <script>// Copyright 2017 Google LLC\n",
              "//\n",
              "// Licensed under the Apache License, Version 2.0 (the \"License\");\n",
              "// you may not use this file except in compliance with the License.\n",
              "// You may obtain a copy of the License at\n",
              "//\n",
              "//      http://www.apache.org/licenses/LICENSE-2.0\n",
              "//\n",
              "// Unless required by applicable law or agreed to in writing, software\n",
              "// distributed under the License is distributed on an \"AS IS\" BASIS,\n",
              "// WITHOUT WARRANTIES OR CONDITIONS OF ANY KIND, either express or implied.\n",
              "// See the License for the specific language governing permissions and\n",
              "// limitations under the License.\n",
              "\n",
              "/**\n",
              " * @fileoverview Helpers for google.colab Python module.\n",
              " */\n",
              "(function(scope) {\n",
              "function span(text, styleAttributes = {}) {\n",
              "  const element = document.createElement('span');\n",
              "  element.textContent = text;\n",
              "  for (const key of Object.keys(styleAttributes)) {\n",
              "    element.style[key] = styleAttributes[key];\n",
              "  }\n",
              "  return element;\n",
              "}\n",
              "\n",
              "// Max number of bytes which will be uploaded at a time.\n",
              "const MAX_PAYLOAD_SIZE = 100 * 1024;\n",
              "\n",
              "function _uploadFiles(inputId, outputId) {\n",
              "  const steps = uploadFilesStep(inputId, outputId);\n",
              "  const outputElement = document.getElementById(outputId);\n",
              "  // Cache steps on the outputElement to make it available for the next call\n",
              "  // to uploadFilesContinue from Python.\n",
              "  outputElement.steps = steps;\n",
              "\n",
              "  return _uploadFilesContinue(outputId);\n",
              "}\n",
              "\n",
              "// This is roughly an async generator (not supported in the browser yet),\n",
              "// where there are multiple asynchronous steps and the Python side is going\n",
              "// to poll for completion of each step.\n",
              "// This uses a Promise to block the python side on completion of each step,\n",
              "// then passes the result of the previous step as the input to the next step.\n",
              "function _uploadFilesContinue(outputId) {\n",
              "  const outputElement = document.getElementById(outputId);\n",
              "  const steps = outputElement.steps;\n",
              "\n",
              "  const next = steps.next(outputElement.lastPromiseValue);\n",
              "  return Promise.resolve(next.value.promise).then((value) => {\n",
              "    // Cache the last promise value to make it available to the next\n",
              "    // step of the generator.\n",
              "    outputElement.lastPromiseValue = value;\n",
              "    return next.value.response;\n",
              "  });\n",
              "}\n",
              "\n",
              "/**\n",
              " * Generator function which is called between each async step of the upload\n",
              " * process.\n",
              " * @param {string} inputId Element ID of the input file picker element.\n",
              " * @param {string} outputId Element ID of the output display.\n",
              " * @return {!Iterable<!Object>} Iterable of next steps.\n",
              " */\n",
              "function* uploadFilesStep(inputId, outputId) {\n",
              "  const inputElement = document.getElementById(inputId);\n",
              "  inputElement.disabled = false;\n",
              "\n",
              "  const outputElement = document.getElementById(outputId);\n",
              "  outputElement.innerHTML = '';\n",
              "\n",
              "  const pickedPromise = new Promise((resolve) => {\n",
              "    inputElement.addEventListener('change', (e) => {\n",
              "      resolve(e.target.files);\n",
              "    });\n",
              "  });\n",
              "\n",
              "  const cancel = document.createElement('button');\n",
              "  inputElement.parentElement.appendChild(cancel);\n",
              "  cancel.textContent = 'Cancel upload';\n",
              "  const cancelPromise = new Promise((resolve) => {\n",
              "    cancel.onclick = () => {\n",
              "      resolve(null);\n",
              "    };\n",
              "  });\n",
              "\n",
              "  // Wait for the user to pick the files.\n",
              "  const files = yield {\n",
              "    promise: Promise.race([pickedPromise, cancelPromise]),\n",
              "    response: {\n",
              "      action: 'starting',\n",
              "    }\n",
              "  };\n",
              "\n",
              "  cancel.remove();\n",
              "\n",
              "  // Disable the input element since further picks are not allowed.\n",
              "  inputElement.disabled = true;\n",
              "\n",
              "  if (!files) {\n",
              "    return {\n",
              "      response: {\n",
              "        action: 'complete',\n",
              "      }\n",
              "    };\n",
              "  }\n",
              "\n",
              "  for (const file of files) {\n",
              "    const li = document.createElement('li');\n",
              "    li.append(span(file.name, {fontWeight: 'bold'}));\n",
              "    li.append(span(\n",
              "        `(${file.type || 'n/a'}) - ${file.size} bytes, ` +\n",
              "        `last modified: ${\n",
              "            file.lastModifiedDate ? file.lastModifiedDate.toLocaleDateString() :\n",
              "                                    'n/a'} - `));\n",
              "    const percent = span('0% done');\n",
              "    li.appendChild(percent);\n",
              "\n",
              "    outputElement.appendChild(li);\n",
              "\n",
              "    const fileDataPromise = new Promise((resolve) => {\n",
              "      const reader = new FileReader();\n",
              "      reader.onload = (e) => {\n",
              "        resolve(e.target.result);\n",
              "      };\n",
              "      reader.readAsArrayBuffer(file);\n",
              "    });\n",
              "    // Wait for the data to be ready.\n",
              "    let fileData = yield {\n",
              "      promise: fileDataPromise,\n",
              "      response: {\n",
              "        action: 'continue',\n",
              "      }\n",
              "    };\n",
              "\n",
              "    // Use a chunked sending to avoid message size limits. See b/62115660.\n",
              "    let position = 0;\n",
              "    do {\n",
              "      const length = Math.min(fileData.byteLength - position, MAX_PAYLOAD_SIZE);\n",
              "      const chunk = new Uint8Array(fileData, position, length);\n",
              "      position += length;\n",
              "\n",
              "      const base64 = btoa(String.fromCharCode.apply(null, chunk));\n",
              "      yield {\n",
              "        response: {\n",
              "          action: 'append',\n",
              "          file: file.name,\n",
              "          data: base64,\n",
              "        },\n",
              "      };\n",
              "\n",
              "      let percentDone = fileData.byteLength === 0 ?\n",
              "          100 :\n",
              "          Math.round((position / fileData.byteLength) * 100);\n",
              "      percent.textContent = `${percentDone}% done`;\n",
              "\n",
              "    } while (position < fileData.byteLength);\n",
              "  }\n",
              "\n",
              "  // All done.\n",
              "  yield {\n",
              "    response: {\n",
              "      action: 'complete',\n",
              "    }\n",
              "  };\n",
              "}\n",
              "\n",
              "scope.google = scope.google || {};\n",
              "scope.google.colab = scope.google.colab || {};\n",
              "scope.google.colab._files = {\n",
              "  _uploadFiles,\n",
              "  _uploadFilesContinue,\n",
              "};\n",
              "})(self);\n",
              "</script> "
            ]
          },
          "metadata": {}
        },
        {
          "output_type": "stream",
          "name": "stdout",
          "text": [
            "Saving Komprimeret arkiv.zip to Komprimeret arkiv.zip\n",
            "Udpakket: Komprimeret arkiv.zip\n"
          ]
        }
      ]
    },
    {
      "cell_type": "code",
      "source": [
        "# 🔤 Hent ImageNet klassenavne\n",
        "if not os.path.exists(\"imagenet_classes.txt\"):\n",
        "    urllib.request.urlretrieve(\n",
        "        \"https://raw.githubusercontent.com/pytorch/hub/master/imagenet_classes.txt\",\n",
        "        \"imagenet_classes.txt\"\n",
        "    )\n",
        "with open(\"imagenet_classes.txt\") as f:\n",
        "    labels = [line.strip() for line in f.readlines()]"
      ],
      "metadata": {
        "id": "_YfUIo8pDiDs"
      },
      "execution_count": null,
      "outputs": []
    },
    {
      "cell_type": "code",
      "source": [
        "# 🔄 Forbered model og transform\n",
        "model = models.resnet50(pretrained=True)\n",
        "model.eval()\n",
        "transform = transforms.Compose([\n",
        "    transforms.Resize((224, 224)),\n",
        "    transforms.ToTensor(),\n",
        "])"
      ],
      "metadata": {
        "colab": {
          "base_uri": "https://localhost:8080/"
        },
        "id": "9f5JMKPIDocR",
        "outputId": "b3b6dee5-15b4-4986-db5a-21bcff4052bf",
        "collapsed": true
      },
      "execution_count": null,
      "outputs": [
        {
          "output_type": "stream",
          "name": "stderr",
          "text": [
            "/usr/local/lib/python3.11/dist-packages/torchvision/models/_utils.py:208: UserWarning: The parameter 'pretrained' is deprecated since 0.13 and may be removed in the future, please use 'weights' instead.\n",
            "  warnings.warn(\n",
            "/usr/local/lib/python3.11/dist-packages/torchvision/models/_utils.py:223: UserWarning: Arguments other than a weight enum or `None` for 'weights' are deprecated since 0.13 and may be removed in the future. The current behavior is equivalent to passing `weights=ResNet50_Weights.IMAGENET1K_V1`. You can also use `weights=ResNet50_Weights.DEFAULT` to get the most up-to-date weights.\n",
            "  warnings.warn(msg)\n",
            "Downloading: \"https://download.pytorch.org/models/resnet50-0676ba61.pth\" to /root/.cache/torch/hub/checkpoints/resnet50-0676ba61.pth\n",
            "100%|██████████| 97.8M/97.8M [00:00<00:00, 132MB/s]\n"
          ]
        }
      ]
    },
    {
      "cell_type": "code",
      "source": [
        "# 🔍 ANALYSE AF BILLEDER\n",
        "input_folder = Path(\"billeder\")\n",
        "results = []\n",
        "\n",
        "for file in input_folder.glob(\"**/*\"):\n",
        "    if not file.is_file():\n",
        "        continue\n",
        "    if file.stem.startswith(\".\"):\n",
        "        continue\n",
        "    if file.suffix.lower() not in [\".jpg\", \".jpeg\", \".png\"]:\n",
        "        continue\n",
        "    try:\n",
        "        img = Image.open(file).convert(\"RGB\")\n",
        "        tensor = transform(img).unsqueeze(0)\n",
        "        with torch.no_grad():\n",
        "            output = model(tensor)\n",
        "            _, pred = output.max(1)\n",
        "            label = labels[pred.item()]\n",
        "        try:\n",
        "           color = get_main_color(img)\n",
        "        except Exception as e:\n",
        "           color = str(e)\n",
        "        results.append((file.name, label, color))\n",
        "    except Exception as e:\n",
        "        results.append((file.name, \"FEJL\", str(e)))\n"
      ],
      "metadata": {
        "id": "mVuj7nx3D0uG"
      },
      "execution_count": null,
      "outputs": []
    },
    {
      "cell_type": "code",
      "source": [
        "# 📄 VIS RESULTAT\n",
        "cvs_lines = [(\"Filnavn\", \"Label\", \"Farve\")]\n",
        "for filnavn, label, farve in results:\n",
        "    cvs_lines.append((filnavn, label, farve))\n",
        "    # print(f\"{filnavn:<30} | {label:<30} | Farve: {farve}\")\n",
        "\n",
        "cvs_file = Path(\"resultater.csv\")\n",
        "with cvs_file.open(\"w\") as fm:\n",
        "  fm.writelines([(\",\").join(str(cell) for cell in line) for line in cvs_lines])\n",
        "  #for line in cvs_lines:\n",
        "    # print(line)\n",
        "  #  fm.write(\",\".join(str(cell)) for cell in line)\n",
        "#cvs_file.write_text(\"/n\".join(\",\".join(str(cell) for cell in line) for line in cvs_lines))\n",
        "print(cvs_lines)"
      ],
      "metadata": {
        "colab": {
          "base_uri": "https://localhost:8080/"
        },
        "id": "dbGRnbxpD4zw",
        "outputId": "82250542-2a1d-45fa-93ef-7e54d9712b4a",
        "collapsed": true
      },
      "execution_count": 19,
      "outputs": [
        {
          "output_type": "stream",
          "name": "stdout",
          "text": [
            "[('Filnavn', 'Label', 'Farve'), ('IMG_0445.jpg', 'brassiere', (159, 127, 111)), ('IMG_6335.jpg', 'nipple', (138, 116, 99)), ('d63550c9-0b0b-4163-b28d-091f8442e17e.jpg', 'toilet tissue', (141, 124, 113)), ('IMG_2930.jpg', 'shower cap', (112, 116, 106)), ('IMG_3105.jpg', 'nipple', (144, 115, 91)), ('IMG_4371.jpg', 'cradle', (162, 109, 78)), ('IMG_4401.jpg', 'cradle', (134, 104, 78)), ('IMG_0983.jpg', 'bib', (137, 105, 94)), ('IMG_2223.jpg', 'mosquito net', (130, 97, 98)), ('IMG_2721.jpg', 'cradle', (146, 144, 145)), ('IMG_0197.jpg', 'mosquito net', (157, 139, 122)), ('IMG_7699.jpg', 'bib', (149, 116, 136)), ('IMG_6253.jpg', 'cradle', (122, 100, 97)), ('IMG_4426.jpg', 'mosquito net', (156, 112, 76)), ('IMG_2719.jpg', 'cradle', (114, 112, 114)), ('IMG_4963.jpg', 'bassinet', (115, 103, 94)), ('IMG_0299.jpg', 'bassinet', (148, 107, 87)), ('IMG_2004.jpg', 'oxygen mask', (129, 94, 74)), ('IMG_9199.jpg', 'balance beam', (153, 148, 136)), ('2c58a4d3-14ca-4dcc-ae6f-52d05ca1d0b5.jpg', 'cradle', (159, 143, 115)), ('7c452b15-3c76-4651-9338-43f863166103.jpg', 'toilet tissue', (104, 116, 131)), ('IMG_9615.jpg', 'bow tie', (152, 133, 128)), ('IMG_0707.jpg', 'bib', (148, 125, 128)), ('IMG_0859.jpg', 'plastic bag', (116, 102, 91)), ('IMG_1255.jpg', 'electric ray', (87, 100, 110)), ('2F64977E-64D9-4946-AD0D-B162FD9EDF9C.jpg', 'bathtub', (190, 158, 148)), ('a18953b7-ea2c-4266-b301-fca8f314c6db.jpg', 'shovel', (152, 147, 128)), ('d5484cec-e6c1-40a9-8cde-55ddb1979059.jpg', 'neck brace', (145, 111, 119)), ('7dbf9943-c696-4a22-9e25-0d01f786462d.jpg', 'swing', (102, 116, 62)), ('IMG_2168.jpg', 'diaper', (114, 106, 97)), ('IMG_1042.jpg', 'bathing cap', (179, 146, 130)), ('IMG_0198.jpg', 'diaper', (130, 128, 119)), ('IMG_2745.jpg', 'diaper', (182, 154, 153)), ('IMG_0556.jpg', 'oxygen mask', (109, 89, 78)), ('IMG_9205.jpg', 'cradle', (133, 134, 137)), ('IMG_7866.jpg', 'cradle', (121, 119, 121)), ('lp_image.jpg', 'cowboy hat', (152, 104, 71)), ('IMG_2138.jpg', 'brassiere', (128, 121, 111)), ('IMG_7596.jpg', 'flute', (157, 146, 140)), ('IMG_0439.jpg', 'mosquito net', (104, 98, 83)), ('IMG_4565.jpg', 'bassinet', (185, 139, 116)), ('IMG_7892.jpg', 'mosquito net', (152, 149, 143)), ('IMG_4635.jpg', 'bassinet', (153, 112, 91)), ('IMG_0778.jpg', 'nipple', (134, 116, 98)), ('IMG_0917.jpg', 'groom', (159, 147, 137)), ('IMG_2824.jpg', 'bassinet', (129, 140, 141)), ('lp_image 2.jpg', 'lampshade', (95, 54, 45)), ('IMG_2849.jpg', 'fur coat', (158, 142, 123)), ('IMG_8586.jpg', 'shower cap', (172, 148, 131)), ('IMG_1200.jpg', 'bassinet', (110, 103, 89)), ('IMG_3382.jpg', 'toilet tissue', (120, 104, 97)), ('IMG_7590.jpg', 'harmonica', (140, 140, 139)), ('IMG_2188.jpg', 'bassinet', (120, 111, 106)), ('IMG_1259.jpg', 'bassinet', (147, 105, 95)), ('IMG_2955.jpg', 'cradle', (113, 109, 104)), ('IMG_9787.jpg', 'sunglasses', (153, 152, 155)), ('IMG_1148.jpg', 'cradle', (92, 77, 66)), ('IMG_7822.jpg', 'swing', (158, 155, 153)), ('IMG_2692.jpg', \"potter's wheel\", (156, 151, 148)), ('459ed5ab-dbd4-467e-a9c4-090d53c6016e.jpg', 'parachute', (126, 140, 105)), ('IMG_0052.jpg', 'nipple', (101, 70, 53)), ('CF2A3F76-B9DD-409C-9E77-C80D49494A78.jpg', 'nipple', (116, 94, 78)), ('IMG_2804.jpg', 'Staffordshire bullterrier', (144, 143, 126)), ('IMG_1648.jpg', 'bonnet', (131, 115, 104)), ('IMG_6647-COLLAGE.jpg', 'nipple', (130, 117, 114)), ('IMG_7770.jpg', 'television', (90, 84, 82)), ('IMG_0482.jpg', 'parachute', (99, 91, 76)), ('959d58ca-96fd-467f-9525-f486a9d1bdaa.jpg', 'mosquito net', (165, 159, 147)), ('IMG_2250.jpg', 'sewing machine', (125, 121, 119)), ('IMG_2521.jpg', 'Band Aid', (138, 111, 99)), ('c52e760b-82fe-4ea7-a513-1ee256871c88.jpg', 'cradle', (132, 116, 104)), ('IMG_4441.jpg', 'mosquito net', (148, 110, 83)), ('IMG_1818.jpg', 'hoopskirt', (149, 128, 104)), ('IMG_0117.jpg', 'bassinet', (140, 111, 102)), ('IMG_9322.jpg', 'tub', (155, 153, 142)), ('c9293a06-028a-4bb4-a1b4-ae1e519c74f9.jpg', 'swing', (132, 133, 133)), ('IMG_9022.jpg', 'swing', (122, 133, 107)), ('IMG_2544.jpg', 'diaper', (123, 117, 115)), ('IMG_4374.jpg', 'bassinet', (164, 114, 87)), ('IMG_5064.jpg', 'dishwasher', (129, 117, 101)), ('IMG_7772.jpg', 'plunger', (119, 97, 93)), ('IMG_1738.jpg', 'brassiere', (100, 81, 67)), ('IMG_1391.jpg', 'mosquito net', (134, 122, 110)), ('IMG_9384.jpg', 'wig', (156, 112, 98)), ('IMG_9859.jpg', 'plunger', (160, 145, 127)), ('IMG_4435.jpg', 'cradle', (140, 91, 53)), ('IMG_7319.jpg', 'oxygen mask', (134, 113, 103)), ('IMG_2962.jpg', 'paper towel', (120, 123, 113)), ('IMG_4383.jpg', 'bassinet', (154, 118, 99)), ('2018-09-01 08:22:45 +0000.jpg', 'bassinet', (180, 139, 116)), ('IMG_1239.jpg', 'bassinet', (107, 97, 93)), ('IMG_0550.jpg', 'envelope', (144, 119, 101)), ('IMG_9185.jpg', 'swing', (136, 136, 117)), ('5dba744f-b9ef-4c09-ae9c-bd5a4e70cdc5.jpg', 'mosquito net', (163, 140, 122)), ('IMG_1286.jpg', 'mosquito net', (160, 144, 129)), ('IMG_2464.jpg', 'harmonica', (130, 118, 111)), ('IMG_1737.jpg', 'diaper', (150, 129, 112)), ('IMG_0795.jpg', 'rocking chair', (124, 85, 51)), ('012CCBAA-EA6D-413A-A43A-E011D3951261.jpg', 'bassinet', (151, 104, 81)), ('IMG_0916.jpg', 'bassinet', (153, 130, 115)), ('IMG_0452.jpg', 'bassinet', (131, 103, 109)), ('IMG_5672.jpg', 'oxygen mask', (137, 117, 99)), ('IMG_9823.jpg', 'toilet seat', (104, 108, 108)), ('IMG_2003.jpg', 'bassinet', (135, 102, 84)), ('IMG_2376.jpg', 'crib', (130, 126, 122)), ('IMG_7874.jpg', 'mosquito net', (104, 114, 125)), ('IMG_4442.jpg', 'cradle', (159, 90, 55)), ('IMG_9545.jpg', 'bonnet', (121, 106, 103)), ('063ce82a-f69d-41e9-a3fb-6262cc77d5fa.jpg', 'dining table', (140, 122, 96)), ('IMG_2779.jpg', 'swing', (133, 135, 107)), ('IMG_2187.jpg', 'cradle', (159, 145, 136)), ('ece827ca-3525-45be-9e4e-a9909dc290a3.jpg', 'quilt', (114, 86, 57)), ('IMG_9654.jpg', 'neck brace', (93, 80, 68)), ('IMG_0557.jpg', 'book jacket', (82, 66, 56)), ('IMG_1747.jpg', 'nipple', (95, 79, 75)), ('IMG_2696.jpg', 'overskirt', (122, 102, 92)), ('aed9ccf7-ac05-4992-969e-10ca4eef77d9.jpg', 'envelope', (144, 104, 93)), ('IMG_8156.jpg', 'mosquito net', (72, 81, 53)), ('dc308cce-6876-4a14-949d-7c679b2e3530.jpg', 'parachute', (108, 132, 137)), ('c63a8e3e-d85a-44e2-8fe7-7a5fce8793f1.jpg', 'bib', (109, 97, 91)), ('d6d93d42-5ed3-4c59-81d2-34e5111f3f47.jpg', 'rocking chair', (120, 114, 109)), ('3d8a8691-4025-4604-80b2-4014de30d0c0.jpg', 'barbershop', (107, 103, 95)), ('IMG_0321.jpg', 'cradle', (107, 102, 96)), ('IMG_9368.jpg', 'harmonica', (174, 104, 90)), ('IMG_4365.jpg', 'cradle', (123, 93, 76)), ('9e3b698f-25f3-455b-8b56-52f5d042c806.jpg', 'vault', (93, 86, 90)), ('IMG_4538.jpg', 'swing', (118, 103, 94)), ('IMG_0459-COLLAGE.jpg', 'refrigerator', (129, 115, 103)), ('IMG_7843.jpg', 'cradle', (113, 116, 116)), ('IMG_7312.jpg', 'parachute', (128, 87, 61)), ('IMG_5481.jpg', 'mosquito net', (171, 153, 132)), ('IMG_6102.jpg', 'oxygen mask', (140, 114, 89)), ('IMG_6336.jpg', 'cradle', (139, 115, 96)), ('IMG_7713.jpg', 'bassinet', (123, 109, 94)), ('IMG_9144.jpg', 'swing', (164, 171, 174)), ('eab36d7c-91e6-47cb-b46f-1a38d817f8f6.jpg', 'diaper', (141, 146, 141)), ('3be0cbba-3543-41d2-828a-1aa347428a5a.jpg', 'golfcart', (106, 115, 107)), ('IMG_9888.jpg', 'mosquito net', (118, 109, 110)), ('IMG_7616.jpg', 'bassinet', (140, 117, 103)), ('IMG_1291.jpg', 'hand blower', (127, 114, 103)), ('IMG_5066.jpg', \"potter's wheel\", (136, 129, 115)), ('3d4a92bd-7c88-47eb-8004-a707f37ec0c2.jpg', 'gasmask', (148, 137, 118)), ('IMG_7886.jpg', 'mosquito net', (140, 132, 120)), ('IMG_6432-COLLAGE.jpg', 'envelope', (142, 139, 100)), ('IMG_1232.jpg', 'tub', (116, 101, 87)), ('IMG_3138.jpg', 'syringe', (161, 141, 123)), ('_MGL7478.jpg', 'microphone', (57, 56, 53)), ('IMG_4126.jpg', 'diaper', (159, 134, 110)), ('IMG_9374.jpg', 'Maltese dog', (191, 128, 113)), ('IMG_9229.jpg', 'mosquito net', (135, 126, 120)), ('IMG_0779.jpg', 'studio couch', (167, 171, 175)), ('IMG_9263.jpg', 'cradle', (140, 124, 120)), ('IMG_7862.jpg', 'cradle', (122, 116, 121)), ('0fc1d2fd-d0df-4fa6-a5a0-c1b54edcf2d5.jpg', 'toilet seat', (145, 132, 113)), ('IMG_3666.jpg', 'bathtub', (132, 120, 118)), ('2017-11-03 17:29:19 +0000.jpg', 'harmonica', (146, 131, 114)), ('IMG_1314.jpg', 'toilet tissue', (120, 93, 73)), ('IMG_0985.jpg', 'jigsaw puzzle', (120, 96, 78)), ('IMG_2931.jpg', 'diaper', (114, 126, 106)), ('2017-11-02 18:54:03 +0000.jpg', 'cowboy hat', (146, 123, 103)), ('IMG_0999.jpg', 'cradle', (148, 128, 121)), ('4fa61d87-9a5f-47bf-b671-c2ac33117cd8.jpg', 'Band Aid', (140, 121, 107)), ('IMG_2294.jpg', 'cradle', (71, 67, 65)), ('IMG_6074.jpg', 'cradle', (144, 125, 107)), ('d319c096-d813-4a6d-80de-3dfa5f361b19.jpg', 'racket', (120, 99, 85)), ('IMG_1243.jpg', 'cradle', (87, 81, 75)), ('IMG_9760.jpg', 'television', (141, 136, 127)), ('IMG_3833.jpg', 'neck brace', (120, 99, 87)), ('IMG_2698.jpg', 'cradle', (109, 89, 77)), ('2cb0d49b-af57-4215-b83a-06a6b75d7554.jpg', 'ladle', (151, 130, 117)), ('IMG_3978.jpg', 'bonnet', (183, 115, 115)), ('169eb137-3949-4e20-9a6d-e293a301a6b3.jpg', 'mosquito net', (84, 72, 61)), ('IMG_1856.jpg', 'bakery', (125, 108, 93)), ('IMG_5849.jpg', 'ice lolly', (150, 150, 150)), ('IMG_0309.jpg', 'pajama', (157, 138, 136)), ('IMG_9860.jpg', 'diaper', (160, 144, 123)), ('IMG_7861.jpg', 'iron', (125, 126, 122)), ('IMG_0310.jpg', 'bonnet', (153, 117, 99)), ('IMG_9297.jpg', 'Labrador retriever', (161, 136, 110)), ('nwdn_file_temp_1605642767284.jpg', 'tub', (131, 117, 108)), ('IMG_8317.jpg', 'mosquito net', (113, 102, 95)), ('IMG_0045-COLLAGE.jpg', 'crib', (132, 112, 102)), ('IMG_8704.jpg', 'toilet tissue', (145, 140, 127)), ('IMG_3806.jpg', 'tricycle', (87, 70, 72)), ('IMG_5806-COLLAGE.jpg', 'envelope', (151, 131, 113)), ('IMG_0132.jpg', 'nipple', (149, 135, 127)), ('IMG_4363.jpg', 'cradle', (137, 106, 83)), ('IMG_3342.jpg', 'oxygen mask', (130, 115, 102)), ('IMG_4965.jpg', 'oxygen mask', (130, 106, 96)), ('IMG_0786.jpg', 'cradle', (91, 78, 71)), ('IMG_4373.jpg', 'cradle', (154, 107, 80)), ('IMG_0322.jpg', 'quilt', (152, 137, 121)), ('IMG_3387.jpg', 'oxygen mask', (98, 90, 84)), ('IMG_0320.jpg', 'cradle', (135, 127, 115)), ('IMG_2938.jpg', 'shower cap', (119, 136, 127)), ('IMG_2208.jpg', 'cradle', (148, 129, 116)), ('IMG_9338.jpg', 'bonnet', (161, 136, 124)), ('IMG_9310.jpg', 'ice lolly', (164, 136, 121)), ('IMG_9622.jpg', 'Band Aid', (121, 103, 98)), ('IMG_9613.jpg', 'coffee mug', (108, 101, 99)), ('IMG_6170.jpg', 'neck brace', (127, 129, 121)), ('IMG_9821.jpg', 'mosquito net', (126, 121, 112)), ('IMG_3657.jpg', 'mosquito net', (119, 98, 90)), ('IMG_2137.jpg', 'handkerchief', (111, 93, 90)), ('50366844579__B6057298-4D3D-44DF-B85E-312D9C184D83.jpg', 'bassinet', (76, 73, 74)), ('IMG_9176.jpg', 'bonnet', (139, 107, 106)), ('ad9566ac-d64b-435f-9d36-d3e32d8e1581.jpg', 'toilet tissue', (106, 116, 132)), ('IMG_2199.jpg', 'bow tie', (161, 153, 148)), ('IMG_2211.jpg', 'hoopskirt', (125, 108, 98)), ('IMG_9902.jpg', 'cradle', (106, 91, 91)), ('IMG_5923.jpg', 'shower cap', (151, 118, 105)), ('IMG_2183.jpg', 'bassinet', (146, 136, 132)), ('IMG_4202.jpg', 'piggy bank', (165, 149, 134)), ('7621a132-2d8b-411f-bde1-af977d7c483d.jpg', 'spider web', (47, 70, 92)), ('IMG_1800.jpg', 'swing', (113, 112, 97)), ('IMG_2610.jpg', 'cradle', (128, 125, 123)), ('IMG_9262.jpg', 'cradle', (139, 115, 112)), ('49967733529__7150AAFC-F25B-47DF-A532-B48771140F8C.jpg', 'candle', (106, 94, 85)), ('IMG_2473.jpg', 'tub', (142, 135, 133)), ('IMG_1780.jpg', 'cradle', (146, 146, 146)), ('IMG_6321.jpg', 'swing', (107, 91, 76)), ('IMG_0034.jpg', 'nipple', (120, 108, 99)), ('IMG_6278.jpg', \"potter's wheel\", (99, 84, 69)), ('IMG_3391.jpg', 'diaper', (113, 110, 107)), ('IMG_2297.jpg', 'oxygen mask', (71, 68, 63)), ('4c40c2e1-4d84-4236-8891-519fe092eeed.jpg', 'tricycle', (116, 113, 113)), ('IMG_8154.jpg', 'mosquito net', (77, 92, 65)), ('bba01d8c-4a96-437f-988f-3a9fcf44dd63.jpg', 'golfcart', (108, 116, 109)), ('IMG_2767.jpg', 'mosquito net', (111, 101, 83)), ('IMG_1570.jpg', 'diaper', (59, 52, 48)), ('IMG_0575.jpg', 'swing', (120, 102, 83)), ('IMG_2834.jpg', 'bassinet', (136, 131, 123)), ('IMG_7586.jpg', 'lab coat', (173, 154, 159)), ('IMG_2422.jpg', 'brassiere', (101, 95, 90)), ('IMG_2502.jpg', 'quilt', (123, 115, 105)), ('IMG_3099.jpg', 'tub', (144, 126, 122)), ('IMG_0902.jpg', 'shower cap', (100, 97, 70)), ('72381e52-f340-4b35-b5da-5a33ac3f7951.jpg', 'shovel', (146, 134, 116)), ('a912cde1-4a66-4094-8379-7b6d4a304143.jpg', 'bib', (145, 128, 124)), ('0c0cea51-c3e2-442c-acbd-2aaef7b89297.jpg', 'swab', (160, 144, 128)), ('e0e3ebe9-b803-486b-945b-00650197cb88.jpg', 'bassinet', (122, 121, 107)), ('Nora_HDR.jpg', 'bib', (131, 106, 111)), ('IMG_4834.jpg', 'hand blower', (160, 129, 106)), ('IMG_9797.jpg', 'shower curtain', (101, 97, 94)), ('IMG_5894.jpg', 'oxcart', (93, 86, 61)), ('53b6348b-3cca-4b6d-a40d-ae1ed64de287.jpg', 'Band Aid', (164, 132, 110)), ('IMG_2133.jpg', 'paper towel', (142, 124, 106)), ('IMG_3163.jpg', 'bonnet', (143, 126, 114)), ('IMG_9067.jpg', 'sandal', (176, 169, 169)), ('IMG_7592.jpg', 'bubble', (152, 151, 144)), ('IMG_2141.jpg', 'nipple', (126, 82, 80)), ('IMG_9328.jpg', 'wig', (194, 159, 137)), ('IMG_4330.jpg', 'cradle', (123, 79, 61)), ('IMG_4551.jpg', 'mosquito net', (132, 122, 101)), ('IMG_2901.jpg', 'tricycle', (143, 132, 113)), ('IMG_9017.jpg', 'swing', (129, 122, 129)), ('IMG_1752.jpg', 'cradle', (127, 104, 90)), ('60475258855__E69D0448-5F14-4136-8D67-FA79B64C15EB.jpg', 'oxygen mask', (130, 109, 97)), ('IMG_2400.jpg', 'spatula', (158, 141, 125)), ('IMG_2470.jpg', \"potter's wheel\", (138, 111, 101)), ('IMG_2229.jpg', 'diaper', (115, 109, 105)), ('IMG_9894.jpg', 'cradle', (110, 96, 98)), ('IMG_2645.jpg', 'cradle', (129, 125, 125)), ('IMG_4304.jpg', 'toilet seat', (123, 107, 90)), ('IMG_9658.jpg', 'sunglasses', (185, 171, 167)), ('IMG_1980.jpg', 'oxygen mask', (127, 114, 103)), ('IMG_2872.jpg', 'cradle', (73, 63, 54)), ('IMG_4960.jpg', 'oxygen mask', (111, 113, 108)), ('2018-05-25 14:43:59 +0000.jpg', 'cradle', (120, 99, 86)), ('B9DF72A1-8A32-4323-8763-A8EFD168B02B.jpg', 'nipple', (183, 140, 128)), ('IMG_6168.jpg', 'suit', (133, 134, 133)), ('IMG_1205.jpg', 'book jacket', (129, 118, 102)), ('56908193302__CC7AE897-D15A-4D87-AB22-6041D3054227.jpg', 'bassinet', (141, 119, 95)), ('IMG_7008.jpg', 'bassinet', (131, 111, 96)), ('IMG_1497.jpg', 'neck brace', (131, 73, 33)), ('IMG_2857.jpg', 'oxygen mask', (149, 115, 90)), ('d6e80cf4-2bd5-4a01-be4e-a4ba5efda34e.jpg', 'guacamole', (133, 99, 73)), ('FD9ABD88-835A-4677-B9D2-649145328CFD.jpg', 'book jacket', (76, 69, 65)), ('40caabaa-cfb9-4895-9ac2-10de4f51750e.jpg', 'Dutch oven', (128, 121, 97)), ('IMG_5918.jpg', 'brassiere', (141, 107, 98)), ('IMG_0834.jpg', 'bassinet', (93, 85, 78)), ('IMG_2873.jpg', 'broom', (135, 144, 122)), ('IMG_6146.jpg', 'mosquito net', (110, 93, 78)), ('IMG_9652.jpg', 'sunglasses', (173, 163, 161)), ('IMG_9351.jpg', 'wig', (165, 147, 141)), ('IMG_9612.jpg', 'neck brace', (127, 111, 98)), ('IMG_8144.jpg', 'swing', (111, 105, 98)), ('IMG_2653.jpg', 'oxygen mask', (139, 128, 124)), ('IMG_2937.jpg', 'diaper', (124, 144, 135)), ('IMG_2140.jpg', 'hand blower', (93, 92, 94)), ('IMG_1311.jpg', 'bonnet', (113, 124, 122)), ('IMG_7860.jpg', 'bonnet', (132, 113, 124)), ('IMG_9290.jpg', 'neck brace', (117, 100, 85)), ('IMG_5991.jpg', 'hair slide', (97, 79, 68)), ('IMG_1316.jpg', 'diaper', (78, 94, 104)), ('IMG_2958.jpg', 'sunglasses', (109, 101, 92)), ('IMG_2778.jpg', 'mosquito net', (111, 112, 93)), ('08CD421C-5899-494E-8D60-00B986A6C402.jpg', 'suit', (67, 65, 65)), ('IMG_9350.jpg', 'wig', (164, 148, 139)), ('5858a965-f7ee-4880-806e-6b15dd5f6a20.jpg', 'tub', (55, 72, 72)), ('IMG_1628.jpg', 'Staffordshire bullterrier', (93, 93, 79)), ('IMG_9843.jpg', 'oxygen mask', (138, 91, 63)), ('IMG_0902 2.jpg', 'jellyfish', (129, 110, 94)), ('f3436aac-28ff-4c16-a65f-e10207dca266.jpg', 'Dutch oven', (129, 122, 109)), ('IMG_8164.jpg', 'cradle', (139, 115, 101)), ('IMG_4468.jpg', 'toilet tissue', (144, 110, 88)), ('7befb687-7232-4db9-ae6b-688d80a90b23.jpg', 'mosquito net', (18, 72, 63)), ('IMG_4134.jpg', 'mosquito net', (140, 120, 103)), ('IMG_3432.jpg', 'nipple', (141, 122, 123)), ('IMG_2204.jpg', 'nipple', (191, 181, 176)), ('IMG_0031.jpg', 'bubble', (79, 66, 57)), ('IMG_4885.jpg', 'cradle', (110, 85, 70)), ('IMG_6107.jpg', 'parachute', (136, 109, 92)), ('12345f3c-bbdc-4675-a25e-c4e99f48fde1.jpg', 'cradle', (95, 100, 102)), ('59c715ce-cc66-4e07-be3f-7b0e30f5546e.jpg', 'Band Aid', (139, 122, 110)), ('IMG_8118.jpg', 'cowboy hat', (127, 116, 99)), ('96570e0f-4df4-4617-b3da-e472a1158175.jpg', 'mosquito net', (135, 111, 85)), ('IMG_7854.jpg', 'shower curtain', (134, 127, 140)), ('IMG_0248.jpg', 'bib', (132, 63, 76)), ('56026719030__3E85E823-DF9B-4587-9BD9-9D7A55D7799C.jpg', 'paper towel', (136, 111, 98)), ('IMG_1495.jpg', 'diaper', (145, 124, 126)), ('IMG_0804.jpg', 'diaper', (100, 78, 57)), ('IMG_4125.jpg', 'mosquito net', (97, 128, 85)), ('IMG_2243.jpg', 'mosquito net', (134, 107, 87)), ('IMG_0319.jpg', 'tray', (162, 140, 110)), ('IMG_1657.jpg', 'mosquito net', (118, 81, 69)), ('IMG_9892.jpg', 'mosquito net', (121, 106, 108)), ('IMG_2709-COLLAGE.jpg', 'dishwasher', (148, 133, 120)), ('2017-11-02 18:03:01 +0000.jpg', 'rocking chair', (131, 137, 121)), ('IMG_2993.jpg', 'military uniform', (114, 108, 100)), ('51927936834__A5C7C955-30E3-4E68-964E-91AAB2005ADA.jpg', 'shower cap', (133, 109, 100))]\n"
          ]
        }
      ]
    }
  ]
}